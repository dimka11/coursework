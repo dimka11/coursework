{
 "cells": [
  {
   "cell_type": "code",
   "execution_count": 1,
   "metadata": {
    "pycharm": {
     "is_executing": false
    }
   },
   "outputs": [],
   "source": [
    "import os\n",
    "os.chdir(\"B:/Projects/CourseWork/HTMLCSV/Gismeteo/data\")"
   ]
  },
  {
   "cell_type": "code",
   "execution_count": 4,
   "metadata": {},
   "outputs": [],
   "source": [
    "#old code:\n",
    "import requests\n",
    "year = 1998\n",
    "month = 1\n",
    "url = 'https://www.gismeteo.ru/diary/4578/%d/%d/' % (year, month)\n",
    "headers = {\n",
    "        'User-Agent': 'Mozilla/5.0 (Macintosh; Intel Mac OS X 10.9; rv:45.0) Gecko/20100101 Firefox/45.0'\n",
    "      }\n",
    "r = requests.get(url, headers = headers)\n",
    "\n",
    "#with open('test.html', 'w', encoding='utf8') as output_file:\n",
    "#  output_file.write(r.text)"
   ]
  },
  {
   "cell_type": "code",
   "execution_count": 7,
   "metadata": {},
   "outputs": [],
   "source": [
    "# download html\n",
    "import requests\n",
    "headers = {\n",
    "        'User-Agent': 'Mozilla/5.0 (Macintosh; Intel Mac OS X 10.9; rv:45.0) Gecko/20100101 Firefox/45.0'\n",
    "      }\n",
    "\n",
    "for i in range(1997, 2019 + 1):\n",
    "    for j in range(1, 12 + 1):\n",
    "        url = f'https://www.gismeteo.ru/diary/4578/{i}/{j}/'\n",
    "        r = requests.get(url, headers = headers)\n",
    "        with open(f'{i}/{j}{i}.html', 'w', encoding='utf8') as output_file:\n",
    "            output_file.write(r.text)\n",
    "    "
   ]
  },
  {
   "cell_type": "code",
   "execution_count": 3,
   "metadata": {},
   "outputs": [],
   "source": [
    "#parse single html file\n",
    "from bs4 import BeautifulSoup\n",
    "\n",
    "soup = BeautifulSoup(open(\"1997/41997.html\", 'rb'), \"lxml\")\n",
    "soup = soup.find(id='data_block')\n",
    "soup = soup.findAll('table')[0]\n",
    "soup = soup.findAll('tbody')[0]\n",
    "soup = soup.findAll('tr')"
   ]
  },
  {
   "cell_type": "code",
   "execution_count": 4,
   "metadata": {},
   "outputs": [
    {
     "name": "stdout",
     "output_type": "stream",
     "text": [
      "1\n",
      "2\n",
      "3\n",
      "4\n",
      "5\n",
      "6\n",
      "7\n",
      "8\n",
      "9\n",
      "10\n",
      "11\n",
      "12\n",
      "13\n",
      "14\n",
      "15\n",
      "16\n",
      "17\n",
      "18\n",
      "19\n",
      "20\n",
      "21\n",
      "22\n",
      "23\n",
      "24\n",
      "25\n",
      "26\n",
      "27\n",
      "28\n",
      "29\n",
      "30\n"
     ]
    }
   ],
   "source": [
    "for td in soup:\n",
    "    # get days\n",
    "    day = td.findAll(\"td\")[0].text\n",
    "    print(day)\n"
   ]
  },
  {
   "cell_type": "code",
   "execution_count": 5,
   "metadata": {},
   "outputs": [
    {
     "name": "stdout",
     "output_type": "stream",
     "text": [
      "date:  Дневник погоды в Омске за Апрель 1997 г.\n",
      "\n",
      "day: 1\n",
      "temp: +3\n",
      "pressure: 750\n",
      "overcast: sunc\n",
      "phenomena: \n",
      "wind: ЮЗ 3м/с\n",
      "wind direction: w5\n",
      "\n",
      "temp: +9\n",
      "pressure: 750\n",
      "overcast: dull\n",
      "phenomena: \n",
      "wind: ЮЗ 3м/с\n",
      "wind direction: w5\n",
      "\n",
      "-----------------\n"
     ]
    }
   ],
   "source": [
    "import ntpath\n",
    "\n",
    "afternoon_phenomena = ''\n",
    "afternoon_wind_dir = ''\n",
    "evening_wind_dir = ''\n",
    "\n",
    "day = soup[0].findAll(\"td\")[0].text\n",
    "afternoon_temp = soup[0].findAll(\"td\")[1].text\n",
    "afternoon_pressure = soup[0].findAll(\"td\")[2].text\n",
    "afternoon_overcast = os.path.splitext(ntpath.basename(soup[0].findAll(\"td\")[3].findAll(\"img\")[0]['src']))[0]\n",
    "try:\n",
    "    afternoon_phenomena = os.path.splitext(ntpath.basename(soup[0].findAll(\"td\")[4].findAll(\"img\")[0]['src']))[0]\n",
    "except:\n",
    "    pass\n",
    "afternoon_wind = soup[0].findAll(\"td\")[5].findAll(\"span\")[0].text.strip()\n",
    "try:\n",
    "    afternoon_wind_dir = os.path.splitext(ntpath.basename(soup[0].findAll(\"td\")[5].findAll(\"img\")[0]['src']))[0]\n",
    "except:\n",
    "    pass\n",
    "evening_phenomena = ''\n",
    "evening_temp = soup[6].findAll(\"td\")[1].text\n",
    "evening_pressure = soup[7].findAll(\"td\")[2].text\n",
    "evening_overcast = os.path.splitext(ntpath.basename(soup[8].findAll(\"td\")[3].findAll(\"img\")[0]['src']))[0]\n",
    "try:\n",
    "    evening_phenomena = os.path.splitext(ntpath.basename(soup[9].findAll(\"td\")[4].findAll(\"img\")[0]['src']))[0]\n",
    "except:\n",
    "    pass\n",
    "evening_wind = soup[0].findAll(\"td\")[10].findAll(\"span\")[0].text.strip()\n",
    "try:\n",
    "    evening_wind_dir = os.path.splitext(ntpath.basename(soup[0].findAll(\"td\")[10].findAll(\"img\")[0]['src']))[0]\n",
    "except:\n",
    "    pass\n",
    "\n",
    "#daytime\n",
    "# month + year\n",
    "html = BeautifulSoup(open(\"1997/41997.html\", 'rb'), \"lxml\")\n",
    "monthyear = html.select('#page_title > h1')[0].string\n",
    "print(f'date: {monthyear}')\n",
    "print('')\n",
    "print(f'day: {day}')\n",
    "print(f'temp: {afternoon_temp}')\n",
    "print(f'pressure: {afternoon_pressure}')\n",
    "print(f'overcast: {afternoon_overcast}')\n",
    "print(f'phenomena: {afternoon_phenomena}')\n",
    "print(f'wind: {afternoon_wind}')\n",
    "print(f'wind direction: {afternoon_wind_dir}')\n",
    "print('')\n",
    "#evening\n",
    "print(f'temp: {evening_temp}')\n",
    "print(f'pressure: {evening_pressure}')\n",
    "print(f'overcast: {evening_overcast}')\n",
    "print(f'phenomena: {evening_phenomena}')\n",
    "print(f'wind: {evening_wind}')\n",
    "print(f'wind direction: {evening_wind_dir}')\n",
    "print('')\n",
    "print('-----------------')"
   ]
  },
  {
   "cell_type": "code",
   "execution_count": 6,
   "metadata": {},
   "outputs": [],
   "source": [
    "# dull Пасмурно\n",
    "# sunc Малооблачно\n",
    "# sunc1 Облачно\n",
    "# sun Ясно\n",
    "\n",
    "# rain дождь\n",
    "# snow снег\n",
    "# storm гроза"
   ]
  },
  {
   "cell_type": "code",
   "execution_count": 20,
   "metadata": {
    "pycharm": {
     "is_executing": true
    }
   },
   "outputs": [
    {
     "data": {
      "text/html": [
       "<div>\n",
       "<style scoped>\n",
       "    .dataframe tbody tr th:only-of-type {\n",
       "        vertical-align: middle;\n",
       "    }\n",
       "\n",
       "    .dataframe tbody tr th {\n",
       "        vertical-align: top;\n",
       "    }\n",
       "\n",
       "    .dataframe thead th {\n",
       "        text-align: right;\n",
       "    }\n",
       "</style>\n",
       "<table border=\"1\" class=\"dataframe\">\n",
       "  <thead>\n",
       "    <tr style=\"text-align: right;\">\n",
       "      <th></th>\n",
       "      <th>datetime</th>\n",
       "      <th>day</th>\n",
       "      <th>afternoon_temp</th>\n",
       "      <th>afternoon_pressure</th>\n",
       "      <th>afternoon_overcast</th>\n",
       "      <th>afternoon_phenomena</th>\n",
       "      <th>afternoon_wind</th>\n",
       "      <th>afternoon_wind_dir</th>\n",
       "      <th>evening_temp</th>\n",
       "      <th>evening_pressure</th>\n",
       "      <th>evening_overcast</th>\n",
       "      <th>evening_phenomena</th>\n",
       "      <th>evening_wind</th>\n",
       "      <th>evening_wind_dir</th>\n",
       "    </tr>\n",
       "  </thead>\n",
       "  <tbody>\n",
       "    <tr>\n",
       "      <th>0</th>\n",
       "      <td>Дневник погоды в Омске за Апрель 1997 г.</td>\n",
       "      <td>1</td>\n",
       "      <td>+3</td>\n",
       "      <td>750</td>\n",
       "      <td>sunc</td>\n",
       "      <td></td>\n",
       "      <td>ЮЗ 3м/с</td>\n",
       "      <td>w5</td>\n",
       "      <td>+9</td>\n",
       "      <td>750</td>\n",
       "      <td>dull</td>\n",
       "      <td></td>\n",
       "      <td>ЮЗ 3м/с</td>\n",
       "      <td>w5</td>\n",
       "    </tr>\n",
       "  </tbody>\n",
       "</table>\n",
       "</div>"
      ],
      "text/plain": [
       "                                    datetime day afternoon_temp  \\\n",
       "0   Дневник погоды в Омске за Апрель 1997 г.   1             +3   \n",
       "\n",
       "  afternoon_pressure afternoon_overcast afternoon_phenomena afternoon_wind  \\\n",
       "0                750               sunc                            ЮЗ 3м/с   \n",
       "\n",
       "  afternoon_wind_dir evening_temp evening_pressure evening_overcast  \\\n",
       "0                 w5           +9              750             dull   \n",
       "\n",
       "  evening_phenomena evening_wind evening_wind_dir  \n",
       "0                        ЮЗ 3м/с               w5  "
      ]
     },
     "execution_count": 20,
     "metadata": {},
     "output_type": "execute_result"
    }
   ],
   "source": [
    "import pandas as pd\n",
    "pd.DataFrame()\n",
    "col_names =  ['datetime','day', 'afternoon_temp', 'afternoon_pressure', 'afternoon_overcast', 'afternoon_phenomena', 'afternoon_wind', 'afternoon_wind_dir', 'evening_temp', 'evening_pressure', 'evening_overcast', 'evening_phenomena', 'evening_wind', 'evening_wind_dir']\n",
    "data = [monthyear, day, afternoon_temp, afternoon_pressure, afternoon_overcast, afternoon_phenomena, afternoon_wind, afternoon_wind_dir, evening_temp, evening_pressure, evening_overcast, evening_phenomena, evening_wind, evening_wind_dir]\n",
    "\n",
    "df = pd.DataFrame([data], columns = col_names)\n",
    "df.head()\n",
    "\n",
    "#newDF = newDF.append(my_df, ignore_index = True\n",
    "#data = []\n",
    "#for a, b, c in some_function_that_yields_data():\n",
    "#   data.append([a, b, c])\n",
    "#df = pd.DataFrame(data, columns=['A', 'B', 'C'])"
   ]
  },
  {
   "cell_type": "code",
   "execution_count": null,
   "metadata": {},
   "outputs": [],
   "source": []
  }
 ],
 "metadata": {
  "kernelspec": {
   "display_name": "Python 3",
   "language": "python",
   "name": "python3"
  },
  "language_info": {
   "codemirror_mode": {
    "name": "ipython",
    "version": 3
   },
   "file_extension": ".py",
   "mimetype": "text/x-python",
   "name": "python",
   "nbconvert_exporter": "python",
   "pygments_lexer": "ipython3",
   "version": "3.6.8"
  },
  "pycharm": {
   "stem_cell": {
    "cell_type": "raw",
    "metadata": {
     "collapsed": false
    },
    "source": []
   }
  }
 },
 "nbformat": 4,
 "nbformat_minor": 1
}

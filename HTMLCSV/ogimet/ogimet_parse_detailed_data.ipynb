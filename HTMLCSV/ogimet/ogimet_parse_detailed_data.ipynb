{
 "cells": [
  {
   "cell_type": "code",
   "execution_count": 28,
   "metadata": {
    "pycharm": {
     "is_executing": false
    }
   },
   "outputs": [
    {
     "name": "stdout",
     "output_type": "stream",
     "text": [
      "Date/hour of observation (*) 01/01/2000 at 00:00 UTC\n",
      "Identification letters of the report FM 12âXI Ext. SYNOP. Land Station\n"
     ]
    }
   ],
   "source": [
    "import os\n",
    "os.chdir(\"B:/Projects/CourseWork/coursework/HTMLCSV/ogimet/new_data/detailed\")\n",
    "\n",
    "from bs4 import BeautifulSoup\n",
    "import pandas as pd\n",
    "import datetime\n",
    "import ntpath\n",
    "\n",
    "m_df = pd.DataFrame()\n",
    "\n",
    "# replace to 1999, 2020 + 1,   1, 12 + 1     1,31 + 1 [0, 3, 6, 9, 12, 15, 18, 21]\n",
    "for year in range(2000, 2000 + 1):\n",
    "    for month in range(1, 1 + 1):\n",
    "        for day in range(1,1 + 1):\n",
    "            for hour in [0]:\n",
    "                file = ''\n",
    "                try:\n",
    "                    file = open(f'{year}/{month}_{day}_{hour}.html', 'rb')\n",
    "                except:\n",
    "                    print(file)\n",
    "                    pass\n",
    "                data = []\n",
    "                col_names = ['disc', 'first', 'second']\n",
    "\n",
    "                soup = BeautifulSoup(file, \"lxml\")\n",
    "                soup = soup.select('body > table > tr:nth-child(2) > td:nth-child(2)')[0]\n",
    "                try:\n",
    "                    descripton = str(soup.select('table:nth-child(1) > tr > td > pre')[0].string)\n",
    "                    first_ = str(soup.select('table:nth-child(2) > tr > td > b')[0].string)\n",
    "                    first = str(soup.select('table:nth-child(2) > tr > td > font:nth-child(3) > i')[0].string)\n",
    "                    second_ = str(soup.select('table:nth-child(3) > tr > td:nth-child(2) > b')[0].string)\n",
    "                    second = str(soup.select('table:nth-child(3) > tr > td:nth-child(2) > font > i')[0].string)\n",
    "                    \n",
    "                    # for debug:\n",
    "                    print(f'{first_} {first}')\n",
    "                    print(f'{second_} {second}')\n",
    "                    \n",
    "                    data.append({'disc': descripton, 'first': first, 'second': second})\n",
    "                    \n",
    "                except:\n",
    "                    print(file)\n",
    "                    raise\n",
    "                                \n",
    "                df = pd.DataFrame(data, columns = col_names)\n",
    "                \n",
    "                if m_df.empty:\n",
    "                    m_df = df\n",
    "                else:\n",
    "                    m_df = m_df.append(df, ignore_index=True)\n",
    "\n",
    "\n",
    "m_df.to_csv('detailed_weather_reports.csv')"
   ]
  },
  {
   "cell_type": "code",
   "execution_count": 26,
   "metadata": {},
   "outputs": [
    {
     "data": {
      "text/html": [
       "<div>\n",
       "<style scoped>\n",
       "    .dataframe tbody tr th:only-of-type {\n",
       "        vertical-align: middle;\n",
       "    }\n",
       "\n",
       "    .dataframe tbody tr th {\n",
       "        vertical-align: top;\n",
       "    }\n",
       "\n",
       "    .dataframe thead th {\n",
       "        text-align: right;\n",
       "    }\n",
       "</style>\n",
       "<table border=\"1\" class=\"dataframe\">\n",
       "  <thead>\n",
       "    <tr style=\"text-align: right;\">\n",
       "      <th></th>\n",
       "      <th>disc</th>\n",
       "      <th>first</th>\n",
       "      <th>second</th>\n",
       "    </tr>\n",
       "  </thead>\n",
       "  <tbody>\n",
       "    <tr>\n",
       "      <th>0</th>\n",
       "      <td>200001010000 AAXX 01001 28698 41599 80707 1126...</td>\n",
       "      <td>01/01/2000 at 00:00 UTC</td>\n",
       "      <td>FM 12âXI Ext. SYNOP. Land Station</td>\n",
       "    </tr>\n",
       "  </tbody>\n",
       "</table>\n",
       "</div>"
      ],
      "text/plain": [
       "                                                disc                    first  \\\n",
       "0  200001010000 AAXX 01001 28698 41599 80707 1126...  01/01/2000 at 00:00 UTC   \n",
       "\n",
       "                                second  \n",
       "0  FM 12âXI Ext. SYNOP. Land Station  "
      ]
     },
     "execution_count": 26,
     "metadata": {},
     "output_type": "execute_result"
    }
   ],
   "source": [
    "m_df"
   ]
  },
  {
   "cell_type": "code",
   "execution_count": null,
   "metadata": {},
   "outputs": [],
   "source": []
  }
 ],
 "metadata": {
  "kernelspec": {
   "display_name": "Python 3",
   "language": "python",
   "name": "python3"
  },
  "language_info": {
   "codemirror_mode": {
    "name": "ipython",
    "version": 3
   },
   "file_extension": ".py",
   "mimetype": "text/x-python",
   "name": "python",
   "nbconvert_exporter": "python",
   "pygments_lexer": "ipython3",
   "version": "3.6.8"
  }
 },
 "nbformat": 4,
 "nbformat_minor": 2
}

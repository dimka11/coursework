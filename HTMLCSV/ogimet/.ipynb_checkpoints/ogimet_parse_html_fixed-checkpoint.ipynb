{
 "cells": [
  {
   "cell_type": "code",
   "execution_count": 4,
   "metadata": {},
   "outputs": [],
   "source": [
    "# parse all files\n",
    "\n",
    "import os\n",
    "from bs4 import BeautifulSoup\n",
    "os.chdir(\"B:/Projects/CourseWork/coursework/HTMLCSV/ogimet/data\")"
   ]
  },
  {
   "cell_type": "code",
   "execution_count": null,
   "metadata": {},
   "outputs": [],
   "source": [
    "# all files # unfixed\n",
    "\n",
    "import os\n",
    "os.chdir(\"B:/Projects/CourseWork/coursework/HTMLCSV/ogimet/data\")\n",
    "\n",
    "import pandas as pd\n",
    "import datetime\n",
    "import ntpath\n",
    "from bs4 import BeautifulSoup\n",
    "\n",
    "m_df = pd.DataFrame()\n",
    "\n",
    "for year in range(1999, 2020 + 1):\n",
    "    for month in range(1, 12 + 1):\n",
    "        file = ''\n",
    "        try:\n",
    "            file = open(f'{year}/{month}{year}.html', 'rb')\n",
    "        except:\n",
    "            continue\n",
    "        \n",
    "        \n",
    "        # reversed and append to dataframe\n",
    "        # append to dataframe\n",
    "        data = []\n",
    "        col_names = ['date', 'time', 'T', 'Tmax', 'Tmin']\n",
    "\n",
    "        soup = BeautifulSoup(file, \"lxml\")\n",
    "        soup = soup.select('body > table> tr:nth-child(2) > td:nth-child(2) > table:nth-child(2) > thead')[0]\n",
    "\n",
    "        for i, tr in enumerate(reversed(soup.findAll(\"tr\"))):\n",
    "            if i == len(soup.findAll(\"tr\")) - 1:\n",
    "                continue\n",
    "            try:\n",
    "                date = str(tr.select('td:nth-child(1) > a')[0].string)\n",
    "                time = str(tr.select('td:nth-child(2) > a')[0].string)\n",
    "                T = str(tr.select('td:nth-child(3)')[0].string)\n",
    "                Tmax = str(tr.select('td:nth-child(5)')[0].string)\n",
    "                Tmin = str(tr.select('td:nth-child(6)')[0].string)\n",
    "            #     print(date, end = ' ')\n",
    "            #     print(time, end = ' ')\n",
    "            #     print(temp)\n",
    "                data.append({'date': date, 'time': time, 'T': T, 'Tmax': Tmax, 'Tmin': Tmin})\n",
    "            except:\n",
    "                print(file)\n",
    "                raise\n",
    "\n",
    "        df = pd.DataFrame(data, columns = col_names)\n",
    "        if m_df.empty:\n",
    "            m_df = df\n",
    "        else:\n",
    "            m_df = m_df.append(df, ignore_index=True)\n",
    "\n",
    "m_df.drop_duplicates()\n",
    "m_df.to_csv('weather1.csv')"
   ]
  },
  {
   "cell_type": "code",
   "execution_count": 5,
   "metadata": {},
   "outputs": [
    {
     "ename": "NameError",
     "evalue": "name 'soup' is not defined",
     "output_type": "error",
     "traceback": [
      "\u001b[1;31m---------------------------------------------------------------------------\u001b[0m",
      "\u001b[1;31mNameError\u001b[0m                                 Traceback (most recent call last)",
      "\u001b[1;32m<ipython-input-5-11bfdb6fe882>\u001b[0m in \u001b[0;36m<module>\u001b[1;34m\u001b[0m\n\u001b[0;32m      1\u001b[0m \u001b[1;31m# get parameters\u001b[0m\u001b[1;33m\u001b[0m\u001b[1;33m\u001b[0m\u001b[1;33m\u001b[0m\u001b[0m\n\u001b[0;32m      2\u001b[0m \u001b[0mparams_list\u001b[0m \u001b[1;33m=\u001b[0m \u001b[1;33m[\u001b[0m\u001b[1;33m]\u001b[0m\u001b[1;33m\u001b[0m\u001b[1;33m\u001b[0m\u001b[0m\n\u001b[1;32m----> 3\u001b[1;33m \u001b[1;32mfor\u001b[0m \u001b[0mi\u001b[0m \u001b[1;32min\u001b[0m \u001b[1;33m(\u001b[0m\u001b[0msoup\u001b[0m\u001b[1;33m.\u001b[0m\u001b[0mselect\u001b[0m\u001b[1;33m(\u001b[0m\u001b[1;34m'tr:nth-child(1)'\u001b[0m\u001b[1;33m)\u001b[0m\u001b[1;33m[\u001b[0m\u001b[1;36m0\u001b[0m\u001b[1;33m]\u001b[0m\u001b[1;33m)\u001b[0m\u001b[1;33m.\u001b[0m\u001b[0mfind_all\u001b[0m\u001b[1;33m(\u001b[0m\u001b[1;34m'th'\u001b[0m\u001b[1;33m)\u001b[0m\u001b[1;33m:\u001b[0m\u001b[1;33m\u001b[0m\u001b[1;33m\u001b[0m\u001b[0m\n\u001b[0m\u001b[0;32m      4\u001b[0m     \u001b[0mparams_list\u001b[0m\u001b[1;33m.\u001b[0m\u001b[0mappend\u001b[0m\u001b[1;33m(\u001b[0m\u001b[0mi\u001b[0m\u001b[1;33m.\u001b[0m\u001b[0mtext\u001b[0m\u001b[1;33m)\u001b[0m\u001b[1;33m\u001b[0m\u001b[1;33m\u001b[0m\u001b[0m\n\u001b[0;32m      5\u001b[0m \u001b[1;33m\u001b[0m\u001b[0m\n",
      "\u001b[1;31mNameError\u001b[0m: name 'soup' is not defined"
     ]
    }
   ],
   "source": [
    "# get parameters\n",
    "params_list = []\n",
    "for i in (soup.select('tr:nth-child(1)')[0]).find_all('th'):\n",
    "    params_list.append(i.text)\n",
    "\n",
    "len(params_list)"
   ]
  },
  {
   "cell_type": "code",
   "execution_count": null,
   "metadata": {},
   "outputs": [],
   "source": [
    "#\n"
   ]
  },
  {
   "cell_type": "code",
   "execution_count": null,
   "metadata": {
    "pycharm": {
     "name": "#%%\n"
    }
   },
   "outputs": [],
   "source": [
    "#\n"
   ]
  },
  {
   "cell_type": "code",
   "execution_count": null,
   "metadata": {
    "pycharm": {
     "name": "#%%\n"
    }
   },
   "outputs": [],
   "source": [
    "#\n"
   ]
  },
  {
   "cell_type": "code",
   "execution_count": null,
   "metadata": {
    "pycharm": {
     "name": "#%%\n"
    }
   },
   "outputs": [],
   "source": [
    "# load\n",
    "import pandas as pd\n",
    "import numpy as np\n",
    "import os\n",
    "os.chdir(\"B:/Projects/CourseWork/coursework/HTMLCSV/ogimet/data\")\n",
    "\n",
    "df = pd.read_csv('weather1.csv', index_col=0)\n",
    "df['date'] = pd.to_datetime(df['date'], format=\"%m/%d/%Y\")\n",
    "df['time'] = pd.to_datetime(df.time,format='%H:%M').dt.time\n",
    "\n",
    "# replace '-----' to nan\n",
    "df['T'].replace('-----', np.nan, inplace=True)\n",
    "df['Tmax'].replace('-----', np.nan, inplace=True)\n",
    "df['Tmin'].replace('-----', np.nan, inplace=True)\n",
    "\n",
    "df['T'] = df['T'].astype(float)\n",
    "df['Tmax'] = df['Tmax'].astype(float)\n",
    "df['Tmin'] = df['Tmin'].astype(float)\n",
    "\n",
    "df.tail(10)"
   ]
  },
  {
   "cell_type": "code",
   "execution_count": null,
   "metadata": {},
   "outputs": [],
   "source": [
    "# load\n",
    "import pandas as pd\n",
    "import numpy as np\n",
    "import os\n",
    "os.chdir(\"B:/Projects/CourseWork/coursework/HTMLCSV/ogimet/data\")\n",
    "\n",
    "df = pd.read_csv('weather1.csv', index_col=0)\n",
    "df['date'] = pd.to_datetime(df['date'], format=\"%m/%d/%Y\")\n",
    "df['time'] = pd.to_datetime(df.time,format='%H:%M').dt.time\n",
    "\n",
    "# replace '-----' to nan\n",
    "df['T'].replace('-----', np.nan, inplace=True)\n",
    "df['Tmax'].replace('-----', np.nan, inplace=True)\n",
    "df['Tmin'].replace('-----', np.nan, inplace=True)\n",
    "\n",
    "df['T'] = df['T'].astype(float)\n",
    "df['Tmax'] = df['Tmax'].astype(float)\n",
    "df['Tmin'] = df['Tmin'].astype(float)\n",
    "\n",
    "df.tail(10)"
   ]
  },
  {
   "cell_type": "code",
   "execution_count": null,
   "metadata": {},
   "outputs": [],
   "source": [
    "#\n"
   ]
  },
  {
   "cell_type": "code",
   "execution_count": null,
   "metadata": {},
   "outputs": [],
   "source": [
    "# load\n",
    "import pandas as pd\n",
    "import numpy as np\n",
    "import os\n",
    "os.chdir(\"B:/Projects/CourseWork/coursework/HTMLCSV/ogimet/data\")\n",
    "\n",
    "df = pd.read_csv('weather1.csv', index_col=0)\n",
    "df['date'] = pd.to_datetime(df['date'], format=\"%m/%d/%Y\")\n",
    "df['time'] = pd.to_datetime(df.time,format='%H:%M').dt.time\n",
    "\n",
    "# replace '-----' to nan\n",
    "df['T'].replace('-----', np.nan, inplace=True)\n",
    "df['Tmax'].replace('-----', np.nan, inplace=True)\n",
    "df['Tmin'].replace('-----', np.nan, inplace=True)\n",
    "\n",
    "df['T'] = df['T'].astype(float)\n",
    "df['Tmax'] = df['Tmax'].astype(float)\n",
    "df['Tmin'] = df['Tmin'].astype(float)\n",
    "\n",
    "df.tail(10)"
   ]
  }
 ],
 "metadata": {
  "kernelspec": {
   "display_name": "Python 3",
   "language": "python",
   "name": "python3"
  },
  "language_info": {
   "codemirror_mode": {
    "name": "ipython",
    "version": 3
   },
   "file_extension": ".py",
   "mimetype": "text/x-python",
   "name": "python",
   "nbconvert_exporter": "python",
   "pygments_lexer": "ipython3",
   "version": "3.6.8"
  },
  "pycharm": {
   "stem_cell": {
    "cell_type": "raw",
    "metadata": {
     "collapsed": false
    },
    "source": []
   }
  }
 },
 "nbformat": 4,
 "nbformat_minor": 2
}

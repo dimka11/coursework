{
 "cells": [
  {
   "cell_type": "code",
   "execution_count": 7,
   "metadata": {
    "pycharm": {
     "is_executing": false
    }
   },
   "outputs": [],
   "source": [
    "import os\n",
    "os.chdir(\"B:/Projects/CourseWork/coursework/HTMLCSV/ogimet/data/\")"
   ]
  },
  {
   "cell_type": "code",
   "execution_count": null,
   "metadata": {},
   "outputs": [],
   "source": [
    "#create folders\n",
    "for i in range(1999, 2020):\n",
    "    os.mkdir(f'{i}')\n",
    "#%%"
   ]
  },
  {
   "cell_type": "code",
   "execution_count": 8,
   "metadata": {},
   "outputs": [
    {
     "name": "stdout",
     "output_type": "stream",
     "text": [
      "http://www.ogimet.com/cgi-bin/gsynres?ind=28698&lang=en&decoded=yes&ndays=31&ano=2020&mes=1&day=1\n",
      "http://www.ogimet.com/cgi-bin/gsynres?ind=28698&lang=en&decoded=yes&ndays=31&ano=2020&mes=2&day=1\n",
      "http://www.ogimet.com/cgi-bin/gsynres?ind=28698&lang=en&decoded=yes&ndays=31&ano=2020&mes=3&day=1\n",
      "http://www.ogimet.com/cgi-bin/gsynres?ind=28698&lang=en&decoded=yes&ndays=31&ano=2020&mes=4&day=1\n",
      "http://www.ogimet.com/cgi-bin/gsynres?ind=28698&lang=en&decoded=yes&ndays=31&ano=2020&mes=5&day=1\n",
      "http://www.ogimet.com/cgi-bin/gsynres?ind=28698&lang=en&decoded=yes&ndays=31&ano=2020&mes=6&day=1\n",
      "http://www.ogimet.com/cgi-bin/gsynres?ind=28698&lang=en&decoded=yes&ndays=31&ano=2020&mes=7&day=1\n",
      "http://www.ogimet.com/cgi-bin/gsynres?ind=28698&lang=en&decoded=yes&ndays=31&ano=2020&mes=8&day=1\n",
      "http://www.ogimet.com/cgi-bin/gsynres?ind=28698&lang=en&decoded=yes&ndays=31&ano=2020&mes=9&day=1\n",
      "http://www.ogimet.com/cgi-bin/gsynres?ind=28698&lang=en&decoded=yes&ndays=31&ano=2020&mes=10&day=1\n",
      "http://www.ogimet.com/cgi-bin/gsynres?ind=28698&lang=en&decoded=yes&ndays=31&ano=2020&mes=11&day=1\n",
      "http://www.ogimet.com/cgi-bin/gsynres?ind=28698&lang=en&decoded=yes&ndays=31&ano=2020&mes=12&day=1\n"
     ]
    }
   ],
   "source": [
    "import requests\n",
    "headers = {\n",
    "        'User-Agent': 'Mozilla/5.0 (Macintosh; Intel Mac OS X 10.9; rv:45.0) Gecko/20100101 Firefox/45.0'\n",
    "      }\n",
    "\n",
    "days = 31\n",
    "station = 28698\n",
    "day = 1\n",
    "\n",
    "for year in range(2020, 2020 + 1):\n",
    "    for month in range(1, 12 + 1):\n",
    "        url = f'http://www.ogimet.com/cgi-bin/gsynres?ind={station}&lang=en&decoded=yes&ndays={days}&ano={year}&mes={month}&day={day}'\n",
    "        print(url)\n",
    "        r = requests.get(url, headers = headers)\n",
    "        try:\n",
    "            with open(f'{year}/{month}{year}.html', 'w', encoding='utf8') as output_file:\n",
    "                output_file.write(r.text)\n",
    "        except:\n",
    "            pass"
   ]
  },
  {
   "cell_type": "code",
   "execution_count": null,
   "metadata": {},
   "outputs": [],
   "source": [
    "# download detailed data\n",
    "os.chdir(\"B:/Projects/CourseWork/coursework/HTMLCSV/ogimet/new_data/detailed\")\n",
    "\n",
    "import requests\n",
    "headers = {\n",
    "        'User-Agent': 'Mozilla/5.0 (Macintosh; Intel Mac OS X 10.9; rv:45.0) Gecko/20100101 Firefox/45.0'\n",
    "      }\n",
    "\n",
    "days = 31\n",
    "station = 28698\n",
    "day = 1\n",
    "\n",
    "# 2001 2002\n",
    "\n",
    "for year in range(2003, 2020 + 1):\n",
    "    for month in range(1, 12 + 1):\n",
    "        for day in range(1, 31 +1 ):\n",
    "            for hour in [0, 3, 6, 9, 12, 15, 18, 21]:\n",
    "                url = f'https://www.ogimet.com/cgi-bin/decomet?ind={station}&ano={year}&mes={month}&day={day}&hora={hour}&min=00&single=yes&lang=en'\n",
    "                r = requests.get(url, headers = headers)\n",
    "                with open(f'{year}/{month}_{day}_{hour}.html', 'w', encoding='utf8') as output_file:\n",
    "                    output_file.write(r.text)"
   ]
  },
  {
   "cell_type": "code",
   "execution_count": null,
   "metadata": {},
   "outputs": [],
   "source": []
  }
 ],
 "metadata": {
  "kernelspec": {
   "display_name": "Python 3",
   "language": "python",
   "name": "python3"
  },
  "language_info": {
   "codemirror_mode": {
    "name": "ipython",
    "version": 3
   },
   "file_extension": ".py",
   "mimetype": "text/x-python",
   "name": "python",
   "nbconvert_exporter": "python",
   "pygments_lexer": "ipython3",
   "version": "3.6.8"
  }
 },
 "nbformat": 4,
 "nbformat_minor": 1
}

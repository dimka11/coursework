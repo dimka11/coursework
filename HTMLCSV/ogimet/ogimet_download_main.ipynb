{
 "cells": [
  {
   "cell_type": "code",
   "execution_count": 2,
   "metadata": {
    "pycharm": {
     "is_executing": false
    }
   },
   "outputs": [],
   "source": [
    "import os\n",
    "os.chdir(\"B:/Projects/CourseWork/HTMLDownloader/ogimet/data\")"
   ]
  },
  {
   "cell_type": "code",
   "execution_count": null,
   "metadata": {},
   "outputs": [],
   "source": [
    "#create folders\n",
    "for i in range(1999, 2020):\n",
    "    os.mkdir(f'{i}')"
   ]
  },
  {
   "cell_type": "code",
   "execution_count": 5,
   "metadata": {},
   "outputs": [],
   "source": [
    "import requests\n",
    "headers = {\n",
    "        'User-Agent': 'Mozilla/5.0 (Macintosh; Intel Mac OS X 10.9; rv:45.0) Gecko/20100101 Firefox/45.0'\n",
    "      }\n",
    "\n",
    "days = 31\n",
    "station = 28698\n",
    "day = 1\n",
    "\n",
    "for year in range(1999, 2019 + 1):\n",
    "    for month in range(1, 12 + 1):\n",
    "        url = f'http://www.ogimet.com/cgi-bin/gsynres?ind={station}&lang=en&decoded=yes&ndays={days}&ano={year}&mes={month}&day={day}/'\n",
    "        r = requests.get(url, headers = headers)\n",
    "        with open(f'{year}/{month}{year}.html', 'w', encoding='utf8') as output_file:\n",
    "            output_file.write(r.text)"
   ]
  },
  {
   "cell_type": "code",
   "execution_count": 4,
   "metadata": {},
   "outputs": [],
   "source": []
  },
  {
   "cell_type": "code",
   "execution_count": null,
   "metadata": {},
   "outputs": [],
   "source": []
  }
 ],
 "metadata": {
  "kernelspec": {
   "display_name": "Python 3",
   "language": "python",
   "name": "python3"
  },
  "language_info": {
   "codemirror_mode": {
    "name": "ipython",
    "version": 3
   },
   "file_extension": ".py",
   "mimetype": "text/x-python",
   "name": "python",
   "nbconvert_exporter": "python",
   "pygments_lexer": "ipython3",
   "version": "3.6.8"
  }
 },
 "nbformat": 4,
 "nbformat_minor": 1
}

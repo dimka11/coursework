{
 "cells": [
  {
   "cell_type": "code",
   "execution_count": 271,
   "metadata": {},
   "outputs": [],
   "source": [
    "import os\n",
    "import pandas as pd\n",
    "import numpy as np"
   ]
  },
  {
   "cell_type": "code",
   "execution_count": 272,
   "metadata": {},
   "outputs": [],
   "source": [
    "def load_data():\n",
    "    df = pd.read_csv('weather_data.csv')\n",
    "    df['time1'] = df['date'] + ' ' + df['time']\n",
    "    df = df.drop(columns={'Unnamed: 0', 'date', 'time'})\n",
    "    df['time1'] =  pd.to_datetime(df['time1'], format='%m/%d/%Y %H:%M')\n",
    "    df.rename(columns={ 'time1': \"time\" }, inplace = True)\n",
    "    df = df.set_index('time')\n",
    "\n",
    "    # drop dublicates\n",
    "    df = df.loc[~df.index.duplicated(keep='first')]\n",
    "    return df"
   ]
  },
  {
   "cell_type": "code",
   "execution_count": 273,
   "metadata": {},
   "outputs": [],
   "source": [
    "def replace_nan(df):\n",
    "    # replace '-----' to nan\n",
    "    df['T'].replace('-----', np.nan, inplace=True)\n",
    "\n",
    "    # df['Tmax'].replace('-----', np.nan, inplace=True)\n",
    "    # df['Tmin'].replace('-----', np.nan, inplace=True)\n",
    "    # df['Td'].replace('-----', np.nan, inplace=True)\n",
    "\n",
    "    df['T'] = df['T'].astype(float)\n",
    "    # df['Tmax'] = df['Tmax'].astype(float)\n",
    "    # df['Tmin'] = df['Tmin'].astype(float)\n",
    "    # df['Td'] = df['Td'].astype(float)\n",
    "    \n",
    "    df['T'] = df['T'].where(df['T'].values == 999, other=(df['T'].fillna(method='ffill') + df['T'].fillna(method='bfill'))/2)\n",
    "    df[df['T'].isnull()]\n",
    "    \n",
    "    return df"
   ]
  },
  {
   "cell_type": "code",
   "execution_count": 274,
   "metadata": {},
   "outputs": [],
   "source": [
    "def shift_rows(df):\n",
    "    # dfao = dfao.append(pd.Series(name=datetime.datetime(2020, 5, 30, 9, 0)))\n",
    "    # dfao = dfao.append(pd.Series(name=datetime.datetime(2020, 5, 30, 12, 0)))\n",
    "    \n",
    "    import datetime\n",
    "    datetime_3 = df.iloc[-1:].index + datetime.timedelta(hours=3)\n",
    "    datetime_6 = df.iloc[-1:].index + datetime.timedelta(hours=6)\n",
    "    \n",
    "    df = df.append(pd.DataFrame(index=datetime_3))\n",
    "    df = df.append(pd.DataFrame(index=datetime_6))\n",
    "\n",
    "    # shift for utc to omsk time change !!!\n",
    "    df = df.shift(periods=2)\n",
    "    df = df.iloc[2:]\n",
    "    df.tail(5)\n",
    "    return df"
   ]
  },
  {
   "cell_type": "code",
   "execution_count": 275,
   "metadata": {},
   "outputs": [
    {
     "name": "stdout",
     "output_type": "stream",
     "text": [
      "B:\\Projects\\CourseWork\\coursework\\triangle_ogimet\\data\\Serbakul\n"
     ]
    }
   ],
   "source": [
    "# Serbakul\n",
    "folder_city = 'Serbakul' # Sargatskoe # Serbakul # Kalacinsk\n",
    "os.chdir(\"B:/Projects/CourseWork/coursework/triangle_ogimet/data/\" + folder_city)\n",
    "print(os.getcwd())"
   ]
  },
  {
   "cell_type": "code",
   "execution_count": 276,
   "metadata": {},
   "outputs": [],
   "source": [
    "df = load_data()\n",
    "df = replace_nan(df)\n",
    "df = shift_rows(df)\n",
    "df_ser = df.copy()"
   ]
  },
  {
   "cell_type": "code",
   "execution_count": 277,
   "metadata": {},
   "outputs": [
    {
     "name": "stdout",
     "output_type": "stream",
     "text": [
      "B:\\Projects\\CourseWork\\coursework\\triangle_ogimet\\data\\Sargatskoe\n"
     ]
    }
   ],
   "source": [
    "# Sargatskoe\n",
    "folder_city = 'Sargatskoe' # Sargatskoe # Serbakul # Kalacinsk\n",
    "os.chdir(\"B:/Projects/CourseWork/coursework/triangle_ogimet/data/\" + folder_city)\n",
    "print(os.getcwd())"
   ]
  },
  {
   "cell_type": "code",
   "execution_count": 278,
   "metadata": {},
   "outputs": [],
   "source": [
    "df = load_data()\n",
    "df = replace_nan(df)\n",
    "df = shift_rows(df)\n",
    "df_sar = df.copy()"
   ]
  },
  {
   "cell_type": "code",
   "execution_count": 279,
   "metadata": {},
   "outputs": [
    {
     "name": "stdout",
     "output_type": "stream",
     "text": [
      "B:\\Projects\\CourseWork\\coursework\\triangle_ogimet\\data\\Kalacinsk\n"
     ]
    }
   ],
   "source": [
    "# Kalacinsk\n",
    "folder_city = 'Kalacinsk' # Sargatskoe # Serbakul # Kalacinsk\n",
    "os.chdir(\"B:/Projects/CourseWork/coursework/triangle_ogimet/data/\" + folder_city)\n",
    "print(os.getcwd())"
   ]
  },
  {
   "cell_type": "code",
   "execution_count": 280,
   "metadata": {},
   "outputs": [],
   "source": [
    "df = load_data()\n",
    "df = replace_nan(df)\n",
    "df = shift_rows(df)\n",
    "df_kal = df.copy()"
   ]
  },
  {
   "cell_type": "code",
   "execution_count": 281,
   "metadata": {},
   "outputs": [
    {
     "ename": "TypeError",
     "evalue": "append() got an unexpected keyword argument 'inplace'",
     "output_type": "error",
     "traceback": [
      "\u001b[1;31m---------------------------------------------------------------------------\u001b[0m",
      "\u001b[1;31mTypeError\u001b[0m                                 Traceback (most recent call last)",
      "\u001b[1;32m<ipython-input-281-c44fd43be35e>\u001b[0m in \u001b[0;36m<module>\u001b[1;34m\u001b[0m\n\u001b[0;32m      7\u001b[0m \u001b[0mdf_ser\u001b[0m\u001b[1;33m.\u001b[0m\u001b[0mrename\u001b[0m\u001b[1;33m(\u001b[0m\u001b[0mcolumns\u001b[0m\u001b[1;33m=\u001b[0m\u001b[1;33m{\u001b[0m\u001b[1;34m\"T\"\u001b[0m\u001b[1;33m:\u001b[0m \u001b[1;34m\"ser\"\u001b[0m\u001b[1;33m}\u001b[0m\u001b[1;33m,\u001b[0m \u001b[0minplace\u001b[0m\u001b[1;33m=\u001b[0m\u001b[1;32mTrue\u001b[0m\u001b[1;33m)\u001b[0m\u001b[1;33m\u001b[0m\u001b[1;33m\u001b[0m\u001b[0m\n\u001b[0;32m      8\u001b[0m \u001b[1;33m\u001b[0m\u001b[0m\n\u001b[1;32m----> 9\u001b[1;33m \u001b[0mdf_three\u001b[0m \u001b[1;33m=\u001b[0m \u001b[0mdf_three\u001b[0m\u001b[1;33m.\u001b[0m\u001b[0mappend\u001b[0m\u001b[1;33m(\u001b[0m\u001b[0mdf_sar\u001b[0m\u001b[1;33m,\u001b[0m \u001b[0minplace\u001b[0m\u001b[1;33m=\u001b[0m\u001b[1;32mTrue\u001b[0m\u001b[1;33m)\u001b[0m\u001b[1;33m\u001b[0m\u001b[1;33m\u001b[0m\u001b[0m\n\u001b[0m\u001b[0;32m     10\u001b[0m \u001b[0mdf_three\u001b[0m \u001b[1;33m=\u001b[0m \u001b[0mdf_three\u001b[0m\u001b[1;33m.\u001b[0m\u001b[0mappend\u001b[0m\u001b[1;33m(\u001b[0m\u001b[0mdf_ser\u001b[0m\u001b[1;33m,\u001b[0m \u001b[0minplace\u001b[0m\u001b[1;33m=\u001b[0m\u001b[1;32mTrue\u001b[0m\u001b[1;33m)\u001b[0m\u001b[1;33m\u001b[0m\u001b[1;33m\u001b[0m\u001b[0m\n\u001b[0;32m     11\u001b[0m \u001b[1;33m\u001b[0m\u001b[0m\n",
      "\u001b[1;31mTypeError\u001b[0m: append() got an unexpected keyword argument 'inplace'"
     ]
    }
   ],
   "source": [
    "df_three = df_kal.copy()\n",
    "df_three.rename(columns={\"T\": \"kal\"}, inplace=True)\n",
    "df_sar = pd.DataFrame(df_sar['T'])\n",
    "df_ser = pd.DataFrame(df_ser['T'])\n",
    "\n",
    "df_sar.rename(columns={\"T\": \"sar\"}, inplace=True)\n",
    "df_ser.rename(columns={\"T\": \"ser\"}, inplace=True)\n",
    "\n",
    "df_three = df_three.append(df_sar)\n",
    "df_three = df_three.append(df_ser)\n",
    "\n",
    "df_three.drop(columns={'Td', 'Tmax', 'Tmin', 'ddd', 'ff', 'prec', 'nt', 'nh', 'h'}, inplace=True)\n",
    "df_three['mean'] = df_three.mean(axis=1)\n",
    "df_three"
   ]
  },
  {
   "cell_type": "code",
   "execution_count": null,
   "metadata": {},
   "outputs": [],
   "source": [
    "df_three.loc['2001-01-01':'2002-01-01'].tail(30)"
   ]
  },
  {
   "cell_type": "code",
   "execution_count": null,
   "metadata": {},
   "outputs": [],
   "source": [
    "# how merge dataset with different indexes\n",
    "\n",
    "df_sar.loc['2001-12-28':'2002-01-01 21:00:00']"
   ]
  },
  {
   "cell_type": "code",
   "execution_count": null,
   "metadata": {},
   "outputs": [],
   "source": []
  }
 ],
 "metadata": {
  "kernelspec": {
   "display_name": "Python 3",
   "language": "python",
   "name": "python3"
  },
  "language_info": {
   "codemirror_mode": {
    "name": "ipython",
    "version": 3
   },
   "file_extension": ".py",
   "mimetype": "text/x-python",
   "name": "python",
   "nbconvert_exporter": "python",
   "pygments_lexer": "ipython3",
   "version": "3.6.8"
  }
 },
 "nbformat": 4,
 "nbformat_minor": 2
}

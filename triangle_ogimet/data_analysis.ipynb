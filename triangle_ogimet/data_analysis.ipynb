{
 "cells": [
  {
   "cell_type": "code",
   "execution_count": null,
   "metadata": {},
   "outputs": [],
   "source": [
    "import os\n",
    "import pandas as pd\n",
    "import numpy as np"
   ]
  },
  {
   "cell_type": "code",
   "execution_count": null,
   "metadata": {},
   "outputs": [],
   "source": [
    "def load_data():\n",
    "    df = pd.read_csv('weather_data.csv')\n",
    "    df['time1'] = df['date'] + ' ' + df['time']\n",
    "    df = df.drop(columns={'Unnamed: 0', 'date', 'time'})\n",
    "    df['time1'] =  pd.to_datetime(df['time1'], format='%m/%d/%Y %H:%M')\n",
    "    df.rename(columns={ 'time1': \"time\" }, inplace = True)\n",
    "    df = df.set_index('time')\n",
    "\n",
    "    # drop dublicates\n",
    "    df = df.loc[~df.index.duplicated(keep='first')]\n",
    "    return df"
   ]
  },
  {
   "cell_type": "code",
   "execution_count": null,
   "metadata": {},
   "outputs": [],
   "source": [
    "def replace_nan(df):\n",
    "    # replace '-----' to nan\n",
    "    df['T'].replace('-----', np.nan, inplace=True)\n",
    "\n",
    "    # df['Tmax'].replace('-----', np.nan, inplace=True)\n",
    "    # df['Tmin'].replace('-----', np.nan, inplace=True)\n",
    "    # df['Td'].replace('-----', np.nan, inplace=True)\n",
    "\n",
    "    df['T'] = df['T'].astype(float)\n",
    "    # df['Tmax'] = df['Tmax'].astype(float)\n",
    "    # df['Tmin'] = df['Tmin'].astype(float)\n",
    "    # df['Td'] = df['Td'].astype(float)\n",
    "    \n",
    "    df['T'] = df['T'].where(df['T'].values == 999, other=(df['T'].fillna(method='ffill') + df['T'].fillna(method='bfill'))/2)\n",
    "    df[df['T'].isnull()]\n",
    "    \n",
    "    return df"
   ]
  },
  {
   "cell_type": "code",
   "execution_count": null,
   "metadata": {},
   "outputs": [],
   "source": [
    "def shift_rows(df):\n",
    "    # dfao = dfao.append(pd.Series(name=datetime.datetime(2020, 5, 30, 9, 0)))\n",
    "    # dfao = dfao.append(pd.Series(name=datetime.datetime(2020, 5, 30, 12, 0)))\n",
    "    \n",
    "    import datetime\n",
    "    datetime_3 = df.iloc[-1:].index + datetime.timedelta(hours=3)\n",
    "    datetime_6 = df.iloc[-1:].index + datetime.timedelta(hours=6)\n",
    "    \n",
    "    df = df.append(pd.DataFrame(index=datetime_3))\n",
    "    df = df.append(pd.DataFrame(index=datetime_6))\n",
    "\n",
    "    # shift for utc to omsk time change !!!\n",
    "    df = df.shift(periods=2)\n",
    "    df = df.iloc[2:]\n",
    "    df.tail(5)\n",
    "    return df"
   ]
  },
  {
   "cell_type": "code",
   "execution_count": null,
   "metadata": {},
   "outputs": [],
   "source": [
    "# Serbakul\n",
    "folder_city = 'Serbakul' # Sargatskoe # Serbakul # Kalacinsk\n",
    "os.chdir(\"B:/Projects/CourseWork/coursework/triangle_ogimet/data/\" + folder_city)\n",
    "print(os.getcwd())"
   ]
  },
  {
   "cell_type": "code",
   "execution_count": null,
   "metadata": {},
   "outputs": [],
   "source": [
    "df = load_data()\n",
    "df = replace_nan(df)\n",
    "df = shift_rows(df)\n",
    "df_ser = df.copy()"
   ]
  },
  {
   "cell_type": "code",
   "execution_count": null,
   "metadata": {},
   "outputs": [],
   "source": [
    "# Sargatskoe\n",
    "folder_city = 'Sargatskoe' # Sargatskoe # Serbakul # Kalacinsk\n",
    "os.chdir(\"B:/Projects/CourseWork/coursework/triangle_ogimet/data/\" + folder_city)\n",
    "print(os.getcwd())"
   ]
  },
  {
   "cell_type": "code",
   "execution_count": null,
   "metadata": {},
   "outputs": [],
   "source": [
    "df = load_data()\n",
    "df = replace_nan(df)\n",
    "df = shift_rows(df)\n",
    "df_sar = df.copy()"
   ]
  },
  {
   "cell_type": "code",
   "execution_count": null,
   "metadata": {},
   "outputs": [],
   "source": [
    "# Kalacinsk\n",
    "folder_city = 'Kalacinsk' # Sargatskoe # Serbakul # Kalacinsk\n",
    "os.chdir(\"B:/Projects/CourseWork/coursework/triangle_ogimet/data/\" + folder_city)\n",
    "print(os.getcwd())"
   ]
  },
  {
   "cell_type": "code",
   "execution_count": null,
   "metadata": {},
   "outputs": [],
   "source": [
    "df = load_data()\n",
    "df = replace_nan(df)\n",
    "df = shift_rows(df)\n",
    "df_kal = df.copy()"
   ]
  },
  {
   "cell_type": "code",
   "execution_count": null,
   "metadata": {},
   "outputs": [],
   "source": [
    "# Omsk\n",
    "os.chdir(\"B:/Projects/CourseWork/coursework/triangle_ogimet/data/\")\n",
    "print(os.getcwd())"
   ]
  },
  {
   "cell_type": "code",
   "execution_count": null,
   "metadata": {},
   "outputs": [],
   "source": [
    "df = load_data()\n",
    "df = replace_nan(df)\n",
    "df = shift_rows(df)\n",
    "df_omsk = df.copy()"
   ]
  },
  {
   "cell_type": "code",
   "execution_count": null,
   "metadata": {},
   "outputs": [],
   "source": [
    "df_sar = pd.DataFrame(df_sar['T'])\n",
    "df_ser = pd.DataFrame(df_ser['T'])\n",
    "df_omsk = pd.DataFrame(df_omsk[['T', 'ddd']])\n",
    "df_omsk.rename(columns={\"T\": \"omsk\", \"ddd\":\"ddd_omsk\"}, inplace=True)\n",
    "\n",
    "df_sar.rename(columns={\"T\": \"sar\"}, inplace=True)\n",
    "df_ser.rename(columns={\"T\": \"ser\"}, inplace=True)\n",
    "\n",
    "df_three = pd.concat([df_kal,df_sar, df_ser, df_omsk], axis=1)\n",
    "df_three.rename(columns={\"T\": \"kal\"}, inplace=True)\n",
    "df_three.drop(columns={'Td', 'Tmax', 'Tmin', 'ddd', 'ff', 'prec', 'nt', 'nh', 'h'}, inplace=True)\n",
    "df_three['mean'] = df_three.mean(axis=1)\n",
    "\n",
    "df_three['diff'] = df_three['omsk'] - df_three['mean']\n",
    "df_three['abs_diff'] = abs(df_three['omsk'] - df_three['mean'])"
   ]
  },
  {
   "cell_type": "code",
   "execution_count": null,
   "metadata": {},
   "outputs": [],
   "source": [
    "df_three.loc['2000-11-01':'2001-03-01'].tail(40) # # 28791 - Шербакуль # 28598 - Саргатское # 28696 - Калачинск # 28698 - Омск"
   ]
  },
  {
   "cell_type": "code",
   "execution_count": null,
   "metadata": {},
   "outputs": [],
   "source": [
    "df_three_ = df_three.dropna()\n",
    "df_three_.loc['2000-11-01':'2001-03-01'].tail(40)"
   ]
  },
  {
   "cell_type": "code",
   "execution_count": null,
   "metadata": {},
   "outputs": [],
   "source": [
    "df_three_.groupby('ddd_omsk')['mean'].count()"
   ]
  },
  {
   "cell_type": "code",
   "execution_count": null,
   "metadata": {},
   "outputs": [],
   "source": [
    "# rename wind columns value to 4 quarter\n",
    "df_three_['ddd_omsk'].replace(['W','SW','WSW','WNW'],'West', inplace=True)\n",
    "df_three_['ddd_omsk'].replace(['N','NW','NNW','NNE'],'North', inplace=True)\n",
    "df_three_['ddd_omsk'].replace(['E','NE','ESE','ENE'],'East', inplace=True)\n",
    "df_three_['ddd_omsk'].replace(['S','SE','SSW','SSE'],'South', inplace=True)"
   ]
  },
  {
   "cell_type": "code",
   "execution_count": null,
   "metadata": {},
   "outputs": [],
   "source": [
    "df_three_ = df_three_[(df_three_['ddd_omsk'] != 'None') & (df_three_['ddd_omsk'] != \"`CB\")]"
   ]
  },
  {
   "cell_type": "code",
   "execution_count": null,
   "metadata": {},
   "outputs": [],
   "source": [
    "df_three_.loc['2004-11-01':'2005-03-01'].tail(50)"
   ]
  },
  {
   "cell_type": "code",
   "execution_count": null,
   "metadata": {},
   "outputs": [],
   "source": [
    "# time period\n",
    "\n",
    "MONTH_START = 11\n",
    "MONTH_END = 3\n",
    "DAY_START = 1\n",
    "DAY_END = 1\n",
    "\n",
    "import datetime\n",
    "\n",
    "df_three_winter = df_three_[datetime.date(1999,MONTH_START,1):datetime.date(2000,MONTH_END,DAY_END)]\n",
    "df_three_winter = df_three_winter.append(df_three_[datetime.date(2000,MONTH_START,DAY_START):datetime.date(2001,MONTH_END,DAY_END)])\n",
    "df_three_winter = df_three_winter.append(df_three_[datetime.date(2001,MONTH_START,DAY_START):datetime.date(2002,MONTH_END,DAY_END)])\n",
    "df_three_winter = df_three_winter.append(df_three_[datetime.date(2002,MONTH_START,DAY_START):datetime.date(2003,MONTH_END,DAY_END)])\n",
    "df_three_winter = df_three_winter.append(df_three_[datetime.date(2003,MONTH_START,DAY_START):datetime.date(2004,MONTH_END,DAY_END)])\n",
    "df_three_winter = df_three_winter.append(df_three_[datetime.date(2004,MONTH_START,DAY_START):datetime.date(2005,MONTH_END,DAY_END)])\n",
    "df_three_winter = df_three_winter.append(df_three_[datetime.date(2005,MONTH_START,DAY_START):datetime.date(2006,MONTH_END,DAY_END)])"
   ]
  },
  {
   "cell_type": "code",
   "execution_count": null,
   "metadata": {},
   "outputs": [],
   "source": [
    "df_three_winter.groupby('ddd_omsk')['mean'].count()"
   ]
  },
  {
   "cell_type": "code",
   "execution_count": null,
   "metadata": {},
   "outputs": [],
   "source": [
    "df_three_winter.groupby('ddd_omsk', as_index=False)[['diff', 'abs_diff']].mean()"
   ]
  },
  {
   "cell_type": "code",
   "execution_count": null,
   "metadata": {},
   "outputs": [],
   "source": [
    "df_three_winter[df_three_winter['omsk'] <= -15].groupby('ddd_omsk', as_index=False)[['diff', 'abs_diff']].mean()"
   ]
  },
  {
   "cell_type": "code",
   "execution_count": null,
   "metadata": {},
   "outputs": [],
   "source": [
    "df_three_winter[df_three_winter['omsk'] <= -20].groupby('ddd_omsk', as_index=False)[['diff', 'abs_diff']].mean()"
   ]
  },
  {
   "cell_type": "code",
   "execution_count": null,
   "metadata": {},
   "outputs": [],
   "source": [
    "df_three_winter[df_three_winter['omsk'] <= -25].groupby('ddd_omsk', as_index=False)[['diff', 'abs_diff']].mean()"
   ]
  },
  {
   "cell_type": "code",
   "execution_count": null,
   "metadata": {},
   "outputs": [],
   "source": [
    "df_three_winter[(df_three_winter['ddd_omsk'] == 'South')]['diff'].plot.kde(bw_method=0.1)"
   ]
  },
  {
   "cell_type": "code",
   "execution_count": null,
   "metadata": {},
   "outputs": [],
   "source": [
    "df_three_winter[(df_three_winter['ddd_omsk'] == 'North')]['diff'].plot.kde(bw_method=0.1)"
   ]
  },
  {
   "cell_type": "code",
   "execution_count": null,
   "metadata": {},
   "outputs": [],
   "source": [
    "# plot data\n",
    "# import matplotlib.pyplot as plt\n",
    "# fig, ax = plt.subplots(figsize=(15,7))\n",
    "# use unstack()\n",
    "# df_three_winter.groupby('ddd_omsk', as_index=False)[['diff', 'abs_diff']].mean().unstack('diff')\n",
    "\n",
    "import pandas as pd\n",
    "import matplotlib.pyplot as plt\n",
    "import seaborn as sns\n",
    "\n",
    "df_three_winter[df_three_winter['ddd_omsk']=='East'].plot(y=\"diff\",title='unit1',colormap='Reds_r')\n",
    "df_three_winter[df_three_winter['ddd_omsk']=='North'].plot(y=\"diff\",title='unit1',colormap='Reds_r')\n",
    "df_three_winter[df_three_winter['ddd_omsk']=='South'].plot(y=\"diff\",title='unit1',colormap='Reds_r')\n",
    "df_three_winter[df_three_winter['ddd_omsk']=='West'].plot(y=\"diff\",title='unit1',colormap='Reds_r')"
   ]
  },
  {
   "cell_type": "code",
   "execution_count": null,
   "metadata": {},
   "outputs": [],
   "source": [
    "df_three_winter[df_three_winter['ddd_omsk'] == 'South']['diff'].plot.kde(bw_method=0.1)"
   ]
  },
  {
   "cell_type": "code",
   "execution_count": null,
   "metadata": {},
   "outputs": [],
   "source": [
    "import matplotlib.pyplot as plt\n",
    "fig, ax = plt.subplots(figsize=(15,7))\n",
    "\n",
    "ax = df_three_winter[df_three_winter['ddd_omsk'] == 'East']['diff'].plot(kind='kde',bw_method=0.2)\n",
    "ax = df_three_winter[df_three_winter['ddd_omsk'] == 'North']['diff'].plot(kind='kde',bw_method=0.2)\n",
    "ax = df_three_winter[df_three_winter['ddd_omsk'] == 'South']['diff'].plot(kind='kde',bw_method=0.2)\n",
    "ax = df_three_winter[df_three_winter['ddd_omsk'] == 'West']['diff'].plot(kind='kde',bw_method=0.2)\n",
    "ax.legend([\"East\", \"North\", \"South\", \"West\"]);\n",
    "\n",
    "# df_three_winter[df_three_winter['ddd_omsk'] == 'South']['diff'].plot(kind='kde', secondary_y=True, ax=ax)\n",
    "# df_three_winter[df_three_winter['ddd_omsk'] == 'North']['diff'].plot(kind='kde', secondary_y=True, ax=ax)\n",
    "# df_three_winter[df_three_winter['ddd_omsk'] == 'East']['diff'].plot(kind='kde', secondary_y=True, ax=ax)\n",
    "# df_three_winter[df_three_winter['ddd_omsk'] == 'West']['diff'].plot(kind='kde', secondary_y=True, ax=ax)\n"
   ]
  },
  {
   "cell_type": "code",
   "execution_count": null,
   "metadata": {},
   "outputs": [],
   "source": [
    "fig, ax = plt.subplots(figsize=(15,7))\n",
    "ax = df_three_winter[(df_three_winter['ddd_omsk'] == 'East') & (df_three_winter['omsk'] <= -15)]['diff'].plot(kind='kde',bw_method=0.2)\n",
    "ax = df_three_winter[(df_three_winter['ddd_omsk'] == 'North') & (df_three_winter['omsk'] <= -15)]['diff'].plot(kind='kde',bw_method=0.2)\n",
    "ax = df_three_winter[(df_three_winter['ddd_omsk'] == 'South') & (df_three_winter['omsk'] <= -15)]['diff'].plot(kind='kde',bw_method=0.2)\n",
    "ax = df_three_winter[(df_three_winter['ddd_omsk'] == 'West') & (df_three_winter['omsk'] <= -15)]['diff'].plot(kind='kde',bw_method=0.2)\n",
    "ax.legend([\"East\", \"North\", \"South\", \"West\"]);"
   ]
  },
  {
   "cell_type": "code",
   "execution_count": null,
   "metadata": {},
   "outputs": [],
   "source": [
    "fig, ax = plt.subplots(figsize=(15,7))\n",
    "ax = df_three_winter[(df_three_winter['ddd_omsk'] == 'East') & (df_three_winter['omsk'] <= -20)]['diff'].plot(kind='kde',bw_method=0.2)\n",
    "ax = df_three_winter[(df_three_winter['ddd_omsk'] == 'North') & (df_three_winter['omsk'] <= -20)]['diff'].plot(kind='kde',bw_method=0.2)\n",
    "ax = df_three_winter[(df_three_winter['ddd_omsk'] == 'South') & (df_three_winter['omsk'] <= -20)]['diff'].plot(kind='kde',bw_method=0.2)\n",
    "ax = df_three_winter[(df_three_winter['ddd_omsk'] == 'West') & (df_three_winter['omsk'] <= -20)]['diff'].plot(kind='kde',bw_method=0.2)\n",
    "ax.legend([\"East\", \"North\", \"South\", \"West\"]);"
   ]
  },
  {
   "cell_type": "code",
   "execution_count": null,
   "metadata": {},
   "outputs": [],
   "source": [
    "fig, ax = plt.subplots(figsize=(15,7))\n",
    "ax = df_three_winter[(df_three_winter['ddd_omsk'] == 'East') & (df_three_winter['omsk'] <= -25)]['diff'].plot(kind='kde',bw_method=0.1)\n",
    "ax = df_three_winter[(df_three_winter['ddd_omsk'] == 'North') & (df_three_winter['omsk'] <= -25)]['diff'].plot(kind='kde',bw_method=0.1)\n",
    "ax = df_three_winter[(df_three_winter['ddd_omsk'] == 'South') & (df_three_winter['omsk'] <= -25)]['diff'].plot(kind='kde',bw_method=0.1)\n",
    "ax = df_three_winter[(df_three_winter['ddd_omsk'] == 'West') & (df_three_winter['omsk'] <= -25)]['diff'].plot(kind='kde',bw_method=0.1)\n",
    "ax.legend([\"East\", \"North\", \"South\", \"West\"]);"
   ]
  },
  {
   "cell_type": "code",
   "execution_count": null,
   "metadata": {},
   "outputs": [],
   "source": [
    "df_three_winter[df_three_winter['omsk'] < -39]"
   ]
  },
  {
   "cell_type": "code",
   "execution_count": null,
   "metadata": {},
   "outputs": [],
   "source": []
  }
 ],
 "metadata": {
  "kernelspec": {
   "display_name": "Python 3",
   "language": "python",
   "name": "python3"
  },
  "language_info": {
   "codemirror_mode": {
    "name": "ipython",
    "version": 3
   },
   "file_extension": ".py",
   "mimetype": "text/x-python",
   "name": "python",
   "nbconvert_exporter": "python",
   "pygments_lexer": "ipython3",
   "version": "3.6.8"
  }
 },
 "nbformat": 4,
 "nbformat_minor": 2
}

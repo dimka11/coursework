{
 "cells": [
  {
   "cell_type": "code",
   "execution_count": 1,
   "metadata": {},
   "outputs": [],
   "source": [
    "import os\n",
    "import pandas as pd\n",
    "import numpy as np\n",
    "import datetime\n",
    "import matplotlib.pyplot as plt\n",
    "import seaborn as sns\n",
    "\n",
    "# https://towardsdatascience.com/jypyter-notebook-shortcuts-bf0101a98330 Shortcuts"
   ]
  },
  {
   "cell_type": "markdown",
   "metadata": {},
   "source": [
    "Загрузка Omsk Ogimet "
   ]
  },
  {
   "cell_type": "code",
   "execution_count": 3,
   "metadata": {},
   "outputs": [],
   "source": [
    "# load ogimet (1999-)\n",
    "df_ogimet = pd.read_csv('Omsk_weather_all_years.csv', index_col='Datetime')\n",
    "df_ogimet.index = pd.to_datetime(df_ogimet.index, dayfirst=True)"
   ]
  },
  {
   "cell_type": "code",
   "execution_count": 4,
   "metadata": {
    "collapsed": true
   },
   "outputs": [
    {
     "name": "stderr",
     "output_type": "stream",
     "text": [
      "c:\\users\\dima\\appdata\\local\\programs\\python\\python36\\lib\\site-packages\\pandas\\core\\series.py:4582: SettingWithCopyWarning: \n",
      "A value is trying to be set on a copy of a slice from a DataFrame\n",
      "\n",
      "See the caveats in the documentation: https://pandas.pydata.org/pandas-docs/stable/user_guide/indexing.html#returning-a-view-versus-a-copy\n",
      "  method=method,\n",
      "C:\\Users\\Dima\\AppData\\Roaming\\Python\\Python36\\site-packages\\ipykernel_launcher.py:12: SettingWithCopyWarning: \n",
      "A value is trying to be set on a copy of a slice from a DataFrame.\n",
      "Try using .loc[row_indexer,col_indexer] = value instead\n",
      "\n",
      "See the caveats in the documentation: https://pandas.pydata.org/pandas-docs/stable/user_guide/indexing.html#returning-a-view-versus-a-copy\n",
      "  if sys.path[0] == '':\n",
      "C:\\Users\\Dima\\AppData\\Roaming\\Python\\Python36\\site-packages\\ipykernel_launcher.py:13: SettingWithCopyWarning: \n",
      "A value is trying to be set on a copy of a slice from a DataFrame.\n",
      "Try using .loc[row_indexer,col_indexer] = value instead\n",
      "\n",
      "See the caveats in the documentation: https://pandas.pydata.org/pandas-docs/stable/user_guide/indexing.html#returning-a-view-versus-a-copy\n",
      "  del sys.path[0]\n",
      "C:\\Users\\Dima\\AppData\\Roaming\\Python\\Python36\\site-packages\\ipykernel_launcher.py:14: SettingWithCopyWarning: \n",
      "A value is trying to be set on a copy of a slice from a DataFrame.\n",
      "Try using .loc[row_indexer,col_indexer] = value instead\n",
      "\n",
      "See the caveats in the documentation: https://pandas.pydata.org/pandas-docs/stable/user_guide/indexing.html#returning-a-view-versus-a-copy\n",
      "  \n",
      "C:\\Users\\Dima\\AppData\\Roaming\\Python\\Python36\\site-packages\\ipykernel_launcher.py:15: SettingWithCopyWarning: \n",
      "A value is trying to be set on a copy of a slice from a DataFrame.\n",
      "Try using .loc[row_indexer,col_indexer] = value instead\n",
      "\n",
      "See the caveats in the documentation: https://pandas.pydata.org/pandas-docs/stable/user_guide/indexing.html#returning-a-view-versus-a-copy\n",
      "  from ipykernel import kernelapp as app\n",
      "C:\\Users\\Dima\\AppData\\Roaming\\Python\\Python36\\site-packages\\ipykernel_launcher.py:21: SettingWithCopyWarning: \n",
      "A value is trying to be set on a copy of a slice from a DataFrame.\n",
      "Try using .loc[row_indexer,col_indexer] = value instead\n",
      "\n",
      "See the caveats in the documentation: https://pandas.pydata.org/pandas-docs/stable/user_guide/indexing.html#returning-a-view-versus-a-copy\n"
     ]
    }
   ],
   "source": [
    "# Basic clean\n",
    "def clean(m_df):\n",
    "    # drop dublicates\n",
    "    m_df = m_df.loc[~m_df.index.duplicated(keep='first')]\n",
    "    \n",
    "    # replace '-----' to nan\n",
    "    m_df['T(C)'].replace('-----', np.nan, inplace=True)\n",
    "    m_df['Td(C)'].replace('-----', np.nan, inplace=True)\n",
    "    m_df['Tmax(C)'].replace('-----', np.nan, inplace=True)\n",
    "    m_df['Tmin(C)'].replace('-----', np.nan, inplace=True)\n",
    "    \n",
    "    m_df['T(C)'] = m_df['T(C)'].astype(float)\n",
    "    m_df['Td(C)'] = m_df['Td(C)'].astype(float)\n",
    "    m_df['Tmax(C)'] = m_df['Tmax(C)'].astype(float)\n",
    "    m_df['Tmin(C)'] = m_df['Tmin(C)'].astype(float)\n",
    "    \n",
    "    # Clear incorrect\n",
    "    m_df['T(C)'].replace(-90.4, np.nan, inplace=True)\n",
    "    m_df['T(C)'].replace(-48.8, np.nan, inplace=True)\n",
    "    m_df['T(C)'].replace(-88.0, np.nan, inplace=True)\n",
    "    m_df['T(C)'].replace(50.2, np.nan, inplace=True)\n",
    "    \n",
    "    # replace NaN to mean of 2 nb\n",
    "    m_df['T(C)'] = m_df['T(C)'].where(m_df['T(C)'].values == 999, other=(m_df['T(C)'].fillna(method='ffill') + m_df['T(C)'].fillna(method='bfill'))/2)\n",
    "    \n",
    "    m_df = m_df.shift(periods=2)\n",
    "    m_df = m_df.iloc[2:]\n",
    "    \n",
    "    return m_df\n",
    "\n",
    "df_ogimet = clean(df_ogimet)\n",
    "# m_df.to_csv('Omsk_weather_last_year_cl.csv')"
   ]
  },
  {
   "cell_type": "code",
   "execution_count": 8,
   "metadata": {},
   "outputs": [],
   "source": [
    "# select columns\n",
    "df_ogimet = df_ogimet[['T(C)', 'ddd', 'ffkmh', 'P0hPa', 'PTnd', 'Nt']]"
   ]
  },
  {
   "cell_type": "code",
   "execution_count": 17,
   "metadata": {
    "collapsed": true
   },
   "outputs": [
    {
     "name": "stderr",
     "output_type": "stream",
     "text": [
      "C:\\Users\\Dima\\AppData\\Roaming\\Python\\Python36\\site-packages\\ipykernel_launcher.py:8: SettingWithCopyWarning: \n",
      "A value is trying to be set on a copy of a slice from a DataFrame.\n",
      "Try using .loc[row_indexer,col_indexer] = value instead\n",
      "\n",
      "See the caveats in the documentation: https://pandas.pydata.org/pandas-docs/stable/user_guide/indexing.html#returning-a-view-versus-a-copy\n",
      "  \n"
     ]
    }
   ],
   "source": [
    "# rename wind columns value to 4 quarter\n",
    "def wind_to_4q(df_ogimet):\n",
    "    df = df_ogimet.copy()\n",
    "    df['ddd'].replace(['W','SW','WSW','WNW'],'West', inplace=True)\n",
    "    df['ddd'].replace(['N','NW','NNW','NNE'],'North', inplace=True)\n",
    "    df['ddd'].replace(['E','NE','ESE','ENE'],'East', inplace=True)\n",
    "    df['ddd'].replace(['S','SE','SSW','SSE'],'South', inplace=True)\n",
    "    df_ogimet['ddd_'] = df['ddd']\n",
    "    return df_ogimet\n",
    "\n",
    "df_ogimet = wind_to_4q(df_ogimet)"
   ]
  },
  {
   "cell_type": "code",
   "execution_count": 18,
   "metadata": {},
   "outputs": [],
   "source": [
    "df_ogimet = df_ogimet[(df_ogimet['ddd'] != 'None') & (df_ogimet['ddd'] != \"`CB\")]"
   ]
  },
  {
   "cell_type": "markdown",
   "metadata": {},
   "source": [
    "Загрузка Омск RP5"
   ]
  },
  {
   "cell_type": "code",
   "execution_count": null,
   "metadata": {},
   "outputs": [],
   "source": [
    "# Load RP5 (Omsk)\n",
    "df_omsk = pd.read_csv('.csv', index_col='Datetime')"
   ]
  },
  {
   "cell_type": "markdown",
   "metadata": {},
   "source": [
    "Загрузка Аэропорт RP5"
   ]
  },
  {
   "cell_type": "code",
   "execution_count": null,
   "metadata": {},
   "outputs": [],
   "source": [
    "# Load Airport (RP5)\n",
    "df_airport = "
   ]
  },
  {
   "cell_type": "code",
   "execution_count": null,
   "metadata": {},
   "outputs": [],
   "source": [
    "# to one df\n"
   ]
  },
  {
   "cell_type": "code",
   "execution_count": null,
   "metadata": {},
   "outputs": [],
   "source": [
    "# select winter periods\n"
   ]
  },
  {
   "cell_type": "code",
   "execution_count": null,
   "metadata": {},
   "outputs": [],
   "source": [
    "# compare\n"
   ]
  },
  {
   "cell_type": "markdown",
   "metadata": {},
   "source": [
    "Загрузка Калачинск"
   ]
  },
  {
   "cell_type": "code",
   "execution_count": null,
   "metadata": {},
   "outputs": [],
   "source": [
    "# load kal\n",
    "df_omsk = pd.read_csv('.csv', index_col='Datetime')"
   ]
  },
  {
   "cell_type": "markdown",
   "metadata": {},
   "source": [
    "Загрузка Шербакуль"
   ]
  },
  {
   "cell_type": "code",
   "execution_count": null,
   "metadata": {},
   "outputs": [],
   "source": [
    "# load sar\n",
    "df_omsk = pd.read_csv('.csv', index_col='Datetime')"
   ]
  },
  {
   "cell_type": "markdown",
   "metadata": {},
   "source": [
    "Загрузка Саргатское"
   ]
  },
  {
   "cell_type": "code",
   "execution_count": null,
   "metadata": {},
   "outputs": [],
   "source": [
    "# load sher\n",
    "df_omsk = pd.read_csv('.csv', index_col='Datetime')"
   ]
  },
  {
   "cell_type": "code",
   "execution_count": null,
   "metadata": {},
   "outputs": [],
   "source": [
    "# # to one df"
   ]
  },
  {
   "cell_type": "code",
   "execution_count": null,
   "metadata": {},
   "outputs": [],
   "source": [
    "# select winter periods"
   ]
  },
  {
   "cell_type": "code",
   "execution_count": null,
   "metadata": {},
   "outputs": [],
   "source": [
    "#  compare"
   ]
  },
  {
   "cell_type": "code",
   "execution_count": null,
   "metadata": {},
   "outputs": [],
   "source": [
    "# save a new df\n",
    "df_merged.to_csv('df_merged')"
   ]
  },
  {
   "cell_type": "code",
   "execution_count": 21,
   "metadata": {},
   "outputs": [
    {
     "data": {
      "text/html": [
       "<div>\n",
       "<style scoped>\n",
       "    .dataframe tbody tr th:only-of-type {\n",
       "        vertical-align: middle;\n",
       "    }\n",
       "\n",
       "    .dataframe tbody tr th {\n",
       "        vertical-align: top;\n",
       "    }\n",
       "\n",
       "    .dataframe thead th {\n",
       "        text-align: right;\n",
       "    }\n",
       "</style>\n",
       "<table border=\"1\" class=\"dataframe\">\n",
       "  <thead>\n",
       "    <tr style=\"text-align: right;\">\n",
       "      <th></th>\n",
       "      <th>T(C)</th>\n",
       "      <th>ddd</th>\n",
       "      <th>ffkmh</th>\n",
       "      <th>P0hPa</th>\n",
       "      <th>PTnd</th>\n",
       "      <th>Nt</th>\n",
       "      <th>ddd_</th>\n",
       "    </tr>\n",
       "    <tr>\n",
       "      <th>Datetime</th>\n",
       "      <th></th>\n",
       "      <th></th>\n",
       "      <th></th>\n",
       "      <th></th>\n",
       "      <th></th>\n",
       "      <th></th>\n",
       "      <th></th>\n",
       "    </tr>\n",
       "  </thead>\n",
       "  <tbody>\n",
       "    <tr>\n",
       "      <th>1999-09-15 00:00:00</th>\n",
       "      <td>13.7</td>\n",
       "      <td>E</td>\n",
       "      <td>7.2</td>\n",
       "      <td>----</td>\n",
       "      <td>+1.2</td>\n",
       "      <td>7</td>\n",
       "      <td>East</td>\n",
       "    </tr>\n",
       "    <tr>\n",
       "      <th>1999-09-15 03:00:00</th>\n",
       "      <td>14.3</td>\n",
       "      <td>SE</td>\n",
       "      <td>14.4</td>\n",
       "      <td>----</td>\n",
       "      <td>-1.3</td>\n",
       "      <td>5</td>\n",
       "      <td>South</td>\n",
       "    </tr>\n",
       "    <tr>\n",
       "      <th>1999-09-16 18:00:00</th>\n",
       "      <td>12.9</td>\n",
       "      <td>ESE</td>\n",
       "      <td>18.0</td>\n",
       "      <td>1002.3</td>\n",
       "      <td>+0.6</td>\n",
       "      <td>7</td>\n",
       "      <td>East</td>\n",
       "    </tr>\n",
       "    <tr>\n",
       "      <th>1999-09-16 21:00:00</th>\n",
       "      <td>14.0</td>\n",
       "      <td>E</td>\n",
       "      <td>21.6</td>\n",
       "      <td>----</td>\n",
       "      <td>+0.8</td>\n",
       "      <td>4</td>\n",
       "      <td>East</td>\n",
       "    </tr>\n",
       "    <tr>\n",
       "      <th>1999-09-17 00:00:00</th>\n",
       "      <td>14.3</td>\n",
       "      <td>SE</td>\n",
       "      <td>18.0</td>\n",
       "      <td>----</td>\n",
       "      <td>+0.2</td>\n",
       "      <td>0</td>\n",
       "      <td>South</td>\n",
       "    </tr>\n",
       "    <tr>\n",
       "      <th>...</th>\n",
       "      <td>...</td>\n",
       "      <td>...</td>\n",
       "      <td>...</td>\n",
       "      <td>...</td>\n",
       "      <td>...</td>\n",
       "      <td>...</td>\n",
       "      <td>...</td>\n",
       "    </tr>\n",
       "    <tr>\n",
       "      <th>2021-04-30 18:00:00</th>\n",
       "      <td>14.3</td>\n",
       "      <td>WNW</td>\n",
       "      <td>10.8</td>\n",
       "      <td>998.8</td>\n",
       "      <td>+0.3</td>\n",
       "      <td>6</td>\n",
       "      <td>West</td>\n",
       "    </tr>\n",
       "    <tr>\n",
       "      <th>2021-04-30 21:00:00</th>\n",
       "      <td>11.6</td>\n",
       "      <td>WNW</td>\n",
       "      <td>7.2</td>\n",
       "      <td>999.4</td>\n",
       "      <td>+0.6</td>\n",
       "      <td>5</td>\n",
       "      <td>West</td>\n",
       "    </tr>\n",
       "    <tr>\n",
       "      <th>2021-05-01 00:00:00</th>\n",
       "      <td>8.8</td>\n",
       "      <td>WNW</td>\n",
       "      <td>7.2</td>\n",
       "      <td>999.8</td>\n",
       "      <td>+0.4</td>\n",
       "      <td>2</td>\n",
       "      <td>West</td>\n",
       "    </tr>\n",
       "    <tr>\n",
       "      <th>2021-05-01 03:00:00</th>\n",
       "      <td>6.8</td>\n",
       "      <td>NW</td>\n",
       "      <td>10.8</td>\n",
       "      <td>1001.1</td>\n",
       "      <td>+1.3</td>\n",
       "      <td>6</td>\n",
       "      <td>North</td>\n",
       "    </tr>\n",
       "    <tr>\n",
       "      <th>2021-05-01 06:00:00</th>\n",
       "      <td>1.9</td>\n",
       "      <td>NNW</td>\n",
       "      <td>7.2</td>\n",
       "      <td>1003.9</td>\n",
       "      <td>+2.8</td>\n",
       "      <td>8</td>\n",
       "      <td>North</td>\n",
       "    </tr>\n",
       "  </tbody>\n",
       "</table>\n",
       "<p>62849 rows × 7 columns</p>\n",
       "</div>"
      ],
      "text/plain": [
       "                     T(C)  ddd ffkmh   P0hPa  PTnd Nt   ddd_\n",
       "Datetime                                                    \n",
       "1999-09-15 00:00:00  13.7    E   7.2    ----  +1.2  7   East\n",
       "1999-09-15 03:00:00  14.3   SE  14.4    ----  -1.3  5  South\n",
       "1999-09-16 18:00:00  12.9  ESE  18.0  1002.3  +0.6  7   East\n",
       "1999-09-16 21:00:00  14.0    E  21.6    ----  +0.8  4   East\n",
       "1999-09-17 00:00:00  14.3   SE  18.0    ----  +0.2  0  South\n",
       "...                   ...  ...   ...     ...   ... ..    ...\n",
       "2021-04-30 18:00:00  14.3  WNW  10.8   998.8  +0.3  6   West\n",
       "2021-04-30 21:00:00  11.6  WNW   7.2   999.4  +0.6  5   West\n",
       "2021-05-01 00:00:00   8.8  WNW   7.2   999.8  +0.4  2   West\n",
       "2021-05-01 03:00:00   6.8   NW  10.8  1001.1  +1.3  6  North\n",
       "2021-05-01 06:00:00   1.9  NNW   7.2  1003.9  +2.8  8  North\n",
       "\n",
       "[62849 rows x 7 columns]"
      ]
     },
     "execution_count": 21,
     "metadata": {},
     "output_type": "execute_result"
    }
   ],
   "source": [
    "df_ogimet"
   ]
  }
 ],
 "metadata": {
  "kernelspec": {
   "display_name": "Python 3",
   "language": "python",
   "name": "python3"
  },
  "language_info": {
   "codemirror_mode": {
    "name": "ipython",
    "version": 3
   },
   "file_extension": ".py",
   "mimetype": "text/x-python",
   "name": "python",
   "nbconvert_exporter": "python",
   "pygments_lexer": "ipython3",
   "version": "3.6.8"
  }
 },
 "nbformat": 4,
 "nbformat_minor": 2
}

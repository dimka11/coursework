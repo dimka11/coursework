{
 "cells": [
  {
   "cell_type": "code",
   "execution_count": 11,
   "metadata": {},
   "outputs": [],
   "source": [
    "import pandas as pd\n",
    "import numpy as np\n",
    "from catboost import CatBoostRegressor, CatBoostClassifier, Pool\n",
    "import matplotlib.pyplot as plt"
   ]
  },
  {
   "cell_type": "code",
   "execution_count": 2,
   "metadata": {},
   "outputs": [],
   "source": [
    "%load_ext autoreload\n",
    "%autoreload 2\n",
    "\n",
    "from scripts import *"
   ]
  },
  {
   "cell_type": "code",
   "execution_count": 3,
   "metadata": {},
   "outputs": [
    {
     "name": "stdout",
     "output_type": "stream",
     "text": [
      "<class 'pandas.core.frame.DataFrame'>\n",
      "DatetimeIndex: 8499 entries, 2012-11-01 00:00:00 to 2021-02-28 21:00:00\n",
      "Data columns (total 21 columns):\n",
      " #   Column      Non-Null Count  Dtype  \n",
      "---  ------      --------------  -----  \n",
      " 0   T           8499 non-null   float64\n",
      " 1   T_a         8499 non-null   float64\n",
      " 2   Ff          8499 non-null   float64\n",
      " 3   N           8491 non-null   float64\n",
      " 4   Nh          6727 non-null   float64\n",
      " 5   Cl          8499 non-null   int32  \n",
      " 6   Po          8496 non-null   float64\n",
      " 7   U           8488 non-null   float64\n",
      " 8   Ch          3019 non-null   object \n",
      " 9   Cm          5181 non-null   object \n",
      " 10  H           6739 non-null   object \n",
      " 11  RRR         2141 non-null   object \n",
      " 12  DD_         8499 non-null   object \n",
      " 13  diff        8499 non-null   float64\n",
      " 14  abs_diff    8499 non-null   float64\n",
      " 15  T_kal       8488 non-null   float64\n",
      " 16  T_sher      8494 non-null   float64\n",
      " 17  T_sar       6675 non-null   float64\n",
      " 18  three_mean  6666 non-null   float64\n",
      " 19  diff_3      6666 non-null   float64\n",
      " 20  abs_diff_3  6666 non-null   float64\n",
      "dtypes: float64(15), int32(1), object(5)\n",
      "memory usage: 1.4+ MB\n"
     ]
    }
   ],
   "source": [
    "%store -r df_merged\n",
    "df_merged.info()"
   ]
  },
  {
   "cell_type": "code",
   "execution_count": 4,
   "metadata": {},
   "outputs": [],
   "source": [
    "# try catboost reg\n",
    "df_merged_c = df_merged.copy()\n",
    "\n",
    "df_merged_c['Cl'] = df_merged_c['Ch'].fillna(0)\n",
    "df_merged_c['Ch'] = df_merged_c['Ch'].fillna(0)\n",
    "df_merged_c['Cm'] = df_merged_c['Ch'].fillna(0)\n",
    "df_merged_c['H'] = df_merged_c['Ch'].fillna(0)\n",
    "df_merged_c['RRR'] = df_merged_c['Ch'].fillna(0)"
   ]
  },
  {
   "cell_type": "code",
   "execution_count": 35,
   "metadata": {},
   "outputs": [],
   "source": [
    "# splitting\n",
    "from sklearn.model_selection import train_test_split\n",
    "X_train, X_test, y_train, y_test = train_test_split(df_merged_c.drop(columns=['diff','abs_diff','diff_3','abs_diff_3', 'T_a']),df_merged_c['diff'], test_size=0.7, shuffle=True)"
   ]
  },
  {
   "cell_type": "code",
   "execution_count": 5,
   "metadata": {},
   "outputs": [],
   "source": [
    "train_data = df_merged_c['2012':'2019-03']\n",
    "train_data = train_data.drop(columns=['diff','abs_diff','diff_3','abs_diff_3', 'T_a'])\n",
    "eval_data = df_merged_c['2019-11':]\n",
    "eval_data = eval_data.drop(columns=['diff','abs_diff','diff_3','abs_diff_3', 'T_a'])\n",
    "train_labels = df_merged_c['2012':'2019-03']['diff']"
   ]
  },
  {
   "cell_type": "code",
   "execution_count": 40,
   "metadata": {},
   "outputs": [
    {
     "data": {
      "text/plain": [
       "<catboost.core.CatBoostRegressor at 0x22cdd0c3ba8>"
      ]
     },
     "execution_count": 40,
     "metadata": {},
     "output_type": "execute_result"
    }
   ],
   "source": [
    "model = CatBoostRegressor(iterations=1000, # {'depth': 10, 'l2_leaf_reg': 5, 'iterations': 1000, 'learning_rate': 0.3}\n",
    "                           task_type=\"GPU\",\n",
    "                           devices='0:1',\n",
    "                         depth=10,\n",
    "                         l2_leaf_reg=5,\n",
    "                         learning_rate=0.3)\n",
    "cat_cols = ['DD', 'DD_', 'Cl', 'Cm','Ch', 'H', 'RRR']\n",
    "cat_cols = ['DD_', 'Cl', 'Cm','Ch', 'H', 'RRR']\n",
    "\n",
    "model.fit(train_data,\n",
    "          train_labels,\n",
    "          verbose=False,\n",
    "         cat_features=cat_cols)"
   ]
  },
  {
   "cell_type": "code",
   "execution_count": 36,
   "metadata": {},
   "outputs": [
    {
     "data": {
      "text/plain": [
       "<catboost.core.CatBoostRegressor at 0x22cdd0c6278>"
      ]
     },
     "execution_count": 36,
     "metadata": {},
     "output_type": "execute_result"
    }
   ],
   "source": [
    "model = CatBoostRegressor(iterations=1000, # {'depth': 10, 'l2_leaf_reg': 5, 'iterations': 1000, 'learning_rate': 0.3}\n",
    "                           task_type=\"GPU\",\n",
    "                           devices='0:1',\n",
    "                         depth=10,\n",
    "                         l2_leaf_reg=5,\n",
    "                         learning_rate=0.3)\n",
    "cat_cols = ['DD', 'DD_', 'Cl', 'Cm','Ch', 'H', 'RRR']\n",
    "cat_cols = ['DD_', 'Cl', 'Cm','Ch', 'H', 'RRR']\n",
    "\n",
    "model.fit(X_train,\n",
    "          y_train,\n",
    "          verbose=False,\n",
    "         cat_features=cat_cols)"
   ]
  },
  {
   "cell_type": "code",
   "execution_count": 39,
   "metadata": {},
   "outputs": [
    {
     "data": {
      "text/plain": [
       "0.7041225470206153"
      ]
     },
     "execution_count": 39,
     "metadata": {},
     "output_type": "execute_result"
    }
   ],
   "source": [
    "from sklearn.metrics import mean_absolute_error\n",
    "mean_absolute_error(y_test, model.predict(X_test))"
   ]
  },
  {
   "cell_type": "code",
   "execution_count": 29,
   "metadata": {},
   "outputs": [
    {
     "data": {
      "text/plain": [
       "<catboost.core.CatBoostRegressor at 0x22ccc8f2da0>"
      ]
     },
     "execution_count": 29,
     "metadata": {},
     "output_type": "execute_result"
    }
   ],
   "source": [
    "# for visualize\n",
    "model_v3 = CatBoostRegressor(iterations=1000, # {'depth': 10, 'l2_leaf_reg': 5, 'iterations': 1000, 'learning_rate': 0.3}\n",
    "                           task_type=\"GPU\",\n",
    "                           devices='0:1',\n",
    "                         depth=3,\n",
    "                            max_ctr_complexity=1,\n",
    "                            one_hot_max_size=15)\n",
    "cat_cols = ['DD', 'DD_', 'Cl', 'Cm','Ch', 'H', 'RRR']\n",
    "cat_cols = ['DD_', 'Cl', 'Cm','Ch', 'H', 'RRR']\n",
    "\n",
    "model_v3.fit(train_data,\n",
    "          train_labels,\n",
    "          verbose=False,\n",
    "         cat_features=cat_cols)"
   ]
  },
  {
   "cell_type": "code",
   "execution_count": 8,
   "metadata": {},
   "outputs": [
    {
     "data": {
      "text/plain": [
       "<catboost.core.CatBoostRegressor at 0x22ccb6caf98>"
      ]
     },
     "execution_count": 8,
     "metadata": {},
     "output_type": "execute_result"
    }
   ],
   "source": [
    "# for visualize\n",
    "model_v4 = CatBoostRegressor(iterations=1000, # {'depth': 10, 'l2_leaf_reg': 5, 'iterations': 1000, 'learning_rate': 0.3}\n",
    "                           task_type=\"GPU\",\n",
    "                           devices='0:1',\n",
    "                         depth=4)\n",
    "cat_cols = ['DD', 'DD_', 'Cl', 'Cm','Ch', 'H', 'RRR']\n",
    "cat_cols = ['DD_', 'Cl', 'Cm','Ch', 'H', 'RRR']\n",
    "\n",
    "model_v4.fit(train_data,\n",
    "          train_labels,\n",
    "          verbose=False,\n",
    "         cat_features=cat_cols)"
   ]
  },
  {
   "cell_type": "code",
   "execution_count": 11,
   "metadata": {},
   "outputs": [
    {
     "name": "stdout",
     "output_type": "stream",
     "text": [
      "<class 'pandas.core.frame.DataFrame'>\n",
      "DatetimeIndex: 6652 entries, 2012-11-01 00:00:00 to 2019-02-28 21:00:00\n",
      "Data columns (total 16 columns):\n",
      " #   Column      Non-Null Count  Dtype  \n",
      "---  ------      --------------  -----  \n",
      " 0   T           6652 non-null   float64\n",
      " 1   Ff          6652 non-null   float64\n",
      " 2   N           6644 non-null   float64\n",
      " 3   Nh          5188 non-null   float64\n",
      " 4   Cl          6652 non-null   object \n",
      " 5   Po          6651 non-null   float64\n",
      " 6   U           6645 non-null   float64\n",
      " 7   Ch          6652 non-null   object \n",
      " 8   Cm          6652 non-null   object \n",
      " 9   H           6652 non-null   object \n",
      " 10  RRR         6652 non-null   object \n",
      " 11  DD_         6652 non-null   object \n",
      " 12  T_kal       6642 non-null   float64\n",
      " 13  T_sher      6649 non-null   float64\n",
      " 14  T_sar       4834 non-null   float64\n",
      " 15  three_mean  4826 non-null   float64\n",
      "dtypes: float64(10), object(6)\n",
      "memory usage: 883.5+ KB\n"
     ]
    }
   ],
   "source": [
    "train_data.info()"
   ]
  },
  {
   "cell_type": "code",
   "execution_count": 13,
   "metadata": {},
   "outputs": [
    {
     "data": {
      "image/png": "[encoded data removed]",
      "text/plain": [
       "<Figure size 432x288 with 1 Axes>"
      ]
     },
     "metadata": {
      "needs_background": "light"
     },
     "output_type": "display_data"
    }
   ],
   "source": [
    "# plt.bar([0,1,2,3,4,5,6,7,8,9, 10, 11,12,13,14, 15], model.get_feature_importance())\n",
    "plt.bar(train_data.columns.values.tolist(), model.get_feature_importance())\n",
    "plt.show()"
   ]
  },
  {
   "cell_type": "code",
   "execution_count": 18,
   "metadata": {},
   "outputs": [
    {
     "data": {
      "text/plain": [
       "<BarContainer object of 16 artists>"
      ]
     },
     "execution_count": 18,
     "metadata": {},
     "output_type": "execute_result"
    },
    {
     "data": {
      "image/png": "[encoded data removed]",
      "text/plain": [
       "<Figure size 432x288 with 1 Axes>"
      ]
     },
     "metadata": {
      "needs_background": "light"
     },
     "output_type": "display_data"
    }
   ],
   "source": [
    "plt.bar(train_data.columns.values.tolist(), model_v3.get_feature_importance())"
   ]
  },
  {
   "cell_type": "markdown",
   "metadata": {},
   "source": [
    "### Visualization of CatBoost decision trees\n",
    "https://github.com/catboost/tutorials/blob/master/model_analysis/visualize_decision_trees_tutorial.ipynb\n",
    "\n",
    "https://stackoverflow.com/questions/65634161/how-to-get-catboost-visualization-to-show-the-categories"
   ]
  },
  {
   "cell_type": "code",
   "execution_count": 13,
   "metadata": {},
   "outputs": [],
   "source": [
    "is_cat = (train_data.dtypes != float)\n",
    "cat_features_index = np.where(is_cat)[0]\n",
    "\n",
    "pool = Pool(train_data, train_labels, cat_features=cat_features_index, feature_names=list(train_data.columns))"
   ]
  },
  {
   "cell_type": "code",
   "execution_count": 22,
   "metadata": {},
   "outputs": [
    {
     "data": {
      "image/svg+xml": [
       "<?xml version=\"1.0\" encoding=\"UTF-8\" standalone=\"no\"?>\r\n",
       "<!DOCTYPE svg PUBLIC \"-//W3C//DTD SVG 1.1//EN\"\r\n",
       " \"http://www.w3.org/Graphics/SVG/1.1/DTD/svg11.dtd\">\r\n",
       "<!-- Generated by graphviz version 2.47.1 (20210417.1919)\r\n",
       " -->\r\n",
       "<!-- Pages: 1 -->\r\n",
       "<svg width=\"1434pt\" height=\"305pt\"\r\n",
       " viewBox=\"0.00 0.00 1433.87 305.00\" xmlns=\"http://www.w3.org/2000/svg\" xmlns:xlink=\"http://www.w3.org/1999/xlink\">\r\n",
       "<g id=\"graph0\" class=\"graph\" transform=\"scale(1 1) rotate(0) translate(4 301)\">\r\n",
       "<polygon fill=\"white\" stroke=\"transparent\" points=\"-4,4 -4,-301 1429.87,-301 1429.87,4 -4,4\"/>\r\n",
       "<!-- 0 -->\r\n",
       "<g id=\"node1\" class=\"node\">\r\n",
       "<title>0</title>\r\n",
       "<ellipse fill=\"none\" stroke=\"black\" cx=\"701.93\" cy=\"-279\" rx=\"204.16\" ry=\"18\"/>\r\n",
       "<text text-anchor=\"middle\" x=\"701.93\" y=\"-275.3\" font-family=\"Times New Roman,serif\" font-size=\"14.00\">{Cm, H, DD_} pr_num0 tb0 type5, value&gt;0.0676319</text>\r\n",
       "</g>\r\n",
       "<!-- 1 -->\r\n",
       "<g id=\"node2\" class=\"node\">\r\n",
       "<title>1</title>\r\n",
       "<ellipse fill=\"none\" stroke=\"black\" cx=\"504.93\" cy=\"-192\" rx=\"188.47\" ry=\"18\"/>\r\n",
       "<text text-anchor=\"middle\" x=\"504.93\" y=\"-188.3\" font-family=\"Times New Roman,serif\" font-size=\"14.00\">{Cm, DD_} pr_num0 tb0 type5, value&gt;0.205751</text>\r\n",
       "</g>\r\n",
       "<!-- 0&#45;&gt;1 -->\r\n",
       "<g id=\"edge1\" class=\"edge\">\r\n",
       "<title>0&#45;&gt;1</title>\r\n",
       "<path fill=\"none\" stroke=\"black\" d=\"M663.01,-261.21C631.45,-247.59 586.8,-228.32 553,-213.74\"/>\r\n",
       "<polygon fill=\"black\" stroke=\"black\" points=\"554.34,-210.51 543.77,-209.76 551.57,-216.93 554.34,-210.51\"/>\r\n",
       "<text text-anchor=\"middle\" x=\"624.93\" y=\"-231.8\" font-family=\"Times New Roman,serif\" font-size=\"14.00\">No</text>\r\n",
       "</g>\r\n",
       "<!-- 2 -->\r\n",
       "<g id=\"node3\" class=\"node\">\r\n",
       "<title>2</title>\r\n",
       "<ellipse fill=\"none\" stroke=\"black\" cx=\"899.93\" cy=\"-192\" rx=\"188.47\" ry=\"18\"/>\r\n",
       "<text text-anchor=\"middle\" x=\"899.93\" y=\"-188.3\" font-family=\"Times New Roman,serif\" font-size=\"14.00\">{Cm, DD_} pr_num0 tb0 type5, value&gt;0.205751</text>\r\n",
       "</g>\r\n",
       "<!-- 0&#45;&gt;2 -->\r\n",
       "<g id=\"edge2\" class=\"edge\">\r\n",
       "<title>0&#45;&gt;2</title>\r\n",
       "<path fill=\"none\" stroke=\"black\" d=\"M741.05,-261.21C772.78,-247.59 817.66,-228.32 851.63,-213.74\"/>\r\n",
       "<polygon fill=\"black\" stroke=\"black\" points=\"853.09,-216.92 860.9,-209.76 850.33,-210.49 853.09,-216.92\"/>\r\n",
       "<text text-anchor=\"middle\" x=\"823.93\" y=\"-231.8\" font-family=\"Times New Roman,serif\" font-size=\"14.00\">Yes</text>\r\n",
       "</g>\r\n",
       "<!-- 3 -->\r\n",
       "<g id=\"node4\" class=\"node\">\r\n",
       "<title>3</title>\r\n",
       "<ellipse fill=\"none\" stroke=\"black\" cx=\"170.93\" cy=\"-105\" rx=\"170.87\" ry=\"18\"/>\r\n",
       "<text text-anchor=\"middle\" x=\"170.93\" y=\"-101.3\" font-family=\"Times New Roman,serif\" font-size=\"14.00\">{DD_} pr_num0 tb0 type0, value&gt;0.460227</text>\r\n",
       "</g>\r\n",
       "<!-- 1&#45;&gt;3 -->\r\n",
       "<g id=\"edge3\" class=\"edge\">\r\n",
       "<title>1&#45;&gt;3</title>\r\n",
       "<path fill=\"none\" stroke=\"black\" d=\"M442.11,-175.01C385.57,-160.62 302.51,-139.49 243.23,-124.4\"/>\r\n",
       "<polygon fill=\"black\" stroke=\"black\" points=\"243.75,-120.92 233.19,-121.84 242.02,-127.7 243.75,-120.92\"/>\r\n",
       "<text text-anchor=\"middle\" x=\"366.93\" y=\"-144.8\" font-family=\"Times New Roman,serif\" font-size=\"14.00\">No</text>\r\n",
       "</g>\r\n",
       "<!-- 4 -->\r\n",
       "<g id=\"node5\" class=\"node\">\r\n",
       "<title>4</title>\r\n",
       "<ellipse fill=\"none\" stroke=\"black\" cx=\"530.93\" cy=\"-105\" rx=\"170.87\" ry=\"18\"/>\r\n",
       "<text text-anchor=\"middle\" x=\"530.93\" y=\"-101.3\" font-family=\"Times New Roman,serif\" font-size=\"14.00\">{DD_} pr_num0 tb0 type0, value&gt;0.460227</text>\r\n",
       "</g>\r\n",
       "<!-- 1&#45;&gt;4 -->\r\n",
       "<g id=\"edge4\" class=\"edge\">\r\n",
       "<title>1&#45;&gt;4</title>\r\n",
       "<path fill=\"none\" stroke=\"black\" d=\"M510.2,-173.8C513.79,-162.05 518.63,-146.24 522.72,-132.84\"/>\r\n",
       "<polygon fill=\"black\" stroke=\"black\" points=\"526.1,-133.76 525.68,-123.18 519.41,-131.71 526.1,-133.76\"/>\r\n",
       "<text text-anchor=\"middle\" x=\"530.93\" y=\"-144.8\" font-family=\"Times New Roman,serif\" font-size=\"14.00\">Yes</text>\r\n",
       "</g>\r\n",
       "<!-- 5 -->\r\n",
       "<g id=\"node6\" class=\"node\">\r\n",
       "<title>5</title>\r\n",
       "<ellipse fill=\"none\" stroke=\"black\" cx=\"894.93\" cy=\"-105\" rx=\"170.87\" ry=\"18\"/>\r\n",
       "<text text-anchor=\"middle\" x=\"894.93\" y=\"-101.3\" font-family=\"Times New Roman,serif\" font-size=\"14.00\">{DD_} pr_num0 tb0 type0, value&gt;0.460227</text>\r\n",
       "</g>\r\n",
       "<!-- 2&#45;&gt;5 -->\r\n",
       "<g id=\"edge5\" class=\"edge\">\r\n",
       "<title>2&#45;&gt;5</title>\r\n",
       "<path fill=\"none\" stroke=\"black\" d=\"M898.92,-173.8C898.24,-162.16 897.32,-146.55 896.54,-133.24\"/>\r\n",
       "<polygon fill=\"black\" stroke=\"black\" points=\"900.03,-132.95 895.95,-123.18 893.04,-133.36 900.03,-132.95\"/>\r\n",
       "<text text-anchor=\"middle\" x=\"906.93\" y=\"-144.8\" font-family=\"Times New Roman,serif\" font-size=\"14.00\">No</text>\r\n",
       "</g>\r\n",
       "<!-- 6 -->\r\n",
       "<g id=\"node7\" class=\"node\">\r\n",
       "<title>6</title>\r\n",
       "<ellipse fill=\"none\" stroke=\"black\" cx=\"1254.93\" cy=\"-105\" rx=\"170.87\" ry=\"18\"/>\r\n",
       "<text text-anchor=\"middle\" x=\"1254.93\" y=\"-101.3\" font-family=\"Times New Roman,serif\" font-size=\"14.00\">{DD_} pr_num0 tb0 type0, value&gt;0.460227</text>\r\n",
       "</g>\r\n",
       "<!-- 2&#45;&gt;6 -->\r\n",
       "<g id=\"edge6\" class=\"edge\">\r\n",
       "<title>2&#45;&gt;6</title>\r\n",
       "<path fill=\"none\" stroke=\"black\" d=\"M966.29,-175.11C1026.87,-160.61 1116.34,-139.18 1179.59,-124.04\"/>\r\n",
       "<polygon fill=\"black\" stroke=\"black\" points=\"1180.59,-127.4 1189.5,-121.67 1178.96,-120.59 1180.59,-127.4\"/>\r\n",
       "<text text-anchor=\"middle\" x=\"1109.93\" y=\"-144.8\" font-family=\"Times New Roman,serif\" font-size=\"14.00\">Yes</text>\r\n",
       "</g>\r\n",
       "<!-- 7 -->\r\n",
       "<g id=\"node8\" class=\"node\">\r\n",
       "<title>7</title>\r\n",
       "<polygon fill=\"none\" stroke=\"red\" points=\"163.43,-36 80.43,-36 80.43,0 163.43,0 163.43,-36\"/>\r\n",
       "<text text-anchor=\"middle\" x=\"121.93\" y=\"-14.3\" font-family=\"Times New Roman,serif\" font-size=\"14.00\">val = &#45;0.048</text>\r\n",
       "</g>\r\n",
       "<!-- 3&#45;&gt;7 -->\r\n",
       "<g id=\"edge7\" class=\"edge\">\r\n",
       "<title>3&#45;&gt;7</title>\r\n",
       "<path fill=\"none\" stroke=\"black\" d=\"M161.02,-86.8C154.11,-74.82 144.77,-58.62 136.96,-45.06\"/>\r\n",
       "<polygon fill=\"black\" stroke=\"black\" points=\"139.86,-43.09 131.84,-36.18 133.8,-46.59 139.86,-43.09\"/>\r\n",
       "<text text-anchor=\"middle\" x=\"158.93\" y=\"-57.8\" font-family=\"Times New Roman,serif\" font-size=\"14.00\">No</text>\r\n",
       "</g>\r\n",
       "<!-- 8 -->\r\n",
       "<g id=\"node9\" class=\"node\">\r\n",
       "<title>8</title>\r\n",
       "<polygon fill=\"none\" stroke=\"red\" points=\"260.43,-36 181.43,-36 181.43,0 260.43,0 260.43,-36\"/>\r\n",
       "<text text-anchor=\"middle\" x=\"220.93\" y=\"-14.3\" font-family=\"Times New Roman,serif\" font-size=\"14.00\">val = 0.031</text>\r\n",
       "</g>\r\n",
       "<!-- 3&#45;&gt;8 -->\r\n",
       "<g id=\"edge8\" class=\"edge\">\r\n",
       "<title>3&#45;&gt;8</title>\r\n",
       "<path fill=\"none\" stroke=\"black\" d=\"M181.05,-86.8C188.1,-74.82 197.63,-58.62 205.61,-45.06\"/>\r\n",
       "<polygon fill=\"black\" stroke=\"black\" points=\"208.78,-46.57 210.83,-36.18 202.74,-43.02 208.78,-46.57\"/>\r\n",
       "<text text-anchor=\"middle\" x=\"209.93\" y=\"-57.8\" font-family=\"Times New Roman,serif\" font-size=\"14.00\">Yes</text>\r\n",
       "</g>\r\n",
       "<!-- 9 -->\r\n",
       "<g id=\"node10\" class=\"node\">\r\n",
       "<title>9</title>\r\n",
       "<polygon fill=\"none\" stroke=\"red\" points=\"521.43,-36 442.43,-36 442.43,0 521.43,0 521.43,-36\"/>\r\n",
       "<text text-anchor=\"middle\" x=\"481.93\" y=\"-14.3\" font-family=\"Times New Roman,serif\" font-size=\"14.00\">val = 0.000</text>\r\n",
       "</g>\r\n",
       "<!-- 4&#45;&gt;9 -->\r\n",
       "<g id=\"edge9\" class=\"edge\">\r\n",
       "<title>4&#45;&gt;9</title>\r\n",
       "<path fill=\"none\" stroke=\"black\" d=\"M521.02,-86.8C514.11,-74.82 504.77,-58.62 496.96,-45.06\"/>\r\n",
       "<polygon fill=\"black\" stroke=\"black\" points=\"499.86,-43.09 491.84,-36.18 493.8,-46.59 499.86,-43.09\"/>\r\n",
       "<text text-anchor=\"middle\" x=\"518.93\" y=\"-57.8\" font-family=\"Times New Roman,serif\" font-size=\"14.00\">No</text>\r\n",
       "</g>\r\n",
       "<!-- 10 -->\r\n",
       "<g id=\"node11\" class=\"node\">\r\n",
       "<title>10</title>\r\n",
       "<polygon fill=\"none\" stroke=\"red\" points=\"618.43,-36 539.43,-36 539.43,0 618.43,0 618.43,-36\"/>\r\n",
       "<text text-anchor=\"middle\" x=\"578.93\" y=\"-14.3\" font-family=\"Times New Roman,serif\" font-size=\"14.00\">val = 0.000</text>\r\n",
       "</g>\r\n",
       "<!-- 4&#45;&gt;10 -->\r\n",
       "<g id=\"edge10\" class=\"edge\">\r\n",
       "<title>4&#45;&gt;10</title>\r\n",
       "<path fill=\"none\" stroke=\"black\" d=\"M540.65,-86.8C547.41,-74.82 556.56,-58.62 564.22,-45.06\"/>\r\n",
       "<polygon fill=\"black\" stroke=\"black\" points=\"567.37,-46.6 569.24,-36.18 561.27,-43.16 567.37,-46.6\"/>\r\n",
       "<text text-anchor=\"middle\" x=\"568.93\" y=\"-57.8\" font-family=\"Times New Roman,serif\" font-size=\"14.00\">Yes</text>\r\n",
       "</g>\r\n",
       "<!-- 11 -->\r\n",
       "<g id=\"node12\" class=\"node\">\r\n",
       "<title>11</title>\r\n",
       "<polygon fill=\"none\" stroke=\"red\" points=\"886.43,-36 803.43,-36 803.43,0 886.43,0 886.43,-36\"/>\r\n",
       "<text text-anchor=\"middle\" x=\"844.93\" y=\"-14.3\" font-family=\"Times New Roman,serif\" font-size=\"14.00\">val = &#45;0.057</text>\r\n",
       "</g>\r\n",
       "<!-- 5&#45;&gt;11 -->\r\n",
       "<g id=\"edge11\" class=\"edge\">\r\n",
       "<title>5&#45;&gt;11</title>\r\n",
       "<path fill=\"none\" stroke=\"black\" d=\"M884.82,-86.8C877.77,-74.82 868.24,-58.62 860.26,-45.06\"/>\r\n",
       "<polygon fill=\"black\" stroke=\"black\" points=\"863.13,-43.02 855.04,-36.18 857.09,-46.57 863.13,-43.02\"/>\r\n",
       "<text text-anchor=\"middle\" x=\"881.93\" y=\"-57.8\" font-family=\"Times New Roman,serif\" font-size=\"14.00\">No</text>\r\n",
       "</g>\r\n",
       "<!-- 12 -->\r\n",
       "<g id=\"node13\" class=\"node\">\r\n",
       "<title>12</title>\r\n",
       "<polygon fill=\"none\" stroke=\"red\" points=\"983.43,-36 904.43,-36 904.43,0 983.43,0 983.43,-36\"/>\r\n",
       "<text text-anchor=\"middle\" x=\"943.93\" y=\"-14.3\" font-family=\"Times New Roman,serif\" font-size=\"14.00\">val = 0.054</text>\r\n",
       "</g>\r\n",
       "<!-- 5&#45;&gt;12 -->\r\n",
       "<g id=\"edge12\" class=\"edge\">\r\n",
       "<title>5&#45;&gt;12</title>\r\n",
       "<path fill=\"none\" stroke=\"black\" d=\"M904.85,-86.8C911.76,-74.82 921.1,-58.62 928.91,-45.06\"/>\r\n",
       "<polygon fill=\"black\" stroke=\"black\" points=\"932.07,-46.59 934.03,-36.18 926.01,-43.09 932.07,-46.59\"/>\r\n",
       "<text text-anchor=\"middle\" x=\"933.93\" y=\"-57.8\" font-family=\"Times New Roman,serif\" font-size=\"14.00\">Yes</text>\r\n",
       "</g>\r\n",
       "<!-- 13 -->\r\n",
       "<g id=\"node14\" class=\"node\">\r\n",
       "<title>13</title>\r\n",
       "<polygon fill=\"none\" stroke=\"red\" points=\"1246.43,-36 1163.43,-36 1163.43,0 1246.43,0 1246.43,-36\"/>\r\n",
       "<text text-anchor=\"middle\" x=\"1204.93\" y=\"-14.3\" font-family=\"Times New Roman,serif\" font-size=\"14.00\">val = &#45;0.004</text>\r\n",
       "</g>\r\n",
       "<!-- 6&#45;&gt;13 -->\r\n",
       "<g id=\"edge13\" class=\"edge\">\r\n",
       "<title>6&#45;&gt;13</title>\r\n",
       "<path fill=\"none\" stroke=\"black\" d=\"M1244.82,-86.8C1237.77,-74.82 1228.24,-58.62 1220.26,-45.06\"/>\r\n",
       "<polygon fill=\"black\" stroke=\"black\" points=\"1223.13,-43.02 1215.04,-36.18 1217.09,-46.57 1223.13,-43.02\"/>\r\n",
       "<text text-anchor=\"middle\" x=\"1241.93\" y=\"-57.8\" font-family=\"Times New Roman,serif\" font-size=\"14.00\">No</text>\r\n",
       "</g>\r\n",
       "<!-- 14 -->\r\n",
       "<g id=\"node15\" class=\"node\">\r\n",
       "<title>14</title>\r\n",
       "<polygon fill=\"none\" stroke=\"red\" points=\"1343.43,-36 1264.43,-36 1264.43,0 1343.43,0 1343.43,-36\"/>\r\n",
       "<text text-anchor=\"middle\" x=\"1303.93\" y=\"-14.3\" font-family=\"Times New Roman,serif\" font-size=\"14.00\">val = 0.013</text>\r\n",
       "</g>\r\n",
       "<!-- 6&#45;&gt;14 -->\r\n",
       "<g id=\"edge14\" class=\"edge\">\r\n",
       "<title>6&#45;&gt;14</title>\r\n",
       "<path fill=\"none\" stroke=\"black\" d=\"M1264.85,-86.8C1271.76,-74.82 1281.1,-58.62 1288.91,-45.06\"/>\r\n",
       "<polygon fill=\"black\" stroke=\"black\" points=\"1292.07,-46.59 1294.03,-36.18 1286.01,-43.09 1292.07,-46.59\"/>\r\n",
       "<text text-anchor=\"middle\" x=\"1292.93\" y=\"-57.8\" font-family=\"Times New Roman,serif\" font-size=\"14.00\">Yes</text>\r\n",
       "</g>\r\n",
       "</g>\r\n",
       "</svg>\r\n"
      ],
      "text/plain": [
       "<graphviz.dot.Digraph at 0x22ccb70fd30>"
      ]
     },
     "execution_count": 22,
     "metadata": {},
     "output_type": "execute_result"
    }
   ],
   "source": [
    "model_v3.plot_tree(tree_idx=0, pool=pool)"
   ]
  },
  {
   "cell_type": "code",
   "execution_count": 30,
   "metadata": {},
   "outputs": [
    {
     "data": {
      "image/svg+xml": [
       "<?xml version=\"1.0\" encoding=\"UTF-8\" standalone=\"no\"?>\r\n",
       "<!DOCTYPE svg PUBLIC \"-//W3C//DTD SVG 1.1//EN\"\r\n",
       " \"http://www.w3.org/Graphics/SVG/1.1/DTD/svg11.dtd\">\r\n",
       "<!-- Generated by graphviz version 2.47.1 (20210417.1919)\r\n",
       " -->\r\n",
       "<!-- Pages: 1 -->\r\n",
       "<svg width=\"786pt\" height=\"305pt\"\r\n",
       " viewBox=\"0.00 0.00 786.00 305.00\" xmlns=\"http://www.w3.org/2000/svg\" xmlns:xlink=\"http://www.w3.org/1999/xlink\">\r\n",
       "<g id=\"graph0\" class=\"graph\" transform=\"scale(1 1) rotate(0) translate(4 301)\">\r\n",
       "<polygon fill=\"white\" stroke=\"transparent\" points=\"-4,4 -4,-301 782,-301 782,4 -4,4\"/>\r\n",
       "<!-- 0 -->\r\n",
       "<g id=\"node1\" class=\"node\">\r\n",
       "<title>0</title>\r\n",
       "<ellipse fill=\"none\" stroke=\"black\" cx=\"388.5\" cy=\"-279\" rx=\"65.79\" ry=\"18\"/>\r\n",
       "<text text-anchor=\"middle\" x=\"388.5\" y=\"-275.3\" font-family=\"Times New Roman,serif\" font-size=\"14.00\">Nh, value&gt;32.5</text>\r\n",
       "</g>\r\n",
       "<!-- 1 -->\r\n",
       "<g id=\"node2\" class=\"node\">\r\n",
       "<title>1</title>\r\n",
       "<ellipse fill=\"none\" stroke=\"black\" cx=\"302.5\" cy=\"-192\" rx=\"77.99\" ry=\"18\"/>\r\n",
       "<text text-anchor=\"middle\" x=\"302.5\" y=\"-188.3\" font-family=\"Times New Roman,serif\" font-size=\"14.00\">DD_, value=North</text>\r\n",
       "</g>\r\n",
       "<!-- 0&#45;&gt;1 -->\r\n",
       "<g id=\"edge1\" class=\"edge\">\r\n",
       "<title>0&#45;&gt;1</title>\r\n",
       "<path fill=\"none\" stroke=\"black\" d=\"M371.51,-261.21C358.67,-248.52 340.88,-230.93 326.57,-216.79\"/>\r\n",
       "<polygon fill=\"black\" stroke=\"black\" points=\"329.03,-214.3 319.46,-209.76 324.11,-219.28 329.03,-214.3\"/>\r\n",
       "<text text-anchor=\"middle\" x=\"360.5\" y=\"-231.8\" font-family=\"Times New Roman,serif\" font-size=\"14.00\">No</text>\r\n",
       "</g>\r\n",
       "<!-- 2 -->\r\n",
       "<g id=\"node3\" class=\"node\">\r\n",
       "<title>2</title>\r\n",
       "<ellipse fill=\"none\" stroke=\"black\" cx=\"476.5\" cy=\"-192\" rx=\"77.99\" ry=\"18\"/>\r\n",
       "<text text-anchor=\"middle\" x=\"476.5\" y=\"-188.3\" font-family=\"Times New Roman,serif\" font-size=\"14.00\">DD_, value=North</text>\r\n",
       "</g>\r\n",
       "<!-- 0&#45;&gt;2 -->\r\n",
       "<g id=\"edge2\" class=\"edge\">\r\n",
       "<title>0&#45;&gt;2</title>\r\n",
       "<path fill=\"none\" stroke=\"black\" d=\"M405.47,-261.61C418.65,-248.88 437.12,-231.03 451.93,-216.74\"/>\r\n",
       "<polygon fill=\"black\" stroke=\"black\" points=\"454.52,-219.09 459.28,-209.63 449.66,-214.06 454.52,-219.09\"/>\r\n",
       "<text text-anchor=\"middle\" x=\"449.5\" y=\"-231.8\" font-family=\"Times New Roman,serif\" font-size=\"14.00\">Yes</text>\r\n",
       "</g>\r\n",
       "<!-- 3 -->\r\n",
       "<g id=\"node4\" class=\"node\">\r\n",
       "<title>3</title>\r\n",
       "<ellipse fill=\"none\" stroke=\"black\" cx=\"138.5\" cy=\"-105\" rx=\"72.59\" ry=\"18\"/>\r\n",
       "<text text-anchor=\"middle\" x=\"138.5\" y=\"-101.3\" font-family=\"Times New Roman,serif\" font-size=\"14.00\">DD_, value=East</text>\r\n",
       "</g>\r\n",
       "<!-- 1&#45;&gt;3 -->\r\n",
       "<g id=\"edge3\" class=\"edge\">\r\n",
       "<title>1&#45;&gt;3</title>\r\n",
       "<path fill=\"none\" stroke=\"black\" d=\"M272.04,-175.21C245.37,-161.39 206.48,-141.24 177.54,-126.23\"/>\r\n",
       "<polygon fill=\"black\" stroke=\"black\" points=\"179.01,-123.05 168.52,-121.56 175.79,-129.27 179.01,-123.05\"/>\r\n",
       "<text text-anchor=\"middle\" x=\"239.5\" y=\"-144.8\" font-family=\"Times New Roman,serif\" font-size=\"14.00\">No</text>\r\n",
       "</g>\r\n",
       "<!-- 4 -->\r\n",
       "<g id=\"node5\" class=\"node\">\r\n",
       "<title>4</title>\r\n",
       "<ellipse fill=\"none\" stroke=\"black\" cx=\"302.5\" cy=\"-105\" rx=\"72.59\" ry=\"18\"/>\r\n",
       "<text text-anchor=\"middle\" x=\"302.5\" y=\"-101.3\" font-family=\"Times New Roman,serif\" font-size=\"14.00\">DD_, value=East</text>\r\n",
       "</g>\r\n",
       "<!-- 1&#45;&gt;4 -->\r\n",
       "<g id=\"edge4\" class=\"edge\">\r\n",
       "<title>1&#45;&gt;4</title>\r\n",
       "<path fill=\"none\" stroke=\"black\" d=\"M302.5,-173.8C302.5,-162.16 302.5,-146.55 302.5,-133.24\"/>\r\n",
       "<polygon fill=\"black\" stroke=\"black\" points=\"306,-133.18 302.5,-123.18 299,-133.18 306,-133.18\"/>\r\n",
       "<text text-anchor=\"middle\" x=\"313.5\" y=\"-144.8\" font-family=\"Times New Roman,serif\" font-size=\"14.00\">Yes</text>\r\n",
       "</g>\r\n",
       "<!-- 5 -->\r\n",
       "<g id=\"node6\" class=\"node\">\r\n",
       "<title>5</title>\r\n",
       "<ellipse fill=\"none\" stroke=\"black\" cx=\"475.5\" cy=\"-105\" rx=\"72.59\" ry=\"18\"/>\r\n",
       "<text text-anchor=\"middle\" x=\"475.5\" y=\"-101.3\" font-family=\"Times New Roman,serif\" font-size=\"14.00\">DD_, value=East</text>\r\n",
       "</g>\r\n",
       "<!-- 2&#45;&gt;5 -->\r\n",
       "<g id=\"edge5\" class=\"edge\">\r\n",
       "<title>2&#45;&gt;5</title>\r\n",
       "<path fill=\"none\" stroke=\"black\" d=\"M476.3,-173.8C476.16,-162.16 475.98,-146.55 475.82,-133.24\"/>\r\n",
       "<polygon fill=\"black\" stroke=\"black\" points=\"479.32,-133.13 475.7,-123.18 472.32,-133.22 479.32,-133.13\"/>\r\n",
       "<text text-anchor=\"middle\" x=\"485.5\" y=\"-144.8\" font-family=\"Times New Roman,serif\" font-size=\"14.00\">No</text>\r\n",
       "</g>\r\n",
       "<!-- 6 -->\r\n",
       "<g id=\"node7\" class=\"node\">\r\n",
       "<title>6</title>\r\n",
       "<ellipse fill=\"none\" stroke=\"black\" cx=\"639.5\" cy=\"-105\" rx=\"72.59\" ry=\"18\"/>\r\n",
       "<text text-anchor=\"middle\" x=\"639.5\" y=\"-101.3\" font-family=\"Times New Roman,serif\" font-size=\"14.00\">DD_, value=East</text>\r\n",
       "</g>\r\n",
       "<!-- 2&#45;&gt;6 -->\r\n",
       "<g id=\"edge6\" class=\"edge\">\r\n",
       "<title>2&#45;&gt;6</title>\r\n",
       "<path fill=\"none\" stroke=\"black\" d=\"M506.78,-175.21C533.28,-161.39 571.93,-141.24 600.7,-126.23\"/>\r\n",
       "<polygon fill=\"black\" stroke=\"black\" points=\"602.41,-129.29 609.66,-121.56 599.18,-123.08 602.41,-129.29\"/>\r\n",
       "<text text-anchor=\"middle\" x=\"579.5\" y=\"-144.8\" font-family=\"Times New Roman,serif\" font-size=\"14.00\">Yes</text>\r\n",
       "</g>\r\n",
       "<!-- 7 -->\r\n",
       "<g id=\"node8\" class=\"node\">\r\n",
       "<title>7</title>\r\n",
       "<polygon fill=\"none\" stroke=\"red\" points=\"79,-36 0,-36 0,0 79,0 79,-36\"/>\r\n",
       "<text text-anchor=\"middle\" x=\"39.5\" y=\"-14.3\" font-family=\"Times New Roman,serif\" font-size=\"14.00\">val = 0.050</text>\r\n",
       "</g>\r\n",
       "<!-- 3&#45;&gt;7 -->\r\n",
       "<g id=\"edge7\" class=\"edge\">\r\n",
       "<title>3&#45;&gt;7</title>\r\n",
       "<path fill=\"none\" stroke=\"black\" d=\"M119.41,-87.61C104.64,-74.92 83.96,-57.17 67.34,-42.9\"/>\r\n",
       "<polygon fill=\"black\" stroke=\"black\" points=\"69.42,-40.07 59.55,-36.21 64.86,-45.38 69.42,-40.07\"/>\r\n",
       "<text text-anchor=\"middle\" x=\"104.5\" y=\"-57.8\" font-family=\"Times New Roman,serif\" font-size=\"14.00\">No</text>\r\n",
       "</g>\r\n",
       "<!-- 8 -->\r\n",
       "<g id=\"node9\" class=\"node\">\r\n",
       "<title>8</title>\r\n",
       "<polygon fill=\"none\" stroke=\"red\" points=\"180,-36 97,-36 97,0 180,0 180,-36\"/>\r\n",
       "<text text-anchor=\"middle\" x=\"138.5\" y=\"-14.3\" font-family=\"Times New Roman,serif\" font-size=\"14.00\">val = &#45;0.064</text>\r\n",
       "</g>\r\n",
       "<!-- 3&#45;&gt;8 -->\r\n",
       "<g id=\"edge8\" class=\"edge\">\r\n",
       "<title>3&#45;&gt;8</title>\r\n",
       "<path fill=\"none\" stroke=\"black\" d=\"M138.5,-86.8C138.5,-75.16 138.5,-59.55 138.5,-46.24\"/>\r\n",
       "<polygon fill=\"black\" stroke=\"black\" points=\"142,-46.18 138.5,-36.18 135,-46.18 142,-46.18\"/>\r\n",
       "<text text-anchor=\"middle\" x=\"149.5\" y=\"-57.8\" font-family=\"Times New Roman,serif\" font-size=\"14.00\">Yes</text>\r\n",
       "</g>\r\n",
       "<!-- 9 -->\r\n",
       "<g id=\"node10\" class=\"node\">\r\n",
       "<title>9</title>\r\n",
       "<polygon fill=\"none\" stroke=\"red\" points=\"281,-36 198,-36 198,0 281,0 281,-36\"/>\r\n",
       "<text text-anchor=\"middle\" x=\"239.5\" y=\"-14.3\" font-family=\"Times New Roman,serif\" font-size=\"14.00\">val = &#45;0.066</text>\r\n",
       "</g>\r\n",
       "<!-- 4&#45;&gt;9 -->\r\n",
       "<g id=\"edge9\" class=\"edge\">\r\n",
       "<title>4&#45;&gt;9</title>\r\n",
       "<path fill=\"none\" stroke=\"black\" d=\"M290.05,-87.21C280.97,-74.95 268.49,-58.11 258.21,-44.24\"/>\r\n",
       "<polygon fill=\"black\" stroke=\"black\" points=\"260.9,-42 252.14,-36.05 255.28,-46.17 260.9,-42\"/>\r\n",
       "<text text-anchor=\"middle\" x=\"284.5\" y=\"-57.8\" font-family=\"Times New Roman,serif\" font-size=\"14.00\">No</text>\r\n",
       "</g>\r\n",
       "<!-- 10 -->\r\n",
       "<g id=\"node11\" class=\"node\">\r\n",
       "<title>10</title>\r\n",
       "<polygon fill=\"none\" stroke=\"red\" points=\"378,-36 299,-36 299,0 378,0 378,-36\"/>\r\n",
       "<text text-anchor=\"middle\" x=\"338.5\" y=\"-14.3\" font-family=\"Times New Roman,serif\" font-size=\"14.00\">val = 0.000</text>\r\n",
       "</g>\r\n",
       "<!-- 4&#45;&gt;10 -->\r\n",
       "<g id=\"edge10\" class=\"edge\">\r\n",
       "<title>4&#45;&gt;10</title>\r\n",
       "<path fill=\"none\" stroke=\"black\" d=\"M309.79,-86.8C314.81,-74.93 321.59,-58.93 327.3,-45.45\"/>\r\n",
       "<polygon fill=\"black\" stroke=\"black\" points=\"330.55,-46.75 331.23,-36.18 324.1,-44.02 330.55,-46.75\"/>\r\n",
       "<text text-anchor=\"middle\" x=\"334.5\" y=\"-57.8\" font-family=\"Times New Roman,serif\" font-size=\"14.00\">Yes</text>\r\n",
       "</g>\r\n",
       "<!-- 11 -->\r\n",
       "<g id=\"node12\" class=\"node\">\r\n",
       "<title>11</title>\r\n",
       "<polygon fill=\"none\" stroke=\"red\" points=\"479,-36 396,-36 396,0 479,0 479,-36\"/>\r\n",
       "<text text-anchor=\"middle\" x=\"437.5\" y=\"-14.3\" font-family=\"Times New Roman,serif\" font-size=\"14.00\">val = &#45;0.004</text>\r\n",
       "</g>\r\n",
       "<!-- 5&#45;&gt;11 -->\r\n",
       "<g id=\"edge11\" class=\"edge\">\r\n",
       "<title>5&#45;&gt;11</title>\r\n",
       "<path fill=\"none\" stroke=\"black\" d=\"M467.81,-86.8C462.5,-74.93 455.35,-58.93 449.32,-45.45\"/>\r\n",
       "<polygon fill=\"black\" stroke=\"black\" points=\"452.46,-43.88 445.18,-36.18 446.06,-46.73 452.46,-43.88\"/>\r\n",
       "<text text-anchor=\"middle\" x=\"468.5\" y=\"-57.8\" font-family=\"Times New Roman,serif\" font-size=\"14.00\">No</text>\r\n",
       "</g>\r\n",
       "<!-- 12 -->\r\n",
       "<g id=\"node13\" class=\"node\">\r\n",
       "<title>12</title>\r\n",
       "<polygon fill=\"none\" stroke=\"red\" points=\"580,-36 497,-36 497,0 580,0 580,-36\"/>\r\n",
       "<text text-anchor=\"middle\" x=\"538.5\" y=\"-14.3\" font-family=\"Times New Roman,serif\" font-size=\"14.00\">val = &#45;0.047</text>\r\n",
       "</g>\r\n",
       "<!-- 5&#45;&gt;12 -->\r\n",
       "<g id=\"edge12\" class=\"edge\">\r\n",
       "<title>5&#45;&gt;12</title>\r\n",
       "<path fill=\"none\" stroke=\"black\" d=\"M487.95,-87.21C497.03,-74.95 509.51,-58.11 519.79,-44.24\"/>\r\n",
       "<polygon fill=\"black\" stroke=\"black\" points=\"522.72,-46.17 525.86,-36.05 517.1,-42 522.72,-46.17\"/>\r\n",
       "<text text-anchor=\"middle\" x=\"522.5\" y=\"-57.8\" font-family=\"Times New Roman,serif\" font-size=\"14.00\">Yes</text>\r\n",
       "</g>\r\n",
       "<!-- 13 -->\r\n",
       "<g id=\"node14\" class=\"node\">\r\n",
       "<title>13</title>\r\n",
       "<polygon fill=\"none\" stroke=\"red\" points=\"681,-36 598,-36 598,0 681,0 681,-36\"/>\r\n",
       "<text text-anchor=\"middle\" x=\"639.5\" y=\"-14.3\" font-family=\"Times New Roman,serif\" font-size=\"14.00\">val = &#45;0.046</text>\r\n",
       "</g>\r\n",
       "<!-- 6&#45;&gt;13 -->\r\n",
       "<g id=\"edge13\" class=\"edge\">\r\n",
       "<title>6&#45;&gt;13</title>\r\n",
       "<path fill=\"none\" stroke=\"black\" d=\"M639.5,-86.8C639.5,-75.16 639.5,-59.55 639.5,-46.24\"/>\r\n",
       "<polygon fill=\"black\" stroke=\"black\" points=\"643,-46.18 639.5,-36.18 636,-46.18 643,-46.18\"/>\r\n",
       "<text text-anchor=\"middle\" x=\"648.5\" y=\"-57.8\" font-family=\"Times New Roman,serif\" font-size=\"14.00\">No</text>\r\n",
       "</g>\r\n",
       "<!-- 14 -->\r\n",
       "<g id=\"node15\" class=\"node\">\r\n",
       "<title>14</title>\r\n",
       "<polygon fill=\"none\" stroke=\"red\" points=\"778,-36 699,-36 699,0 778,0 778,-36\"/>\r\n",
       "<text text-anchor=\"middle\" x=\"738.5\" y=\"-14.3\" font-family=\"Times New Roman,serif\" font-size=\"14.00\">val = 0.000</text>\r\n",
       "</g>\r\n",
       "<!-- 6&#45;&gt;14 -->\r\n",
       "<g id=\"edge14\" class=\"edge\">\r\n",
       "<title>6&#45;&gt;14</title>\r\n",
       "<path fill=\"none\" stroke=\"black\" d=\"M658.59,-87.61C673.36,-74.92 694.04,-57.17 710.66,-42.9\"/>\r\n",
       "<polygon fill=\"black\" stroke=\"black\" points=\"713.14,-45.38 718.45,-36.21 708.58,-40.07 713.14,-45.38\"/>\r\n",
       "<text text-anchor=\"middle\" x=\"706.5\" y=\"-57.8\" font-family=\"Times New Roman,serif\" font-size=\"14.00\">Yes</text>\r\n",
       "</g>\r\n",
       "</g>\r\n",
       "</svg>\r\n"
      ],
      "text/plain": [
       "<graphviz.dot.Digraph at 0x22ccc8f2780>"
      ]
     },
     "execution_count": 30,
     "metadata": {},
     "output_type": "execute_result"
    }
   ],
   "source": [
    "model_v3.plot_tree(tree_idx=0, pool=pool)"
   ]
  },
  {
   "cell_type": "code",
   "execution_count": null,
   "metadata": {},
   "outputs": [],
   "source": [
    "model_v3.plot_tree(tree_idx=0, pool=pool)"
   ]
  },
  {
   "cell_type": "markdown",
   "metadata": {},
   "source": [
    "### feature_statistics_tutorial"
   ]
  },
  {
   "cell_type": "code",
   "execution_count": 43,
   "metadata": {},
   "outputs": [
    {
     "data": {
      "text/html": [
       "<script type=\"text/javascript\">window.PlotlyConfig = {MathJaxConfig: 'local'};</script><script type=\"text/javascript\">if (window.MathJax) {MathJax.Hub.Config({SVG: {font: \"STIX-Web\"}});}</script><script>requirejs.config({paths: { 'plotly': ['https://cdn.plot.ly/plotly-latest.min']},});if(!window._Plotly) {require(['plotly'],function(plotly) {window._Plotly=plotly;});}</script>"
      ],
      "text/vnd.plotly.v1+html": [
       "<script type=\"text/javascript\">window.PlotlyConfig = {MathJaxConfig: 'local'};</script><script type=\"text/javascript\">if (window.MathJax) {MathJax.Hub.Config({SVG: {font: \"STIX-Web\"}});}</script><script>requirejs.config({paths: { 'plotly': ['https://cdn.plot.ly/plotly-latest.min']},});if(!window._Plotly) {require(['plotly'],function(plotly) {window._Plotly=plotly;});}</script>"
      ]
     },
     "metadata": {},
     "output_type": "display_data"
    },
    {
     "data": {
      "application/vnd.plotly.v1+json": {
       "config": {
        "linkText": "Export to plot.ly",
        "plotlyServerURL": "https://plot.ly",
        "showLink": false
       },
       "data": [
        {
         "mode": "lines+markers",
         "name": "Mean target",
         "type": "scatter",
         "uid": "71b7d0bd-26f2-4b7a-be8f-42c4564cbcfc",
         "xaxis": "x",
         "y": [
          0.5151425004005432,
          0.5558575391769409,
          -0.6056996583938599,
          -0.6042512655258179,
          -0.27457624673843384
         ],
         "yaxis": "y"
        },
        {
         "mode": "lines+markers",
         "name": "Mean prediction on each segment of feature values",
         "type": "scatter",
         "uid": "623f947f-cf4c-48fe-9379-ff339600bb0a",
         "xaxis": "x",
         "y": [
          0.48731687664985657,
          0.47129085659980774,
          -0.462179571390152,
          -0.5017641186714172,
          -0.1916828602552414
         ],
         "yaxis": "y"
        },
        {
         "marker": {
          "color": "rgba(30, 150, 30, 0.4)"
         },
         "name": "Objects per bin",
         "type": "bar",
         "uid": "c7a4984a-d8e5-4b7d-ad08-d1b32a7430de",
         "width": 0.2,
         "xaxis": "x",
         "y": [
          2384,
          2134,
          886,
          835,
          413
         ],
         "yaxis": "y2"
        },
        {
         "mode": "lines+markers",
         "name": "Mean prediction with substituted feature",
         "type": "scatter",
         "uid": "53894f9e-381e-4190-be63-4e317d2b8d67",
         "xaxis": "x",
         "y": [
          0.4075633870887056,
          0.45440552910244125,
          -0.4114816330085511,
          -0.38554811429933356,
          0
         ],
         "yaxis": "y"
        }
       ],
       "layout": {
        "title": {
         "text": "Statistics for feature 'DD_'"
        },
        "xaxis": {
         "showticklabels": true,
         "tickmode": "array",
         "ticktext": [
          "South",
          "West",
          "East",
          "North",
          "Calm"
         ],
         "tickvals": [
          0,
          1,
          2,
          3,
          4
         ],
         "title": {
          "text": "Cat values"
         }
        },
        "yaxis": {
         "overlaying": "y2",
         "side": "left",
         "title": {
          "text": "Prediction and target"
         }
        },
        "yaxis2": {
         "position": 1,
         "side": "right",
         "title": {
          "text": "Objects per bin"
         }
        }
       }
      },
      "text/html": [
       "<div id=\"45b2aece-8f9c-4f11-91ee-e061aeda9dc6\" style=\"height: 525px; width: 100%;\" class=\"plotly-graph-div\"></div><script type=\"text/javascript\">require([\"plotly\"], function(Plotly) { window.PLOTLYENV=window.PLOTLYENV || {};window.PLOTLYENV.BASE_URL=\"https://plot.ly\";\n",
       "if (document.getElementById(\"45b2aece-8f9c-4f11-91ee-e061aeda9dc6\")) {\n",
       "    Plotly.newPlot(\"45b2aece-8f9c-4f11-91ee-e061aeda9dc6\", [{\"mode\": \"lines+markers\", \"name\": \"Mean target\", \"xaxis\": \"x\", \"y\": [0.5151425004005432, 0.5558575391769409, -0.6056996583938599, -0.6042512655258179, -0.27457624673843384], \"yaxis\": \"y\", \"type\": \"scatter\", \"uid\": \"71b7d0bd-26f2-4b7a-be8f-42c4564cbcfc\"}, {\"mode\": \"lines+markers\", \"name\": \"Mean prediction on each segment of feature values\", \"xaxis\": \"x\", \"y\": [0.48731687664985657, 0.47129085659980774, -0.462179571390152, -0.5017641186714172, -0.1916828602552414], \"yaxis\": \"y\", \"type\": \"scatter\", \"uid\": \"623f947f-cf4c-48fe-9379-ff339600bb0a\"}, {\"marker\": {\"color\": \"rgba(30, 150, 30, 0.4)\"}, \"name\": \"Objects per bin\", \"width\": 0.2, \"xaxis\": \"x\", \"y\": [2384, 2134, 886, 835, 413], \"yaxis\": \"y2\", \"type\": \"bar\", \"uid\": \"c7a4984a-d8e5-4b7d-ad08-d1b32a7430de\"}, {\"mode\": \"lines+markers\", \"name\": \"Mean prediction with substituted feature\", \"xaxis\": \"x\", \"y\": [0.4075633870887056, 0.45440552910244125, -0.4114816330085511, -0.38554811429933356, 0.0], \"yaxis\": \"y\", \"type\": \"scatter\", \"uid\": \"53894f9e-381e-4190-be63-4e317d2b8d67\"}], {\"title\": {\"text\": \"Statistics for feature 'DD_'\"}, \"xaxis\": {\"showticklabels\": true, \"tickmode\": \"array\", \"ticktext\": [\"South\", \"West\", \"East\", \"North\", \"Calm\"], \"tickvals\": [0, 1, 2, 3, 4], \"title\": {\"text\": \"Cat values\"}}, \"yaxis\": {\"overlaying\": \"y2\", \"side\": \"left\", \"title\": {\"text\": \"Prediction and target\"}}, \"yaxis2\": {\"position\": 1.0, \"side\": \"right\", \"title\": {\"text\": \"Objects per bin\"}}}, {\"showLink\": false, \"linkText\": \"Export to plot.ly\", \"plotlyServerURL\": \"https://plot.ly\"}); \n",
       "}\n",
       "});</script><script type=\"text/javascript\">window.addEventListener(\"resize\", function(){if (document.getElementById(\"45b2aece-8f9c-4f11-91ee-e061aeda9dc6\")) {window._Plotly.Plots.resize(document.getElementById(\"45b2aece-8f9c-4f11-91ee-e061aeda9dc6\"));};})</script>"
      ],
      "text/vnd.plotly.v1+html": [
       "<div id=\"45b2aece-8f9c-4f11-91ee-e061aeda9dc6\" style=\"height: 525px; width: 100%;\" class=\"plotly-graph-div\"></div><script type=\"text/javascript\">require([\"plotly\"], function(Plotly) { window.PLOTLYENV=window.PLOTLYENV || {};window.PLOTLYENV.BASE_URL=\"https://plot.ly\";\n",
       "if (document.getElementById(\"45b2aece-8f9c-4f11-91ee-e061aeda9dc6\")) {\n",
       "    Plotly.newPlot(\"45b2aece-8f9c-4f11-91ee-e061aeda9dc6\", [{\"mode\": \"lines+markers\", \"name\": \"Mean target\", \"xaxis\": \"x\", \"y\": [0.5151425004005432, 0.5558575391769409, -0.6056996583938599, -0.6042512655258179, -0.27457624673843384], \"yaxis\": \"y\", \"type\": \"scatter\", \"uid\": \"71b7d0bd-26f2-4b7a-be8f-42c4564cbcfc\"}, {\"mode\": \"lines+markers\", \"name\": \"Mean prediction on each segment of feature values\", \"xaxis\": \"x\", \"y\": [0.48731687664985657, 0.47129085659980774, -0.462179571390152, -0.5017641186714172, -0.1916828602552414], \"yaxis\": \"y\", \"type\": \"scatter\", \"uid\": \"623f947f-cf4c-48fe-9379-ff339600bb0a\"}, {\"marker\": {\"color\": \"rgba(30, 150, 30, 0.4)\"}, \"name\": \"Objects per bin\", \"width\": 0.2, \"xaxis\": \"x\", \"y\": [2384, 2134, 886, 835, 413], \"yaxis\": \"y2\", \"type\": \"bar\", \"uid\": \"c7a4984a-d8e5-4b7d-ad08-d1b32a7430de\"}, {\"mode\": \"lines+markers\", \"name\": \"Mean prediction with substituted feature\", \"xaxis\": \"x\", \"y\": [0.4075633870887056, 0.45440552910244125, -0.4114816330085511, -0.38554811429933356, 0.0], \"yaxis\": \"y\", \"type\": \"scatter\", \"uid\": \"53894f9e-381e-4190-be63-4e317d2b8d67\"}], {\"title\": {\"text\": \"Statistics for feature 'DD_'\"}, \"xaxis\": {\"showticklabels\": true, \"tickmode\": \"array\", \"ticktext\": [\"South\", \"West\", \"East\", \"North\", \"Calm\"], \"tickvals\": [0, 1, 2, 3, 4], \"title\": {\"text\": \"Cat values\"}}, \"yaxis\": {\"overlaying\": \"y2\", \"side\": \"left\", \"title\": {\"text\": \"Prediction and target\"}}, \"yaxis2\": {\"position\": 1.0, \"side\": \"right\", \"title\": {\"text\": \"Objects per bin\"}}}, {\"showLink\": false, \"linkText\": \"Export to plot.ly\", \"plotlyServerURL\": \"https://plot.ly\"}); \n",
       "}\n",
       "});</script><script type=\"text/javascript\">window.addEventListener(\"resize\", function(){if (document.getElementById(\"45b2aece-8f9c-4f11-91ee-e061aeda9dc6\")) {window._Plotly.Plots.resize(document.getElementById(\"45b2aece-8f9c-4f11-91ee-e061aeda9dc6\"));};})</script>"
      ]
     },
     "metadata": {},
     "output_type": "display_data"
    }
   ],
   "source": [
    "feature = 'DD_'\n",
    "res = model_v3.calc_feature_statistics(train_data, train_labels, feature, plot=True)"
   ]
  },
  {
   "cell_type": "code",
   "execution_count": 47,
   "metadata": {},
   "outputs": [],
   "source": [
    "shap_values = model.get_feature_importance(Pool(train_data, train_labels, cat_features=cat_cols), type='ShapValues')"
   ]
  },
  {
   "cell_type": "code",
   "execution_count": null,
   "metadata": {},
   "outputs": [],
   "source": []
  },
  {
   "cell_type": "code",
   "execution_count": null,
   "metadata": {},
   "outputs": [],
   "source": []
  }
 ],
 "metadata": {
  "kernelspec": {
   "display_name": "Python 3",
   "language": "python",
   "name": "python3"
  },
  "language_info": {
   "codemirror_mode": {
    "name": "ipython",
    "version": 3
   },
   "file_extension": ".py",
   "mimetype": "text/x-python",
   "name": "python",
   "nbconvert_exporter": "python",
   "pygments_lexer": "ipython3",
   "version": "3.6.8"
  }
 },
 "nbformat": 4,
 "nbformat_minor": 2
}

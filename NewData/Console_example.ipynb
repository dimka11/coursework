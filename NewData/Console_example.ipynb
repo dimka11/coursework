{
 "cells": [
  {
   "cell_type": "code",
   "execution_count": 123,
   "metadata": {},
   "outputs": [],
   "source": [
    "import sqlite3 as sql\n",
    "import pandas as pd\n",
    "import matplotlib.pyplot as plt\n",
    "from IPython.display import display\n",
    "# from typen import enforce_type_hints"
   ]
  },
  {
   "cell_type": "code",
   "execution_count": 135,
   "metadata": {},
   "outputs": [],
   "source": [
    "class Prediction:\n",
    "    def __init__(self):\n",
    "        pass\n",
    "    # load data (data) # set data\n",
    "    # fit (parameters)\n",
    "    # predict -> get result\n",
    "    # visualize\n"
   ]
  },
  {
   "cell_type": "code",
   "execution_count": 133,
   "metadata": {},
   "outputs": [],
   "source": [
    "#\n",
    "class WeatherData:\n",
    "    conn = None\n",
    "    weather = None\n",
    "#     @enforce_type_hints\n",
    "    def __init__(self, db_name: str) -> pd.core.frame.DataFrame:\n",
    "        self.conn = sql.connect(db_name)\n",
    "    def select_all(self, table_name: str):\n",
    "        self.weather = pd.read_sql(f'SELECT * FROM {table_name}', self.conn)\n",
    "        self.weather['index'] = pd.to_datetime(self.weather['index'], dayfirst=True)\n",
    "        self.weather.index = self.weather['index']\n",
    "        self.weather = self.weather.drop(columns=['index'])\n",
    "        return self.weather\n",
    "    def mean_by(self, month: bool = True, year: bool = False) -> pd.core.frame.DataFrame:\n",
    "        if self.weather is None:\n",
    "            raise Exception('You must call select_all for set table name first')\n",
    "        if month == True:\n",
    "            return self.weather.groupby(by=self.weather.index.month).mean().head()['T']\n",
    "        if year == True:\n",
    "            return self.weather.groupby(by=self.weather.index.year).mean().head()['T']\n",
    "    @staticmethod\n",
    "    def bar_chart(data: pd.core.frame.DataFrame) -> None:\n",
    "        display(data.plot(kind='bar'))\n",
    "        \n",
    "    @staticmethod    \n",
    "    def print_head(table: pd.core.frame.DataFrame, count: int = 5) -> None:\n",
    "        display(table.head(count))"
   ]
  },
  {
   "cell_type": "code",
   "execution_count": null,
   "metadata": {},
   "outputs": [],
   "source": [
    "class AggData:\n",
    "    def __init__(self):\n",
    "        pass\n",
    "    def ex():\n",
    "        pass"
   ]
  },
  {
   "cell_type": "code",
   "execution_count": 134,
   "metadata": {},
   "outputs": [
    {
     "data": {
      "text/html": [
       "<div>\n",
       "<style scoped>\n",
       "    .dataframe tbody tr th:only-of-type {\n",
       "        vertical-align: middle;\n",
       "    }\n",
       "\n",
       "    .dataframe tbody tr th {\n",
       "        vertical-align: top;\n",
       "    }\n",
       "\n",
       "    .dataframe thead th {\n",
       "        text-align: right;\n",
       "    }\n",
       "</style>\n",
       "<table border=\"1\" class=\"dataframe\">\n",
       "  <thead>\n",
       "    <tr style=\"text-align: right;\">\n",
       "      <th></th>\n",
       "      <th>T</th>\n",
       "      <th>T_a</th>\n",
       "      <th>DD</th>\n",
       "      <th>Ff</th>\n",
       "      <th>N</th>\n",
       "      <th>Nh</th>\n",
       "      <th>Cl</th>\n",
       "      <th>Po</th>\n",
       "      <th>U</th>\n",
       "      <th>Ch</th>\n",
       "      <th>...</th>\n",
       "      <th>RRR</th>\n",
       "      <th>DD_</th>\n",
       "      <th>diff</th>\n",
       "      <th>abs_diff</th>\n",
       "      <th>T_kal</th>\n",
       "      <th>T_sher</th>\n",
       "      <th>T_sar</th>\n",
       "      <th>three_mean</th>\n",
       "      <th>diff_3</th>\n",
       "      <th>abs_diff_3</th>\n",
       "    </tr>\n",
       "    <tr>\n",
       "      <th>index</th>\n",
       "      <th></th>\n",
       "      <th></th>\n",
       "      <th></th>\n",
       "      <th></th>\n",
       "      <th></th>\n",
       "      <th></th>\n",
       "      <th></th>\n",
       "      <th></th>\n",
       "      <th></th>\n",
       "      <th></th>\n",
       "      <th></th>\n",
       "      <th></th>\n",
       "      <th></th>\n",
       "      <th></th>\n",
       "      <th></th>\n",
       "      <th></th>\n",
       "      <th></th>\n",
       "      <th></th>\n",
       "      <th></th>\n",
       "      <th></th>\n",
       "      <th></th>\n",
       "    </tr>\n",
       "  </thead>\n",
       "  <tbody>\n",
       "    <tr>\n",
       "      <th>2012-11-01 00:00:00</th>\n",
       "      <td>-1.9</td>\n",
       "      <td>-6.0</td>\n",
       "      <td>Ветер, дующий с северо-запада</td>\n",
       "      <td>3.0</td>\n",
       "      <td>0.0</td>\n",
       "      <td>NaN</td>\n",
       "      <td>None</td>\n",
       "      <td>763.7</td>\n",
       "      <td>75.0</td>\n",
       "      <td>None</td>\n",
       "      <td>...</td>\n",
       "      <td>None</td>\n",
       "      <td>North</td>\n",
       "      <td>4.1</td>\n",
       "      <td>4.1</td>\n",
       "      <td>-4.8</td>\n",
       "      <td>-4.0</td>\n",
       "      <td>-4.0</td>\n",
       "      <td>-4.266667</td>\n",
       "      <td>2.366667</td>\n",
       "      <td>2.366667</td>\n",
       "    </tr>\n",
       "    <tr>\n",
       "      <th>2012-11-01 03:00:00</th>\n",
       "      <td>-3.7</td>\n",
       "      <td>-7.0</td>\n",
       "      <td>Ветер, дующий с северо-запада</td>\n",
       "      <td>2.0</td>\n",
       "      <td>10.0</td>\n",
       "      <td>10.0</td>\n",
       "      <td>Слоисто-кучевых, слоистых, кучевых или кучево-...</td>\n",
       "      <td>764.9</td>\n",
       "      <td>83.0</td>\n",
       "      <td>Перистых, перисто-кучевых или перисто-слоистых...</td>\n",
       "      <td>...</td>\n",
       "      <td>None</td>\n",
       "      <td>North</td>\n",
       "      <td>3.3</td>\n",
       "      <td>3.3</td>\n",
       "      <td>-5.4</td>\n",
       "      <td>-5.8</td>\n",
       "      <td>-4.7</td>\n",
       "      <td>-5.300000</td>\n",
       "      <td>1.600000</td>\n",
       "      <td>1.600000</td>\n",
       "    </tr>\n",
       "  </tbody>\n",
       "</table>\n",
       "<p>2 rows × 22 columns</p>\n",
       "</div>"
      ],
      "text/plain": [
       "                       T  T_a                             DD   Ff     N    Nh  \\\n",
       "index                                                                           \n",
       "2012-11-01 00:00:00 -1.9 -6.0  Ветер, дующий с северо-запада  3.0   0.0   NaN   \n",
       "2012-11-01 03:00:00 -3.7 -7.0  Ветер, дующий с северо-запада  2.0  10.0  10.0   \n",
       "\n",
       "                                                                    Cl     Po  \\\n",
       "index                                                                           \n",
       "2012-11-01 00:00:00                                               None  763.7   \n",
       "2012-11-01 03:00:00  Слоисто-кучевых, слоистых, кучевых или кучево-...  764.9   \n",
       "\n",
       "                        U                                                 Ch  \\\n",
       "index                                                                          \n",
       "2012-11-01 00:00:00  75.0                                               None   \n",
       "2012-11-01 03:00:00  83.0  Перистых, перисто-кучевых или перисто-слоистых...   \n",
       "\n",
       "                     ...   RRR    DD_ diff abs_diff  T_kal  T_sher  T_sar  \\\n",
       "index                ...                                                    \n",
       "2012-11-01 00:00:00  ...  None  North  4.1      4.1   -4.8    -4.0   -4.0   \n",
       "2012-11-01 03:00:00  ...  None  North  3.3      3.3   -5.4    -5.8   -4.7   \n",
       "\n",
       "                     three_mean    diff_3  abs_diff_3  \n",
       "index                                                  \n",
       "2012-11-01 00:00:00   -4.266667  2.366667    2.366667  \n",
       "2012-11-01 03:00:00   -5.300000  1.600000    1.600000  \n",
       "\n",
       "[2 rows x 22 columns]"
      ]
     },
     "metadata": {},
     "output_type": "display_data"
    },
    {
     "name": "stdout",
     "output_type": "stream",
     "text": [
      "Средняя температура по месяцам:\n"
     ]
    },
    {
     "data": {
      "text/plain": [
       "<AxesSubplot:xlabel='index'>"
      ]
     },
     "metadata": {},
     "output_type": "display_data"
    },
    {
     "data": {
      "image/png": "[encoded data removed]",
      "text/plain": [
       "<Figure size 432x288 with 1 Axes>"
      ]
     },
     "metadata": {
      "needs_background": "light"
     },
     "output_type": "display_data"
    }
   ],
   "source": [
    "wd = WeatherData('weather.db')\n",
    "wd.print_head(wd.select_all('df_merged'), 2)\n",
    "print('Средняя температура по месяцам:')\n",
    "wd.mean_by()\n",
    "wd.bar_chart(wd.mean_by())"
   ]
  }
 ],
 "metadata": {
  "kernelspec": {
   "display_name": "Python 3",
   "language": "python",
   "name": "python3"
  },
  "language_info": {
   "codemirror_mode": {
    "name": "ipython",
    "version": 3
   },
   "file_extension": ".py",
   "mimetype": "text/x-python",
   "name": "python",
   "nbconvert_exporter": "python",
   "pygments_lexer": "ipython3",
   "version": "3.6.8"
  }
 },
 "nbformat": 4,
 "nbformat_minor": 2
}

{
 "cells": [
  {
   "cell_type": "code",
   "execution_count": 2,
   "metadata": {},
   "outputs": [],
   "source": [
    "#imports\n",
    "import numpy\n",
    "import pandas as pd\n",
    "import requests\n",
    "import os\n",
    "import json\n",
    "from types import SimpleNamespace"
   ]
  },
  {
   "cell_type": "code",
   "execution_count": 3,
   "metadata": {},
   "outputs": [],
   "source": [
    "os.chdir(\"B:/Projects/CourseWork/coursework/NewData/json\")"
   ]
  },
  {
   "cell_type": "code",
   "execution_count": 2,
   "metadata": {},
   "outputs": [],
   "source": [
    "# api key, etc\n",
    "api_key = '6532d6454b8aa370768e63d6ba5a832e'\n",
    "\n",
    "#url https://www.wunderground.com/history/daily/ru/omsk/UNOO/date/2021-3-11"
   ]
  },
  {
   "cell_type": "code",
   "execution_count": 20,
   "metadata": {},
   "outputs": [
    {
     "name": "stdout",
     "output_type": "stream",
     "text": [
      "B:\\Projects\\CourseWork\\coursework\\NewData\\json\n"
     ]
    }
   ],
   "source": [
    "# download\n",
    "\n",
    "one_month_url = 'https://api.weather.com/v1/location/UNOO:9:RU/almanac/daily.json?apiKey=6532d6454b8aa370768e63d6ba5a832e&units=m&start=0301&end=0328'\n",
    "os.chdir(\"B:/Projects/CourseWork/coursework/NewData/json\")\n",
    "print(os.getcwd())\n",
    "# os.mkdir(f'{i}')\n",
    "\n",
    "headers = {\n",
    "        'User-Agent': 'Mozilla/5.0 (Macintosh; Intel Mac OS X 10.9; rv:45.0) Gecko/20100101 Firefox/45.0'\n",
    "      }\n",
    "\n",
    "r = requests.get(one_month_url, headers = headers)\n",
    "with open('test_month.json', 'w', encoding='utf8') as output_file:\n",
    "    output_file.write(r.text)"
   ]
  },
  {
   "cell_type": "code",
   "execution_count": 11,
   "metadata": {},
   "outputs": [
    {
     "data": {
      "text/plain": [
       "-1.7"
      ]
     },
     "execution_count": 11,
     "metadata": {},
     "output_type": "execute_result"
    }
   ],
   "source": [
    "# json\n",
    "f = open(\"test_month.json\", \"r\")\n",
    "json_string = f.read()\n",
    "\n",
    "month = json.loads(json_string, object_hook=lambda d: SimpleNamespace(**d))\n",
    "# print(x.name, x.hometown.name, x.hometown.id)\n",
    "month.almanac_summaries[0].avg_hi"
   ]
  },
  {
   "cell_type": "code",
   "execution_count": null,
   "metadata": {},
   "outputs": [],
   "source": []
  }
 ],
 "metadata": {
  "kernelspec": {
   "display_name": "Python 3",
   "language": "python",
   "name": "python3"
  }
 },
 "nbformat": 4,
 "nbformat_minor": 1
}
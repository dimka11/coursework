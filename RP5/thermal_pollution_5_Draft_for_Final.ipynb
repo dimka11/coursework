{
 "cells": [
  {
   "cell_type": "code",
   "execution_count": 2,
   "metadata": {},
   "outputs": [],
   "source": [
    "# load libraries\n",
    "import os\n",
    "os.chdir('B:/Projects/CourseWork/coursework/RP5/data')\n",
    "\n",
    "import numpy as np\n",
    "import pandas as pd\n",
    "import datetime\n",
    "\n",
    "import seaborn as sns\n",
    "import matplotlib.pyplot as plt\n",
    "import seaborn as sns\n",
    "\n",
    "pd.set_option('display.max_rows', 100)"
   ]
  },
  {
   "cell_type": "code",
   "execution_count": 3,
   "metadata": {},
   "outputs": [
    {
     "name": "stderr",
     "output_type": "stream",
     "text": [
      "C:\\Users\\Dima\\AppData\\Roaming\\Python\\Python36\\site-packages\\IPython\\core\\interactiveshell.py:3049: DtypeWarning: Columns (28) have mixed types.Specify dtype option on import or set low_memory=False.\n",
      "  interactivity=interactivity, compiler=compiler, result=result)\n"
     ]
    },
    {
     "data": {
      "text/html": [
       "<div>\n",
       "<style scoped>\n",
       "    .dataframe tbody tr th:only-of-type {\n",
       "        vertical-align: middle;\n",
       "    }\n",
       "\n",
       "    .dataframe tbody tr th {\n",
       "        vertical-align: top;\n",
       "    }\n",
       "\n",
       "    .dataframe thead th {\n",
       "        text-align: right;\n",
       "    }\n",
       "</style>\n",
       "<table border=\"1\" class=\"dataframe\">\n",
       "  <thead>\n",
       "    <tr style=\"text-align: right;\">\n",
       "      <th></th>\n",
       "      <th>T</th>\n",
       "      <th>Po</th>\n",
       "      <th>P</th>\n",
       "      <th>Pa</th>\n",
       "      <th>U</th>\n",
       "      <th>DD</th>\n",
       "      <th>Ff</th>\n",
       "      <th>ff10</th>\n",
       "      <th>ff3</th>\n",
       "      <th>N</th>\n",
       "      <th>...</th>\n",
       "      <th>Ch</th>\n",
       "      <th>VV</th>\n",
       "      <th>Td</th>\n",
       "      <th>RRR</th>\n",
       "      <th>tR</th>\n",
       "      <th>E</th>\n",
       "      <th>Tg</th>\n",
       "      <th>E'</th>\n",
       "      <th>sss</th>\n",
       "      <th>Unnamed: 29</th>\n",
       "    </tr>\n",
       "    <tr>\n",
       "      <th>time</th>\n",
       "      <th></th>\n",
       "      <th></th>\n",
       "      <th></th>\n",
       "      <th></th>\n",
       "      <th></th>\n",
       "      <th></th>\n",
       "      <th></th>\n",
       "      <th></th>\n",
       "      <th></th>\n",
       "      <th></th>\n",
       "      <th></th>\n",
       "      <th></th>\n",
       "      <th></th>\n",
       "      <th></th>\n",
       "      <th></th>\n",
       "      <th></th>\n",
       "      <th></th>\n",
       "      <th></th>\n",
       "      <th></th>\n",
       "      <th></th>\n",
       "      <th></th>\n",
       "    </tr>\n",
       "  </thead>\n",
       "  <tbody>\n",
       "    <tr>\n",
       "      <th>2005-02-01 06:00:00</th>\n",
       "      <td>-26.9</td>\n",
       "      <td>775.1</td>\n",
       "      <td>788.4</td>\n",
       "      <td>NaN</td>\n",
       "      <td>80.0</td>\n",
       "      <td>Calm, no wind</td>\n",
       "      <td>0.0</td>\n",
       "      <td>NaN</td>\n",
       "      <td>NaN</td>\n",
       "      <td>20–30%.</td>\n",
       "      <td>...</td>\n",
       "      <td>Cirrus fibratus, sometimes uncinus, not progre...</td>\n",
       "      <td>50.0</td>\n",
       "      <td>-29.3</td>\n",
       "      <td>NaN</td>\n",
       "      <td>NaN</td>\n",
       "      <td>NaN</td>\n",
       "      <td>NaN</td>\n",
       "      <td>NaN</td>\n",
       "      <td>NaN</td>\n",
       "      <td>NaN</td>\n",
       "    </tr>\n",
       "    <tr>\n",
       "      <th>2005-02-01 09:00:00</th>\n",
       "      <td>-27.9</td>\n",
       "      <td>775.2</td>\n",
       "      <td>788.6</td>\n",
       "      <td>NaN</td>\n",
       "      <td>80.0</td>\n",
       "      <td>Calm, no wind</td>\n",
       "      <td>0.0</td>\n",
       "      <td>NaN</td>\n",
       "      <td>NaN</td>\n",
       "      <td>20–30%.</td>\n",
       "      <td>...</td>\n",
       "      <td>Cirrus fibratus, sometimes uncinus, not progre...</td>\n",
       "      <td>4.2</td>\n",
       "      <td>-30.3</td>\n",
       "      <td>NaN</td>\n",
       "      <td>NaN</td>\n",
       "      <td>NaN</td>\n",
       "      <td>NaN</td>\n",
       "      <td>Even layer of loose dry snow covering ground c...</td>\n",
       "      <td>49</td>\n",
       "      <td>NaN</td>\n",
       "    </tr>\n",
       "  </tbody>\n",
       "</table>\n",
       "<p>2 rows × 29 columns</p>\n",
       "</div>"
      ],
      "text/plain": [
       "                        T     Po      P  Pa     U             DD   Ff  ff10  \\\n",
       "time                                                                          \n",
       "2005-02-01 06:00:00 -26.9  775.1  788.4 NaN  80.0  Calm, no wind  0.0   NaN   \n",
       "2005-02-01 09:00:00 -27.9  775.2  788.6 NaN  80.0  Calm, no wind  0.0   NaN   \n",
       "\n",
       "                     ff3        N  ...  \\\n",
       "time                               ...   \n",
       "2005-02-01 06:00:00  NaN  20–30%.  ...   \n",
       "2005-02-01 09:00:00  NaN  20–30%.  ...   \n",
       "\n",
       "                                                                    Ch    VV  \\\n",
       "time                                                                           \n",
       "2005-02-01 06:00:00  Cirrus fibratus, sometimes uncinus, not progre...  50.0   \n",
       "2005-02-01 09:00:00  Cirrus fibratus, sometimes uncinus, not progre...   4.2   \n",
       "\n",
       "                       Td  RRR  tR    E  Tg  \\\n",
       "time                                          \n",
       "2005-02-01 06:00:00 -29.3  NaN NaN  NaN NaN   \n",
       "2005-02-01 09:00:00 -30.3  NaN NaN  NaN NaN   \n",
       "\n",
       "                                                                    E'  sss  \\\n",
       "time                                                                          \n",
       "2005-02-01 06:00:00                                                NaN  NaN   \n",
       "2005-02-01 09:00:00  Even layer of loose dry snow covering ground c...   49   \n",
       "\n",
       "                    Unnamed: 29  \n",
       "time                             \n",
       "2005-02-01 06:00:00         NaN  \n",
       "2005-02-01 09:00:00         NaN  \n",
       "\n",
       "[2 rows x 29 columns]"
      ]
     },
     "execution_count": 3,
     "metadata": {},
     "output_type": "execute_result"
    }
   ],
   "source": [
    "# load data omsk\n",
    "\n",
    "df = pd.read_csv('omsk.csv', sep=';', skiprows=6)\n",
    "df.rename(columns={ df.columns[0]: \"time\" }, inplace = True)\n",
    "df['time'] =  pd.to_datetime(df['time'], format='%d.%m.%Y %H:%M')\n",
    "df = df.set_index('time')\n",
    "df = df.iloc[::-1]\n",
    "# df = df.drop(columns=['P', 'Pa', 'ff10', 'ff3', 'Ch', 'Td', 'E', 'Tg', 'W1', 'W2', 'Cl', 'Nh', 'H', 'Cm', \"E'\", 'Unnamed: 29'])\n",
    "df.head(2)"
   ]
  },
  {
   "cell_type": "code",
   "execution_count": 4,
   "metadata": {},
   "outputs": [
    {
     "name": "stderr",
     "output_type": "stream",
     "text": [
      "C:\\Users\\Dima\\AppData\\Roaming\\Python\\Python36\\site-packages\\IPython\\core\\interactiveshell.py:3049: DtypeWarning: Columns (9) have mixed types.Specify dtype option on import or set low_memory=False.\n",
      "  interactivity=interactivity, compiler=compiler, result=result)\n"
     ]
    },
    {
     "data": {
      "text/html": [
       "<div>\n",
       "<style scoped>\n",
       "    .dataframe tbody tr th:only-of-type {\n",
       "        vertical-align: middle;\n",
       "    }\n",
       "\n",
       "    .dataframe tbody tr th {\n",
       "        vertical-align: top;\n",
       "    }\n",
       "\n",
       "    .dataframe thead th {\n",
       "        text-align: right;\n",
       "    }\n",
       "</style>\n",
       "<table border=\"1\" class=\"dataframe\">\n",
       "  <thead>\n",
       "    <tr style=\"text-align: right;\">\n",
       "      <th></th>\n",
       "      <th>T</th>\n",
       "      <th>P0</th>\n",
       "      <th>P</th>\n",
       "      <th>U</th>\n",
       "      <th>DD</th>\n",
       "      <th>Ff</th>\n",
       "      <th>ff10</th>\n",
       "      <th>WW</th>\n",
       "      <th>W'W'</th>\n",
       "      <th>c</th>\n",
       "      <th>VV</th>\n",
       "      <th>Td</th>\n",
       "      <th>Unnamed: 13</th>\n",
       "    </tr>\n",
       "    <tr>\n",
       "      <th>time</th>\n",
       "      <th></th>\n",
       "      <th></th>\n",
       "      <th></th>\n",
       "      <th></th>\n",
       "      <th></th>\n",
       "      <th></th>\n",
       "      <th></th>\n",
       "      <th></th>\n",
       "      <th></th>\n",
       "      <th></th>\n",
       "      <th></th>\n",
       "      <th></th>\n",
       "      <th></th>\n",
       "    </tr>\n",
       "  </thead>\n",
       "  <tbody>\n",
       "    <tr>\n",
       "      <th>2012-09-26 13:00:00</th>\n",
       "      <td>18.0</td>\n",
       "      <td>749.3</td>\n",
       "      <td>757.7</td>\n",
       "      <td>34.0</td>\n",
       "      <td>Wind blowing from the south-west</td>\n",
       "      <td>5.0</td>\n",
       "      <td>NaN</td>\n",
       "      <td>NaN</td>\n",
       "      <td>NaN</td>\n",
       "      <td>Scattered clouds (40-50%) 990 m, broken clouds...</td>\n",
       "      <td>10.0 and more</td>\n",
       "      <td>2.0</td>\n",
       "      <td>NaN</td>\n",
       "    </tr>\n",
       "    <tr>\n",
       "      <th>2012-09-26 14:00:00</th>\n",
       "      <td>18.0</td>\n",
       "      <td>749.3</td>\n",
       "      <td>757.7</td>\n",
       "      <td>34.0</td>\n",
       "      <td>Wind blowing from the west-southwest</td>\n",
       "      <td>4.0</td>\n",
       "      <td>NaN</td>\n",
       "      <td>NaN</td>\n",
       "      <td>NaN</td>\n",
       "      <td>Broken clouds (60-90%) 990 m, overcast (100%) ...</td>\n",
       "      <td>10.0 and more</td>\n",
       "      <td>2.0</td>\n",
       "      <td>NaN</td>\n",
       "    </tr>\n",
       "    <tr>\n",
       "      <th>2012-09-26 15:00:00</th>\n",
       "      <td>17.0</td>\n",
       "      <td>749.3</td>\n",
       "      <td>757.7</td>\n",
       "      <td>34.0</td>\n",
       "      <td>Wind blowing from the south-west</td>\n",
       "      <td>7.0</td>\n",
       "      <td>NaN</td>\n",
       "      <td>NaN</td>\n",
       "      <td>NaN</td>\n",
       "      <td>Broken clouds (60-90%) 990 m, overcast (100%) ...</td>\n",
       "      <td>10.0 and more</td>\n",
       "      <td>1.0</td>\n",
       "      <td>NaN</td>\n",
       "    </tr>\n",
       "  </tbody>\n",
       "</table>\n",
       "</div>"
      ],
      "text/plain": [
       "                        T     P0      P     U  \\\n",
       "time                                            \n",
       "2012-09-26 13:00:00  18.0  749.3  757.7  34.0   \n",
       "2012-09-26 14:00:00  18.0  749.3  757.7  34.0   \n",
       "2012-09-26 15:00:00  17.0  749.3  757.7  34.0   \n",
       "\n",
       "                                                       DD   Ff  ff10   WW  \\\n",
       "time                                                                        \n",
       "2012-09-26 13:00:00      Wind blowing from the south-west  5.0   NaN  NaN   \n",
       "2012-09-26 14:00:00  Wind blowing from the west-southwest  4.0   NaN  NaN   \n",
       "2012-09-26 15:00:00      Wind blowing from the south-west  7.0   NaN  NaN   \n",
       "\n",
       "                    W'W'                                                  c  \\\n",
       "time                                                                          \n",
       "2012-09-26 13:00:00  NaN  Scattered clouds (40-50%) 990 m, broken clouds...   \n",
       "2012-09-26 14:00:00  NaN  Broken clouds (60-90%) 990 m, overcast (100%) ...   \n",
       "2012-09-26 15:00:00  NaN  Broken clouds (60-90%) 990 m, overcast (100%) ...   \n",
       "\n",
       "                                VV   Td  Unnamed: 13  \n",
       "time                                                  \n",
       "2012-09-26 13:00:00  10.0 and more  2.0          NaN  \n",
       "2012-09-26 14:00:00  10.0 and more  2.0          NaN  \n",
       "2012-09-26 15:00:00  10.0 and more  1.0          NaN  "
      ]
     },
     "execution_count": 4,
     "metadata": {},
     "output_type": "execute_result"
    }
   ],
   "source": [
    "# load data airport\n",
    "\n",
    "dfa = pd.read_csv('airport.csv', sep=';', skiprows=6)\n",
    "dfa.rename(columns={ dfa.columns[0]: \"time\" }, inplace = True)\n",
    "dfa['time'] =  pd.to_datetime(dfa['time'], format='%d.%m.%Y %H:%M')\n",
    "dfa = dfa.set_index('time')\n",
    "dfa = dfa.iloc[::-1]\n",
    "dfa.head(3)"
   ]
  },
  {
   "cell_type": "code",
   "execution_count": 5,
   "metadata": {},
   "outputs": [],
   "source": [
    "# merge to one df for comparing\n",
    "# get slice of data\n",
    "\n",
    "#filter by time\n",
    "dfa = dfa.loc[(dfa.index.time == datetime.time(0,0)) | (dfa.index.time == datetime.time(3,0)) | (dfa.index.time == datetime.time(6,0)) | (dfa.index.time == datetime.time(9,0)) | (dfa.index.time == datetime.time(12,0)) | (dfa.index.time == datetime.time(15,0)) | (dfa.index.time == datetime.time(18,0)) | (dfa.index.time == datetime.time(21,0))]\n",
    "\n",
    "MONTH_START = 11\n",
    "MONTH_END = 3\n",
    "DAY_START = 1\n",
    "DAY_END = 1\n",
    "\n",
    "df_omsk = df[datetime.date(2012,MONTH_START,1):datetime.date(2013,MONTH_END,DAY_END)]\n",
    "df_airport = dfa[datetime.date(2012,MONTH_START,DAY_START):datetime.date(2013,MONTH_END,DAY_END)]\n",
    "\n",
    "df_omsk = df_omsk.append(df[datetime.date(2013,MONTH_START,DAY_START):datetime.date(2014,MONTH_END,DAY_END)])\n",
    "df_airport = df_airport.append(dfa[datetime.date(2013,MONTH_START,DAY_START):datetime.date(2014,MONTH_END,1)])\n",
    "\n",
    "df_omsk = df_omsk.append(df[datetime.date(2014,MONTH_START,DAY_START):datetime.date(2015,MONTH_END,DAY_END)])\n",
    "df_airport = df_airport.append(dfa[datetime.date(2014,MONTH_START,DAY_START):datetime.date(2015,MONTH_END,1)])\n",
    "\n",
    "df_omsk = df_omsk.append(df[datetime.date(2015,MONTH_START,DAY_START):datetime.date(2016,MONTH_END,DAY_END)])\n",
    "df_airport = df_airport.append(dfa[datetime.date(2015,MONTH_START,DAY_START):datetime.date(2016,MONTH_END,DAY_END)])\n",
    "\n",
    "df_omsk = df_omsk.append(df[datetime.date(2016,MONTH_START,DAY_START):datetime.date(2017,MONTH_END,DAY_END)])\n",
    "df_airport = df_airport.append(dfa[datetime.date(2016,MONTH_START,DAY_START):datetime.date(2017,MONTH_END,DAY_END)])\n",
    "\n",
    "df_omsk = df_omsk.append(df[datetime.date(2017,MONTH_START,DAY_START):datetime.date(2018,MONTH_END,DAY_END)])\n",
    "df_airport = df_airport.append(dfa[datetime.date(2017,MONTH_START,DAY_START):datetime.date(2018,MONTH_END,DAY_END)])\n",
    "\n",
    "df_omsk = df_omsk.append(df[datetime.date(2018,MONTH_START,DAY_START):datetime.date(2019,MONTH_END,DAY_END)])\n",
    "df_airport = df_airport.append(dfa[datetime.date(2018,MONTH_START,DAY_START):datetime.date(2019,MONTH_END,DAY_END)])\n",
    "\n",
    "df_omsk = df_omsk.append(df[datetime.date(2019,MONTH_START,DAY_START):datetime.date(2020,MONTH_END,DAY_END)])\n",
    "df_airport = df_airport.append(dfa[datetime.date(2019,MONTH_START,DAY_START):datetime.date(2020,MONTH_END,DAY_END)])\n",
    "\n",
    "df_merged = df_omsk[['T']].copy()\n",
    "df_merged['T_a'] = df_airport['T']\n",
    "\n",
    "df_merged['wind'] = df_omsk['DD']\n",
    "df_merged['clouds'] = df_omsk['N']\n",
    "df_merged['Nh'] = df_omsk['Nh']\n",
    "df_merged['diff'] = df_merged['T'] - df_merged['T_a']\n",
    "df_merged['abs_diff'] = abs(df_merged['T'] - df_merged['T_a'])\n",
    "df_merged['H'] = df_omsk['H']\n",
    "df_merged['Ff'] = df_omsk['Ff']\n",
    "df_merged['ff10'] = df_omsk['ff10']"
   ]
  },
  {
   "cell_type": "code",
   "execution_count": 71,
   "metadata": {},
   "outputs": [
    {
     "data": {
      "text/html": [
       "<div>\n",
       "<style scoped>\n",
       "    .dataframe tbody tr th:only-of-type {\n",
       "        vertical-align: middle;\n",
       "    }\n",
       "\n",
       "    .dataframe tbody tr th {\n",
       "        vertical-align: top;\n",
       "    }\n",
       "\n",
       "    .dataframe thead th {\n",
       "        text-align: right;\n",
       "    }\n",
       "</style>\n",
       "<table border=\"1\" class=\"dataframe\">\n",
       "  <thead>\n",
       "    <tr style=\"text-align: right;\">\n",
       "      <th></th>\n",
       "      <th>wind</th>\n",
       "      <th>diff</th>\n",
       "      <th>abs_diff</th>\n",
       "    </tr>\n",
       "  </thead>\n",
       "  <tbody>\n",
       "    <tr>\n",
       "      <th>0</th>\n",
       "      <td>Calm, no wind</td>\n",
       "      <td>-0.343949</td>\n",
       "      <td>1.298938</td>\n",
       "    </tr>\n",
       "    <tr>\n",
       "      <th>1</th>\n",
       "      <td>East</td>\n",
       "      <td>-0.610621</td>\n",
       "      <td>0.899399</td>\n",
       "    </tr>\n",
       "    <tr>\n",
       "      <th>2</th>\n",
       "      <td>North</td>\n",
       "      <td>-0.592612</td>\n",
       "      <td>1.062123</td>\n",
       "    </tr>\n",
       "    <tr>\n",
       "      <th>3</th>\n",
       "      <td>South</td>\n",
       "      <td>0.493377</td>\n",
       "      <td>0.857039</td>\n",
       "    </tr>\n",
       "    <tr>\n",
       "      <th>4</th>\n",
       "      <td>West</td>\n",
       "      <td>0.528110</td>\n",
       "      <td>0.810743</td>\n",
       "    </tr>\n",
       "  </tbody>\n",
       "</table>\n",
       "</div>"
      ],
      "text/plain": [
       "            wind      diff  abs_diff\n",
       "0  Calm, no wind -0.343949  1.298938\n",
       "1           East -0.610621  0.899399\n",
       "2          North -0.592612  1.062123\n",
       "3          South  0.493377  0.857039\n",
       "4           West  0.528110  0.810743"
      ]
     },
     "execution_count": 71,
     "metadata": {},
     "output_type": "execute_result"
    }
   ],
   "source": [
    "# show\n",
    "# df_show = df_merged[abs(df_merged['diff']) > 1 ] # .sort_values(by=['diff'])\n",
    "# df_show.groupby('wind', as_index=False)['diff', 'abs_diff'].mean()\n",
    "\n",
    "df_merged.groupby('wind', as_index=False)[['diff', 'abs_diff']].mean()"
   ]
  },
  {
   "cell_type": "code",
   "execution_count": 7,
   "metadata": {},
   "outputs": [],
   "source": [
    "df_merged['wind'] = df_merged['wind'].replace(['Wind blowing from the west','Wind blowing from the south-west','Wind blowing from the west-southwest','Wind blowing from the west-northwest'],'West')\n",
    "df_merged['wind'] = df_merged['wind'].replace(['Wind blowing from the north','Wind blowing from the north-west','Wind blowing from the north-northwest','Wind blowing from the north-northeast'],'North')\n",
    "df_merged['wind'] = df_merged['wind'].replace(['Wind blowing from the east','Wind blowing from the north-east','Wind blowing from the east-southeast','Wind blowing from the east-northeast'],'East')\n",
    "df_merged['wind'] = df_merged['wind'].replace(['Wind blowing from the south','Wind blowing from the south-east','Wind blowing from the south-southwest','Wind blowing from the south-southeast'],'South')"
   ]
  },
  {
   "cell_type": "code",
   "execution_count": 70,
   "metadata": {},
   "outputs": [
    {
     "data": {
      "text/html": [
       "<div>\n",
       "<style scoped>\n",
       "    .dataframe tbody tr th:only-of-type {\n",
       "        vertical-align: middle;\n",
       "    }\n",
       "\n",
       "    .dataframe tbody tr th {\n",
       "        vertical-align: top;\n",
       "    }\n",
       "\n",
       "    .dataframe thead th {\n",
       "        text-align: right;\n",
       "    }\n",
       "</style>\n",
       "<table border=\"1\" class=\"dataframe\">\n",
       "  <thead>\n",
       "    <tr style=\"text-align: right;\">\n",
       "      <th></th>\n",
       "      <th>wind</th>\n",
       "      <th>diff</th>\n",
       "      <th>abs_diff</th>\n",
       "    </tr>\n",
       "  </thead>\n",
       "  <tbody>\n",
       "    <tr>\n",
       "      <th>0</th>\n",
       "      <td>Calm, no wind</td>\n",
       "      <td>-0.343949</td>\n",
       "      <td>1.298938</td>\n",
       "    </tr>\n",
       "    <tr>\n",
       "      <th>1</th>\n",
       "      <td>East</td>\n",
       "      <td>-0.610621</td>\n",
       "      <td>0.899399</td>\n",
       "    </tr>\n",
       "    <tr>\n",
       "      <th>2</th>\n",
       "      <td>North</td>\n",
       "      <td>-0.592612</td>\n",
       "      <td>1.062123</td>\n",
       "    </tr>\n",
       "    <tr>\n",
       "      <th>3</th>\n",
       "      <td>South</td>\n",
       "      <td>0.493377</td>\n",
       "      <td>0.857039</td>\n",
       "    </tr>\n",
       "    <tr>\n",
       "      <th>4</th>\n",
       "      <td>West</td>\n",
       "      <td>0.528110</td>\n",
       "      <td>0.810743</td>\n",
       "    </tr>\n",
       "  </tbody>\n",
       "</table>\n",
       "</div>"
      ],
      "text/plain": [
       "            wind      diff  abs_diff\n",
       "0  Calm, no wind -0.343949  1.298938\n",
       "1           East -0.610621  0.899399\n",
       "2          North -0.592612  1.062123\n",
       "3          South  0.493377  0.857039\n",
       "4           West  0.528110  0.810743"
      ]
     },
     "execution_count": 70,
     "metadata": {},
     "output_type": "execute_result"
    }
   ],
   "source": [
    "df_merged.groupby('wind', as_index=False)[['diff', 'abs_diff']].mean()"
   ]
  },
  {
   "cell_type": "code",
   "execution_count": 11,
   "metadata": {},
   "outputs": [
    {
     "data": {
      "text/html": [
       "<div>\n",
       "<style scoped>\n",
       "    .dataframe tbody tr th:only-of-type {\n",
       "        vertical-align: middle;\n",
       "    }\n",
       "\n",
       "    .dataframe tbody tr th {\n",
       "        vertical-align: top;\n",
       "    }\n",
       "\n",
       "    .dataframe thead th {\n",
       "        text-align: right;\n",
       "    }\n",
       "</style>\n",
       "<table border=\"1\" class=\"dataframe\">\n",
       "  <thead>\n",
       "    <tr style=\"text-align: right;\">\n",
       "      <th></th>\n",
       "      <th>wind</th>\n",
       "      <th>diff</th>\n",
       "      <th>abs_diff</th>\n",
       "    </tr>\n",
       "  </thead>\n",
       "  <tbody>\n",
       "    <tr>\n",
       "      <th>0</th>\n",
       "      <td>Calm, no wind</td>\n",
       "      <td>-0.507947</td>\n",
       "      <td>1.484768</td>\n",
       "    </tr>\n",
       "    <tr>\n",
       "      <th>1</th>\n",
       "      <td>East</td>\n",
       "      <td>-0.798596</td>\n",
       "      <td>1.036491</td>\n",
       "    </tr>\n",
       "    <tr>\n",
       "      <th>2</th>\n",
       "      <td>North</td>\n",
       "      <td>-0.964681</td>\n",
       "      <td>1.375745</td>\n",
       "    </tr>\n",
       "    <tr>\n",
       "      <th>3</th>\n",
       "      <td>South</td>\n",
       "      <td>0.882548</td>\n",
       "      <td>1.154711</td>\n",
       "    </tr>\n",
       "    <tr>\n",
       "      <th>4</th>\n",
       "      <td>West</td>\n",
       "      <td>0.989573</td>\n",
       "      <td>1.217378</td>\n",
       "    </tr>\n",
       "  </tbody>\n",
       "</table>\n",
       "</div>"
      ],
      "text/plain": [
       "            wind      diff  abs_diff\n",
       "0  Calm, no wind -0.507947  1.484768\n",
       "1           East -0.798596  1.036491\n",
       "2          North -0.964681  1.375745\n",
       "3          South  0.882548  1.154711\n",
       "4           West  0.989573  1.217378"
      ]
     },
     "execution_count": 11,
     "metadata": {},
     "output_type": "execute_result"
    }
   ],
   "source": [
    "df_merged[df_merged['T'] <= -15].groupby('wind', as_index=False)[['diff', 'abs_diff']].mean()"
   ]
  },
  {
   "cell_type": "code",
   "execution_count": 12,
   "metadata": {},
   "outputs": [
    {
     "data": {
      "text/html": [
       "<div>\n",
       "<style scoped>\n",
       "    .dataframe tbody tr th:only-of-type {\n",
       "        vertical-align: middle;\n",
       "    }\n",
       "\n",
       "    .dataframe tbody tr th {\n",
       "        vertical-align: top;\n",
       "    }\n",
       "\n",
       "    .dataframe thead th {\n",
       "        text-align: right;\n",
       "    }\n",
       "</style>\n",
       "<table border=\"1\" class=\"dataframe\">\n",
       "  <thead>\n",
       "    <tr style=\"text-align: right;\">\n",
       "      <th></th>\n",
       "      <th>wind</th>\n",
       "      <th>diff</th>\n",
       "      <th>abs_diff</th>\n",
       "    </tr>\n",
       "  </thead>\n",
       "  <tbody>\n",
       "    <tr>\n",
       "      <th>0</th>\n",
       "      <td>Calm, no wind</td>\n",
       "      <td>-0.710648</td>\n",
       "      <td>1.557870</td>\n",
       "    </tr>\n",
       "    <tr>\n",
       "      <th>1</th>\n",
       "      <td>East</td>\n",
       "      <td>-0.968915</td>\n",
       "      <td>1.152493</td>\n",
       "    </tr>\n",
       "    <tr>\n",
       "      <th>2</th>\n",
       "      <td>North</td>\n",
       "      <td>-1.023009</td>\n",
       "      <td>1.417699</td>\n",
       "    </tr>\n",
       "    <tr>\n",
       "      <th>3</th>\n",
       "      <td>South</td>\n",
       "      <td>0.890466</td>\n",
       "      <td>1.207539</td>\n",
       "    </tr>\n",
       "    <tr>\n",
       "      <th>4</th>\n",
       "      <td>West</td>\n",
       "      <td>0.925510</td>\n",
       "      <td>1.156122</td>\n",
       "    </tr>\n",
       "  </tbody>\n",
       "</table>\n",
       "</div>"
      ],
      "text/plain": [
       "            wind      diff  abs_diff\n",
       "0  Calm, no wind -0.710648  1.557870\n",
       "1           East -0.968915  1.152493\n",
       "2          North -1.023009  1.417699\n",
       "3          South  0.890466  1.207539\n",
       "4           West  0.925510  1.156122"
      ]
     },
     "execution_count": 12,
     "metadata": {},
     "output_type": "execute_result"
    }
   ],
   "source": [
    "df_merged[df_merged['T'] <= -20].groupby('wind', as_index=False)[['diff', 'abs_diff']].mean()"
   ]
  },
  {
   "cell_type": "code",
   "execution_count": 13,
   "metadata": {},
   "outputs": [
    {
     "data": {
      "text/html": [
       "<div>\n",
       "<style scoped>\n",
       "    .dataframe tbody tr th:only-of-type {\n",
       "        vertical-align: middle;\n",
       "    }\n",
       "\n",
       "    .dataframe tbody tr th {\n",
       "        vertical-align: top;\n",
       "    }\n",
       "\n",
       "    .dataframe thead th {\n",
       "        text-align: right;\n",
       "    }\n",
       "</style>\n",
       "<table border=\"1\" class=\"dataframe\">\n",
       "  <thead>\n",
       "    <tr style=\"text-align: right;\">\n",
       "      <th></th>\n",
       "      <th>wind</th>\n",
       "      <th>diff</th>\n",
       "      <th>abs_diff</th>\n",
       "    </tr>\n",
       "  </thead>\n",
       "  <tbody>\n",
       "    <tr>\n",
       "      <th>0</th>\n",
       "      <td>Calm, no wind</td>\n",
       "      <td>-0.933571</td>\n",
       "      <td>1.585000</td>\n",
       "    </tr>\n",
       "    <tr>\n",
       "      <th>1</th>\n",
       "      <td>East</td>\n",
       "      <td>-1.081410</td>\n",
       "      <td>1.240385</td>\n",
       "    </tr>\n",
       "    <tr>\n",
       "      <th>2</th>\n",
       "      <td>North</td>\n",
       "      <td>-1.166239</td>\n",
       "      <td>1.432906</td>\n",
       "    </tr>\n",
       "    <tr>\n",
       "      <th>3</th>\n",
       "      <td>South</td>\n",
       "      <td>0.642029</td>\n",
       "      <td>1.047826</td>\n",
       "    </tr>\n",
       "    <tr>\n",
       "      <th>4</th>\n",
       "      <td>West</td>\n",
       "      <td>0.756075</td>\n",
       "      <td>1.042056</td>\n",
       "    </tr>\n",
       "  </tbody>\n",
       "</table>\n",
       "</div>"
      ],
      "text/plain": [
       "            wind      diff  abs_diff\n",
       "0  Calm, no wind -0.933571  1.585000\n",
       "1           East -1.081410  1.240385\n",
       "2          North -1.166239  1.432906\n",
       "3          South  0.642029  1.047826\n",
       "4           West  0.756075  1.042056"
      ]
     },
     "execution_count": 13,
     "metadata": {},
     "output_type": "execute_result"
    }
   ],
   "source": [
    "df_merged[df_merged['T'] <= -25].groupby('wind', as_index=False)[['diff', 'abs_diff']].mean()"
   ]
  },
  {
   "cell_type": "code",
   "execution_count": 19,
   "metadata": {},
   "outputs": [
    {
     "data": {
      "text/html": [
       "<div>\n",
       "<style scoped>\n",
       "    .dataframe tbody tr th:only-of-type {\n",
       "        vertical-align: middle;\n",
       "    }\n",
       "\n",
       "    .dataframe tbody tr th {\n",
       "        vertical-align: top;\n",
       "    }\n",
       "\n",
       "    .dataframe thead th {\n",
       "        text-align: right;\n",
       "    }\n",
       "</style>\n",
       "<table border=\"1\" class=\"dataframe\">\n",
       "  <thead>\n",
       "    <tr style=\"text-align: right;\">\n",
       "      <th></th>\n",
       "      <th>wind</th>\n",
       "      <th>diff</th>\n",
       "      <th>abs_diff</th>\n",
       "    </tr>\n",
       "  </thead>\n",
       "  <tbody>\n",
       "    <tr>\n",
       "      <th>0</th>\n",
       "      <td>East</td>\n",
       "      <td>-0.803509</td>\n",
       "      <td>0.970175</td>\n",
       "    </tr>\n",
       "    <tr>\n",
       "      <th>1</th>\n",
       "      <td>North</td>\n",
       "      <td>-1.307463</td>\n",
       "      <td>1.314925</td>\n",
       "    </tr>\n",
       "    <tr>\n",
       "      <th>2</th>\n",
       "      <td>South</td>\n",
       "      <td>0.442373</td>\n",
       "      <td>0.740678</td>\n",
       "    </tr>\n",
       "    <tr>\n",
       "      <th>3</th>\n",
       "      <td>West</td>\n",
       "      <td>0.858974</td>\n",
       "      <td>1.105128</td>\n",
       "    </tr>\n",
       "  </tbody>\n",
       "</table>\n",
       "</div>"
      ],
      "text/plain": [
       "    wind      diff  abs_diff\n",
       "0   East -0.803509  0.970175\n",
       "1  North -1.307463  1.314925\n",
       "2  South  0.442373  0.740678\n",
       "3   West  0.858974  1.105128"
      ]
     },
     "execution_count": 19,
     "metadata": {},
     "output_type": "execute_result"
    }
   ],
   "source": [
    "df_merged[(df_merged['Ff'] >= 1.5) & (df_merged['T'] <= -25)].groupby('wind', as_index=False)[['diff', 'abs_diff']].mean()"
   ]
  },
  {
   "cell_type": "code",
   "execution_count": 22,
   "metadata": {},
   "outputs": [
    {
     "data": {
      "text/html": [
       "<div>\n",
       "<style scoped>\n",
       "    .dataframe tbody tr th:only-of-type {\n",
       "        vertical-align: middle;\n",
       "    }\n",
       "\n",
       "    .dataframe tbody tr th {\n",
       "        vertical-align: top;\n",
       "    }\n",
       "\n",
       "    .dataframe thead th {\n",
       "        text-align: right;\n",
       "    }\n",
       "</style>\n",
       "<table border=\"1\" class=\"dataframe\">\n",
       "  <thead>\n",
       "    <tr style=\"text-align: right;\">\n",
       "      <th></th>\n",
       "      <th>wind</th>\n",
       "      <th>diff</th>\n",
       "      <th>abs_diff</th>\n",
       "    </tr>\n",
       "  </thead>\n",
       "  <tbody>\n",
       "    <tr>\n",
       "      <th>0</th>\n",
       "      <td>Calm, no wind</td>\n",
       "      <td>-1.208772</td>\n",
       "      <td>2.850877</td>\n",
       "    </tr>\n",
       "    <tr>\n",
       "      <th>1</th>\n",
       "      <td>East</td>\n",
       "      <td>-2.361798</td>\n",
       "      <td>2.934831</td>\n",
       "    </tr>\n",
       "    <tr>\n",
       "      <th>2</th>\n",
       "      <td>North</td>\n",
       "      <td>-1.180153</td>\n",
       "      <td>2.903817</td>\n",
       "    </tr>\n",
       "    <tr>\n",
       "      <th>3</th>\n",
       "      <td>South</td>\n",
       "      <td>2.390909</td>\n",
       "      <td>2.679720</td>\n",
       "    </tr>\n",
       "    <tr>\n",
       "      <th>4</th>\n",
       "      <td>West</td>\n",
       "      <td>2.622672</td>\n",
       "      <td>2.749798</td>\n",
       "    </tr>\n",
       "  </tbody>\n",
       "</table>\n",
       "</div>"
      ],
      "text/plain": [
       "            wind      diff  abs_diff\n",
       "0  Calm, no wind -1.208772  2.850877\n",
       "1           East -2.361798  2.934831\n",
       "2          North -1.180153  2.903817\n",
       "3          South  2.390909  2.679720\n",
       "4           West  2.622672  2.749798"
      ]
     },
     "execution_count": 22,
     "metadata": {},
     "output_type": "execute_result"
    }
   ],
   "source": [
    "df_merged[(df_merged['abs_diff'] >= 2)].groupby('wind', as_index=False)[['diff', 'abs_diff']].mean()"
   ]
  },
  {
   "cell_type": "code",
   "execution_count": 23,
   "metadata": {},
   "outputs": [
    {
     "data": {
      "text/html": [
       "<div>\n",
       "<style scoped>\n",
       "    .dataframe tbody tr th:only-of-type {\n",
       "        vertical-align: middle;\n",
       "    }\n",
       "\n",
       "    .dataframe tbody tr th {\n",
       "        vertical-align: top;\n",
       "    }\n",
       "\n",
       "    .dataframe thead th {\n",
       "        text-align: right;\n",
       "    }\n",
       "</style>\n",
       "<table border=\"1\" class=\"dataframe\">\n",
       "  <thead>\n",
       "    <tr style=\"text-align: right;\">\n",
       "      <th></th>\n",
       "      <th>wind</th>\n",
       "      <th>diff</th>\n",
       "      <th>abs_diff</th>\n",
       "    </tr>\n",
       "  </thead>\n",
       "  <tbody>\n",
       "    <tr>\n",
       "      <th>0</th>\n",
       "      <td>Calm, no wind</td>\n",
       "      <td>-2.178261</td>\n",
       "      <td>2.886957</td>\n",
       "    </tr>\n",
       "    <tr>\n",
       "      <th>1</th>\n",
       "      <td>East</td>\n",
       "      <td>-3.058621</td>\n",
       "      <td>3.058621</td>\n",
       "    </tr>\n",
       "    <tr>\n",
       "      <th>2</th>\n",
       "      <td>North</td>\n",
       "      <td>-2.346296</td>\n",
       "      <td>2.805556</td>\n",
       "    </tr>\n",
       "    <tr>\n",
       "      <th>3</th>\n",
       "      <td>South</td>\n",
       "      <td>1.813043</td>\n",
       "      <td>2.717391</td>\n",
       "    </tr>\n",
       "    <tr>\n",
       "      <th>4</th>\n",
       "      <td>West</td>\n",
       "      <td>2.153846</td>\n",
       "      <td>2.800000</td>\n",
       "    </tr>\n",
       "  </tbody>\n",
       "</table>\n",
       "</div>"
      ],
      "text/plain": [
       "            wind      diff  abs_diff\n",
       "0  Calm, no wind -2.178261  2.886957\n",
       "1           East -3.058621  3.058621\n",
       "2          North -2.346296  2.805556\n",
       "3          South  1.813043  2.717391\n",
       "4           West  2.153846  2.800000"
      ]
     },
     "execution_count": 23,
     "metadata": {},
     "output_type": "execute_result"
    }
   ],
   "source": [
    "df_merged[(df_merged['abs_diff'] >= 2) & (df_merged['T'] <= -25)].groupby('wind', as_index=False)[['diff', 'abs_diff']].mean()"
   ]
  },
  {
   "cell_type": "code",
   "execution_count": 72,
   "metadata": {},
   "outputs": [
    {
     "data": {
      "text/html": [
       "<div>\n",
       "<style scoped>\n",
       "    .dataframe tbody tr th:only-of-type {\n",
       "        vertical-align: middle;\n",
       "    }\n",
       "\n",
       "    .dataframe tbody tr th {\n",
       "        vertical-align: top;\n",
       "    }\n",
       "\n",
       "    .dataframe thead th {\n",
       "        text-align: right;\n",
       "    }\n",
       "</style>\n",
       "<table border=\"1\" class=\"dataframe\">\n",
       "  <thead>\n",
       "    <tr style=\"text-align: right;\">\n",
       "      <th></th>\n",
       "      <th>diff</th>\n",
       "      <th>abs_diff</th>\n",
       "    </tr>\n",
       "    <tr>\n",
       "      <th>Nh</th>\n",
       "      <th></th>\n",
       "      <th></th>\n",
       "    </tr>\n",
       "  </thead>\n",
       "  <tbody>\n",
       "    <tr>\n",
       "      <th>no clouds</th>\n",
       "      <td>0.450430</td>\n",
       "      <td>1.194382</td>\n",
       "    </tr>\n",
       "    <tr>\n",
       "      <th>10%  or less, but not 0</th>\n",
       "      <td>0.388889</td>\n",
       "      <td>0.931746</td>\n",
       "    </tr>\n",
       "    <tr>\n",
       "      <th>20–30%.</th>\n",
       "      <td>0.478215</td>\n",
       "      <td>0.895013</td>\n",
       "    </tr>\n",
       "    <tr>\n",
       "      <th>90  or more, but not 100%</th>\n",
       "      <td>0.277070</td>\n",
       "      <td>0.827389</td>\n",
       "    </tr>\n",
       "    <tr>\n",
       "      <th>40%.</th>\n",
       "      <td>0.159507</td>\n",
       "      <td>0.742606</td>\n",
       "    </tr>\n",
       "    <tr>\n",
       "      <th>50%.</th>\n",
       "      <td>0.185802</td>\n",
       "      <td>0.651235</td>\n",
       "    </tr>\n",
       "    <tr>\n",
       "      <th>60%.</th>\n",
       "      <td>0.089459</td>\n",
       "      <td>0.645676</td>\n",
       "    </tr>\n",
       "    <tr>\n",
       "      <th>70 – 80%.</th>\n",
       "      <td>0.045824</td>\n",
       "      <td>0.618284</td>\n",
       "    </tr>\n",
       "    <tr>\n",
       "      <th>100%.</th>\n",
       "      <td>-0.053405</td>\n",
       "      <td>0.575623</td>\n",
       "    </tr>\n",
       "    <tr>\n",
       "      <th>Sky obscured by fog and/or other meteorological phenomena.</th>\n",
       "      <td>0.400000</td>\n",
       "      <td>0.400000</td>\n",
       "    </tr>\n",
       "  </tbody>\n",
       "</table>\n",
       "</div>"
      ],
      "text/plain": [
       "                                                        diff  abs_diff\n",
       "Nh                                                                    \n",
       "no clouds                                           0.450430  1.194382\n",
       "10%  or less, but not 0                             0.388889  0.931746\n",
       "20–30%.                                             0.478215  0.895013\n",
       "90  or more, but not 100%                           0.277070  0.827389\n",
       "40%.                                                0.159507  0.742606\n",
       "50%.                                                0.185802  0.651235\n",
       "60%.                                                0.089459  0.645676\n",
       "70 – 80%.                                           0.045824  0.618284\n",
       "100%.                                              -0.053405  0.575623\n",
       "Sky obscured by fog and/or other meteorological...  0.400000  0.400000"
      ]
     },
     "execution_count": 72,
     "metadata": {},
     "output_type": "execute_result"
    }
   ],
   "source": [
    "#\n",
    "df_merged.groupby(['Nh'])[['diff','abs_diff']].mean().sort_values('abs_diff', ascending=False)"
   ]
  },
  {
   "cell_type": "code",
   "execution_count": 32,
   "metadata": {},
   "outputs": [
    {
     "data": {
      "text/plain": [
       "<matplotlib.axes._subplots.AxesSubplot at 0x1be80b2bcf8>"
      ]
     },
     "execution_count": 32,
     "metadata": {},
     "output_type": "execute_result"
    },
    {
     "data": {
      "image/png": "[encoded data removed]",
      "text/plain": [
       "<Figure size 432x288 with 1 Axes>"
      ]
     },
     "metadata": {
      "needs_background": "light"
     },
     "output_type": "display_data"
    }
   ],
   "source": [
    "# plots below\n",
    "df_merged[(df_merged['abs_diff'] >= 2) & (df_merged['wind'] == 'Calm, no wind')]['diff'].plot.kde()"
   ]
  },
  {
   "cell_type": "code",
   "execution_count": 33,
   "metadata": {},
   "outputs": [
    {
     "data": {
      "text/plain": [
       "<matplotlib.axes._subplots.AxesSubplot at 0x1be80b8ff60>"
      ]
     },
     "execution_count": 33,
     "metadata": {},
     "output_type": "execute_result"
    },
    {
     "data": {
      "image/png": "[encoded data removed]",
      "text/plain": [
       "<Figure size 432x288 with 1 Axes>"
      ]
     },
     "metadata": {
      "needs_background": "light"
     },
     "output_type": "display_data"
    }
   ],
   "source": [
    "df_merged[ (df_merged['wind'] == 'Calm, no wind')]['diff'].plot.kde()"
   ]
  },
  {
   "cell_type": "code",
   "execution_count": 39,
   "metadata": {},
   "outputs": [
    {
     "data": {
      "text/plain": [
       "<matplotlib.axes._subplots.AxesSubplot at 0x1be81086470>"
      ]
     },
     "execution_count": 39,
     "metadata": {},
     "output_type": "execute_result"
    },
    {
     "data": {
      "image/png": "[encoded data removed]",
      "text/plain": [
       "<Figure size 432x288 with 1 Axes>"
      ]
     },
     "metadata": {
      "needs_background": "light"
     },
     "output_type": "display_data"
    }
   ],
   "source": [
    "df_merged[ (df_merged['wind'] == 'East')]['diff'].plot.hist(bins=30)"
   ]
  },
  {
   "cell_type": "code",
   "execution_count": 44,
   "metadata": {},
   "outputs": [
    {
     "data": {
      "text/plain": [
       "<matplotlib.axes._subplots.AxesSubplot at 0x1be81c36b38>"
      ]
     },
     "execution_count": 44,
     "metadata": {},
     "output_type": "execute_result"
    },
    {
     "data": {
      "image/png": "[encoded data removed]",
      "text/plain": [
       "<Figure size 432x288 with 1 Axes>"
      ]
     },
     "metadata": {
      "needs_background": "light"
     },
     "output_type": "display_data"
    }
   ],
   "source": [
    "df_merged[ (df_merged['wind'] == 'East')]['diff'].plot.kde(bw_method=0.1)"
   ]
  },
  {
   "cell_type": "code",
   "execution_count": 46,
   "metadata": {},
   "outputs": [
    {
     "data": {
      "text/plain": [
       "<matplotlib.axes._subplots.AxesSubplot at 0x1be81cfe898>"
      ]
     },
     "execution_count": 46,
     "metadata": {},
     "output_type": "execute_result"
    },
    {
     "data": {
      "image/png": "[encoded data removed]",
      "text/plain": [
       "<Figure size 432x288 with 1 Axes>"
      ]
     },
     "metadata": {
      "needs_background": "light"
     },
     "output_type": "display_data"
    }
   ],
   "source": [
    "df_merged[(df_merged['abs_diff'] >= 2) & (df_merged['wind'] == 'East')]['diff'].plot.kde(bw_method=0.1)"
   ]
  },
  {
   "cell_type": "code",
   "execution_count": 47,
   "metadata": {},
   "outputs": [
    {
     "data": {
      "text/plain": [
       "<matplotlib.axes._subplots.AxesSubplot at 0x1be82d5fba8>"
      ]
     },
     "execution_count": 47,
     "metadata": {},
     "output_type": "execute_result"
    },
    {
     "data": {
      "image/png": "[encoded data removed]",
      "text/plain": [
       "<Figure size 432x288 with 1 Axes>"
      ]
     },
     "metadata": {
      "needs_background": "light"
     },
     "output_type": "display_data"
    }
   ],
   "source": [
    "df_merged[ (df_merged['wind'] == 'West')]['diff'].plot.kde(bw_method=0.1)"
   ]
  },
  {
   "cell_type": "code",
   "execution_count": 49,
   "metadata": {},
   "outputs": [
    {
     "data": {
      "text/plain": [
       "<matplotlib.axes._subplots.AxesSubplot at 0x1be82e235c0>"
      ]
     },
     "execution_count": 49,
     "metadata": {},
     "output_type": "execute_result"
    },
    {
     "data": {
      "image/png": "[encoded data removed]",
      "text/plain": [
       "<Figure size 432x288 with 1 Axes>"
      ]
     },
     "metadata": {
      "needs_background": "light"
     },
     "output_type": "display_data"
    }
   ],
   "source": [
    "df_merged[(df_merged['abs_diff'] >= 2) & (df_merged['wind'] == 'West')]['diff'].plot.kde(bw_method=0.1)"
   ]
  },
  {
   "cell_type": "code",
   "execution_count": 67,
   "metadata": {},
   "outputs": [
    {
     "data": {
      "text/plain": [
       "<matplotlib.axes._subplots.AxesSubplot at 0x1be8351b470>"
      ]
     },
     "execution_count": 67,
     "metadata": {},
     "output_type": "execute_result"
    },
    {
     "data": {
      "image/png": "[encoded data removed]",
      "text/plain": [
       "<Figure size 432x288 with 1 Axes>"
      ]
     },
     "metadata": {
      "needs_background": "light"
     },
     "output_type": "display_data"
    }
   ],
   "source": [
    "df_merged[(df_merged['wind'] == 'North') & (df_merged['abs_diff']<=3)]['diff'].plot.kde(bw_method=0.1)"
   ]
  },
  {
   "cell_type": "code",
   "execution_count": 60,
   "metadata": {},
   "outputs": [
    {
     "data": {
      "text/plain": [
       "<matplotlib.axes._subplots.AxesSubplot at 0x1be832aaa90>"
      ]
     },
     "execution_count": 60,
     "metadata": {},
     "output_type": "execute_result"
    },
    {
     "data": {
      "image/png": "[encoded data removed]",
      "text/plain": [
       "<Figure size 432x288 with 1 Axes>"
      ]
     },
     "metadata": {
      "needs_background": "light"
     },
     "output_type": "display_data"
    }
   ],
   "source": [
    "df_merged[(df_merged['abs_diff'] >= 2) & (df_merged['wind'] == 'North')]['diff'].plot.kde(bw_method=0.1)"
   ]
  },
  {
   "cell_type": "code",
   "execution_count": 68,
   "metadata": {},
   "outputs": [
    {
     "data": {
      "text/plain": [
       "<matplotlib.axes._subplots.AxesSubplot at 0x1be8356a278>"
      ]
     },
     "execution_count": 68,
     "metadata": {},
     "output_type": "execute_result"
    },
    {
     "data": {
      "image/png": "[encoded data removed]",
      "text/plain": [
       "<Figure size 432x288 with 1 Axes>"
      ]
     },
     "metadata": {
      "needs_background": "light"
     },
     "output_type": "display_data"
    }
   ],
   "source": [
    "df_merged[ (df_merged['wind'] == 'South')]['diff'].plot.kde(bw_method=0.1)"
   ]
  },
  {
   "cell_type": "code",
   "execution_count": 69,
   "metadata": {},
   "outputs": [
    {
     "data": {
      "text/plain": [
       "<matplotlib.axes._subplots.AxesSubplot at 0x1be835d4588>"
      ]
     },
     "execution_count": 69,
     "metadata": {},
     "output_type": "execute_result"
    },
    {
     "data": {
      "image/png": "[encoded data removed]",
      "text/plain": [
       "<Figure size 432x288 with 1 Axes>"
      ]
     },
     "metadata": {
      "needs_background": "light"
     },
     "output_type": "display_data"
    }
   ],
   "source": [
    "df_merged[(df_merged['abs_diff'] >= 2) & (df_merged['wind'] == 'South')]['diff'].plot.kde(bw_method=0.1)"
   ]
  },
  {
   "cell_type": "code",
   "execution_count": null,
   "metadata": {},
   "outputs": [],
   "source": []
  }
 ],
 "metadata": {
  "kernelspec": {
   "display_name": "Python 3",
   "language": "python",
   "name": "python3"
  },
  "language_info": {
   "codemirror_mode": {
    "name": "ipython",
    "version": 3
   },
   "file_extension": ".py",
   "mimetype": "text/x-python",
   "name": "python",
   "nbconvert_exporter": "python",
   "pygments_lexer": "ipython3",
   "version": "3.6.8"
  }
 },
 "nbformat": 4,
 "nbformat_minor": 2
}

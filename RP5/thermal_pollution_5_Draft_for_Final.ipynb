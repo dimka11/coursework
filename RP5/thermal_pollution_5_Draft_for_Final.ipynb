{
 "cells": [
  {
   "cell_type": "code",
   "execution_count": null,
   "metadata": {},
   "outputs": [],
   "source": [
    "# load libraries\n",
    "import os\n",
    "os.chdir('B:/Projects/CourseWork/coursework/RP5/data')\n",
    "\n",
    "import numpy as np\n",
    "import pandas as pd\n",
    "import datetime\n",
    "\n",
    "import seaborn as sns\n",
    "import matplotlib.pyplot as plt\n",
    "import seaborn as sns\n",
    "\n",
    "pd.set_option('display.max_rows', 100)"
   ]
  },
  {
   "cell_type": "code",
   "execution_count": null,
   "metadata": {},
   "outputs": [],
   "source": [
    "# load data omsk\n",
    "\n",
    "df = pd.read_csv('omsk.csv', sep=';', skiprows=6)\n",
    "df.rename(columns={ df.columns[0]: \"time\" }, inplace = True)\n",
    "df['time'] =  pd.to_datetime(df['time'], format='%d.%m.%Y %H:%M')\n",
    "df = df.set_index('time')\n",
    "df = df.iloc[::-1]\n",
    "# df = df.drop(columns=['P', 'Pa', 'ff10', 'ff3', 'Ch', 'Td', 'E', 'Tg', 'W1', 'W2', 'Cl', 'Nh', 'H', 'Cm', \"E'\", 'Unnamed: 29'])\n",
    "df.head(2)"
   ]
  },
  {
   "cell_type": "code",
   "execution_count": null,
   "metadata": {},
   "outputs": [],
   "source": [
    "# load data airport\n",
    "\n",
    "dfa = pd.read_csv('airport.csv', sep=';', skiprows=6)\n",
    "dfa.rename(columns={ dfa.columns[0]: \"time\" }, inplace = True)\n",
    "dfa['time'] =  pd.to_datetime(dfa['time'], format='%d.%m.%Y %H:%M')\n",
    "dfa = dfa.set_index('time')\n",
    "dfa = dfa.iloc[::-1]\n",
    "dfa.head(3)"
   ]
  },
  {
   "cell_type": "code",
   "execution_count": null,
   "metadata": {},
   "outputs": [],
   "source": [
    "# merge to one df for comparing\n",
    "# get slice of data\n",
    "\n",
    "#filter by time\n",
    "dfa = dfa.loc[(dfa.index.time == datetime.time(0,0)) | (dfa.index.time == datetime.time(3,0)) | (dfa.index.time == datetime.time(6,0)) | (dfa.index.time == datetime.time(9,0)) | (dfa.index.time == datetime.time(12,0)) | (dfa.index.time == datetime.time(15,0)) | (dfa.index.time == datetime.time(18,0)) | (dfa.index.time == datetime.time(21,0))]\n",
    "\n",
    "MONTH_START = 11\n",
    "MONTH_END = 3\n",
    "DAY_START = 1\n",
    "DAY_END = 1\n",
    "\n",
    "df_omsk = df[datetime.date(2012,MONTH_START,1):datetime.date(2013,MONTH_END,DAY_END)]\n",
    "df_airport = dfa[datetime.date(2012,MONTH_START,DAY_START):datetime.date(2013,MONTH_END,DAY_END)]\n",
    "\n",
    "df_omsk = df_omsk.append(df[datetime.date(2013,MONTH_START,DAY_START):datetime.date(2014,MONTH_END,DAY_END)])\n",
    "df_airport = df_airport.append(dfa[datetime.date(2013,MONTH_START,DAY_START):datetime.date(2014,MONTH_END,1)])\n",
    "\n",
    "df_omsk = df_omsk.append(df[datetime.date(2014,MONTH_START,DAY_START):datetime.date(2015,MONTH_END,DAY_END)])\n",
    "df_airport = df_airport.append(dfa[datetime.date(2014,MONTH_START,DAY_START):datetime.date(2015,MONTH_END,1)])\n",
    "\n",
    "df_omsk = df_omsk.append(df[datetime.date(2015,MONTH_START,DAY_START):datetime.date(2016,MONTH_END,DAY_END)])\n",
    "df_airport = df_airport.append(dfa[datetime.date(2015,MONTH_START,DAY_START):datetime.date(2016,MONTH_END,DAY_END)])\n",
    "\n",
    "df_omsk = df_omsk.append(df[datetime.date(2016,MONTH_START,DAY_START):datetime.date(2017,MONTH_END,DAY_END)])\n",
    "df_airport = df_airport.append(dfa[datetime.date(2016,MONTH_START,DAY_START):datetime.date(2017,MONTH_END,DAY_END)])\n",
    "\n",
    "df_omsk = df_omsk.append(df[datetime.date(2017,MONTH_START,DAY_START):datetime.date(2018,MONTH_END,DAY_END)])\n",
    "df_airport = df_airport.append(dfa[datetime.date(2017,MONTH_START,DAY_START):datetime.date(2018,MONTH_END,DAY_END)])\n",
    "\n",
    "df_omsk = df_omsk.append(df[datetime.date(2018,MONTH_START,DAY_START):datetime.date(2019,MONTH_END,DAY_END)])\n",
    "df_airport = df_airport.append(dfa[datetime.date(2018,MONTH_START,DAY_START):datetime.date(2019,MONTH_END,DAY_END)])\n",
    "\n",
    "df_omsk = df_omsk.append(df[datetime.date(2019,MONTH_START,DAY_START):datetime.date(2020,MONTH_END,DAY_END)])\n",
    "df_airport = df_airport.append(dfa[datetime.date(2019,MONTH_START,DAY_START):datetime.date(2020,MONTH_END,DAY_END)])\n",
    "\n",
    "df_merged = df_omsk[['T']].copy()\n",
    "df_merged['T_a'] = df_airport['T']\n",
    "\n",
    "df_merged['wind'] = df_omsk['DD']\n",
    "df_merged['clouds'] = df_omsk['N']\n",
    "df_merged['Nh'] = df_omsk['Nh']\n",
    "df_merged['diff'] = df_merged['T'] - df_merged['T_a']\n",
    "df_merged['abs_diff'] = abs(df_merged['T'] - df_merged['T_a'])\n",
    "df_merged['H'] = df_omsk['H']\n",
    "df_merged['Ff'] = df_omsk['Ff']\n",
    "df_merged['ff10'] = df_omsk['ff10']"
   ]
  },
  {
   "cell_type": "code",
   "execution_count": null,
   "metadata": {},
   "outputs": [],
   "source": [
    "# show\n",
    "# df_show = df_merged[abs(df_merged['diff']) > 1 ] # .sort_values(by=['diff'])\n",
    "# df_show.groupby('wind', as_index=False)['diff', 'abs_diff'].mean()\n",
    "\n",
    "df_merged.groupby('wind', as_index=False)[['diff', 'abs_diff']].mean()"
   ]
  },
  {
   "cell_type": "code",
   "execution_count": null,
   "metadata": {},
   "outputs": [],
   "source": [
    "# rename wind columns value to 4 quarter\n",
    "df_merged['wind'] = df_merged['wind'].replace(['Wind blowing from the west','Wind blowing from the south-west','Wind blowing from the west-southwest','Wind blowing from the west-northwest'],'West')\n",
    "df_merged['wind'] = df_merged['wind'].replace(['Wind blowing from the north','Wind blowing from the north-west','Wind blowing from the north-northwest','Wind blowing from the north-northeast'],'North')\n",
    "df_merged['wind'] = df_merged['wind'].replace(['Wind blowing from the east','Wind blowing from the north-east','Wind blowing from the east-southeast','Wind blowing from the east-northeast'],'East')\n",
    "df_merged['wind'] = df_merged['wind'].replace(['Wind blowing from the south','Wind blowing from the south-east','Wind blowing from the south-southwest','Wind blowing from the south-southeast'],'South')"
   ]
  },
  {
   "cell_type": "code",
   "execution_count": null,
   "metadata": {},
   "outputs": [],
   "source": [
    "df_merged.groupby('wind', as_index=False)[['diff', 'abs_diff']].mean()"
   ]
  },
  {
   "cell_type": "code",
   "execution_count": null,
   "metadata": {},
   "outputs": [],
   "source": [
    "df_merged[df_merged['T'] <= -15].groupby('wind', as_index=False)[['diff', 'abs_diff']].mean()"
   ]
  },
  {
   "cell_type": "code",
   "execution_count": null,
   "metadata": {},
   "outputs": [],
   "source": [
    "df_merged[df_merged['T'] <= -20].groupby('wind', as_index=False)[['diff', 'abs_diff']].mean()"
   ]
  },
  {
   "cell_type": "code",
   "execution_count": null,
   "metadata": {},
   "outputs": [],
   "source": [
    "df_merged[df_merged['T'] <= -25].groupby('wind', as_index=False)[['diff', 'abs_diff']].mean()"
   ]
  },
  {
   "cell_type": "code",
   "execution_count": null,
   "metadata": {},
   "outputs": [],
   "source": [
    "df_merged[(df_merged['Ff'] >= 1.5) & (df_merged['T'] <= -25)].groupby('wind', as_index=False)[['diff', 'abs_diff']].mean()"
   ]
  },
  {
   "cell_type": "code",
   "execution_count": null,
   "metadata": {},
   "outputs": [],
   "source": [
    "df_merged[(df_merged['abs_diff'] >= 2)].groupby('wind', as_index=False)[['diff', 'abs_diff']].mean()"
   ]
  },
  {
   "cell_type": "code",
   "execution_count": null,
   "metadata": {},
   "outputs": [],
   "source": [
    "df_merged[(df_merged['abs_diff'] >= 2) & (df_merged['T'] <= -25)].groupby('wind', as_index=False)[['diff', 'abs_diff']].mean()"
   ]
  },
  {
   "cell_type": "code",
   "execution_count": null,
   "metadata": {},
   "outputs": [],
   "source": [
    "#\n",
    "df_merged.groupby(['Nh'])[['diff','abs_diff']].mean().sort_values('abs_diff', ascending=False)"
   ]
  },
  {
   "cell_type": "code",
   "execution_count": null,
   "metadata": {},
   "outputs": [],
   "source": [
    "# plots below\n",
    "df_merged[(df_merged['abs_diff'] >= 2) & (df_merged['wind'] == 'Calm, no wind')]['diff'].plot.kde()"
   ]
  },
  {
   "cell_type": "code",
   "execution_count": null,
   "metadata": {},
   "outputs": [],
   "source": [
    "df_merged[ (df_merged['wind'] == 'Calm, no wind')]['diff'].plot.kde()"
   ]
  },
  {
   "cell_type": "code",
   "execution_count": null,
   "metadata": {},
   "outputs": [],
   "source": [
    "df_merged[ (df_merged['wind'] == 'East')]['diff'].plot.hist(bins=30)"
   ]
  },
  {
   "cell_type": "code",
   "execution_count": null,
   "metadata": {},
   "outputs": [],
   "source": [
    "df_merged[ (df_merged['wind'] == 'East')]['diff'].plot.kde(bw_method=0.1)"
   ]
  },
  {
   "cell_type": "code",
   "execution_count": null,
   "metadata": {},
   "outputs": [],
   "source": [
    "df_merged[(df_merged['abs_diff'] >= 2) & (df_merged['wind'] == 'East')]['diff'].plot.kde(bw_method=0.1)"
   ]
  },
  {
   "cell_type": "code",
   "execution_count": null,
   "metadata": {},
   "outputs": [],
   "source": [
    "df_merged[ (df_merged['wind'] == 'West')]['diff'].plot.kde(bw_method=0.1)"
   ]
  },
  {
   "cell_type": "code",
   "execution_count": null,
   "metadata": {},
   "outputs": [],
   "source": [
    "df_merged[(df_merged['abs_diff'] >= 2) & (df_merged['wind'] == 'West')]['diff'].plot.kde(bw_method=0.1)"
   ]
  },
  {
   "cell_type": "code",
   "execution_count": null,
   "metadata": {},
   "outputs": [],
   "source": [
    "df_merged[(df_merged['wind'] == 'North') & (df_merged['abs_diff']<=3)]['diff'].plot.kde(bw_method=0.1)"
   ]
  },
  {
   "cell_type": "code",
   "execution_count": null,
   "metadata": {},
   "outputs": [],
   "source": [
    "df_merged[(df_merged['abs_diff'] >= 2) & (df_merged['wind'] == 'North')]['diff'].plot.kde(bw_method=0.1)"
   ]
  },
  {
   "cell_type": "code",
   "execution_count": null,
   "metadata": {},
   "outputs": [],
   "source": [
    "df_merged[ (df_merged['wind'] == 'South')]['diff'].plot.kde(bw_method=0.1)"
   ]
  },
  {
   "cell_type": "code",
   "execution_count": null,
   "metadata": {},
   "outputs": [],
   "source": [
    "df_merged[(df_merged['abs_diff'] >= 2) & (df_merged['wind'] == 'South')]['diff'].plot.kde(bw_method=0.1)"
   ]
  },
  {
   "cell_type": "code",
   "execution_count": null,
   "metadata": {},
   "outputs": [],
   "source": [
    "fig, ax = plt.subplots(figsize=(15,7))\n",
    "ax = df_merged[(df_merged['wind'] == 'East') & (df_merged['T'] <= -25)]['diff'].plot(kind='kde',bw_method=0.2)\n",
    "ax = df_merged[(df_merged['wind'] == 'North') & (df_merged['T'] <= -25)]['diff'].plot(kind='kde',bw_method=0.2)\n",
    "ax = df_merged[(df_merged['wind'] == 'South') & (df_merged['T'] <= -25)]['diff'].plot(kind='kde',bw_method=0.2)\n",
    "ax = df_merged[(df_merged['wind'] == 'West') & (df_merged['T'] <= -25)]['diff'].plot(kind='kde',bw_method=0.2)\n",
    "ax.legend([\"East\", \"North\", \"South\", \"West\"]);"
   ]
  },
  {
   "cell_type": "code",
   "execution_count": null,
   "metadata": {},
   "outputs": [],
   "source": [
    "fig, ax = plt.subplots(figsize=(15,7))\n",
    "ax = df_merged[(df_merged['T'] <= -15) & (df_merged['wind'] == 'North')]['diff'].plot(kind='kde',bw_method=0.1)\n",
    "ax = df_merged[(df_merged['T'] <= -20) & (df_merged['wind'] == 'North')]['diff'].plot(kind='kde',bw_method=0.1)\n",
    "ax = df_merged[(df_merged['T'] <= -25) & (df_merged['wind'] == 'North')]['diff'].plot(kind='kde',bw_method=0.1)\n",
    "ax.legend([\"-15\", \"-20\", \"-25\"]);"
   ]
  },
  {
   "cell_type": "code",
   "execution_count": null,
   "metadata": {},
   "outputs": [],
   "source": [
    "fig, ax = plt.subplots(figsize=(15,7))\n",
    "ax = df_merged[(df_merged['T'] <= -15) & (df_merged['wind'] == 'North')]['abs_diff'].plot(kind='kde',bw_method=0.1)\n",
    "ax = df_merged[(df_merged['T'] <= -20) & (df_merged['wind'] == 'North')]['abs_diff'].plot(kind='kde',bw_method=0.1)\n",
    "ax = df_merged[(df_merged['T'] <= -25) & (df_merged['wind'] == 'North')]['abs_diff'].plot(kind='kde',bw_method=0.1)\n",
    "ax.legend([\"-15\", \"-20\", \"-25\"]);"
   ]
  },
  {
   "cell_type": "code",
   "execution_count": null,
   "metadata": {},
   "outputs": [],
   "source": [
    "fig, ax = plt.subplots(figsize=(15,7))\n",
    "ax = df_merged[(df_merged['wind'] == 'East') & (df_merged['T'] <= -25)]['abs_diff'].plot(kind='kde',bw_method=0.2)\n",
    "ax = df_merged[(df_merged['wind'] == 'North') & (df_merged['T'] <= -25)]['abs_diff'].plot(kind='kde',bw_method=0.2)\n",
    "ax = df_merged[(df_merged['wind'] == 'South') & (df_merged['T'] <= -25)]['abs_diff'].plot(kind='kde',bw_method=0.2)\n",
    "ax = df_merged[(df_merged['wind'] == 'West') & (df_merged['T'] <= -25)]['abs_diff'].plot(kind='kde',bw_method=0.2)\n",
    "ax.legend([\"East\", \"North\", \"South\", \"West\"]);"
   ]
  },
  {
   "cell_type": "code",
   "execution_count": null,
   "metadata": {},
   "outputs": [],
   "source": []
  }
 ],
 "metadata": {
  "kernelspec": {
   "display_name": "Python 3",
   "language": "python",
   "name": "python3"
  },
  "language_info": {
   "codemirror_mode": {
    "name": "ipython",
    "version": 3
   },
   "file_extension": ".py",
   "mimetype": "text/x-python",
   "name": "python",
   "nbconvert_exporter": "python",
   "pygments_lexer": "ipython3",
   "version": "3.6.8"
  }
 },
 "nbformat": 4,
 "nbformat_minor": 2
}

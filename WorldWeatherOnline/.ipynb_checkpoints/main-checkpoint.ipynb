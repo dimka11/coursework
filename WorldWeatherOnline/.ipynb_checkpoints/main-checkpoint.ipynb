{
 "cells": [
  {
   "cell_type": "code",
   "execution_count": 2,
   "metadata": {
    "pycharm": {
     "is_executing": false
    }
   },
   "outputs": [],
   "source": [
    "from wwo_hist import retrieve_hist_data\n",
    "import os\n",
    "#os.chdir(\".\\YOUR_PATH\")\n",
    "os.chdir(\"B:/Projects/CourseWork/WorldWeatherOnline/data\")"
   ]
  },
  {
   "cell_type": "code",
   "execution_count": null,
   "metadata": {},
   "outputs": [],
   "source": [
    "#2008-06-31"
   ]
  },
  {
   "cell_type": "code",
   "execution_count": 8,
   "metadata": {},
   "outputs": [],
   "source": [
    "#frequency = 3\n",
    "frequency = 1\n",
    "start_date = '11-DEC-2018'\n",
    "end_date = '11-MAR-2019'\n",
    "api_key = '1ab13535d00f47fc889142739192111'\n",
    "#location_list = ['singapore','california']"
   ]
  },
  {
   "cell_type": "code",
   "execution_count": 9,
   "metadata": {},
   "outputs": [
    {
     "name": "stdout",
     "output_type": "stream",
     "text": [
      "\n",
      "\n",
      "Retrieving weather data for singapore\n",
      "\n",
      "\n",
      "Currently retrieving data for singapore: from 2018-12-11 to 2018-12-31\n",
      "Time elapsed (hh:mm:ss.ms) 0:00:01.167271\n",
      "Currently retrieving data for singapore: from 2019-01-01 to 2019-01-31\n",
      "Time elapsed (hh:mm:ss.ms) 0:00:02.461373\n",
      "Currently retrieving data for singapore: from 2019-02-01 to 2019-02-28\n",
      "Time elapsed (hh:mm:ss.ms) 0:00:03.616270\n",
      "Currently retrieving data for singapore: from 2019-03-01 to 2019-03-11\n",
      "Time elapsed (hh:mm:ss.ms) 0:00:04.370327\n",
      "\n",
      "\n",
      "export singapore completed!\n",
      "\n",
      "\n",
      "\n",
      "\n",
      "Retrieving weather data for california\n",
      "\n",
      "\n",
      "Currently retrieving data for california: from 2018-12-11 to 2018-12-31\n",
      "Time elapsed (hh:mm:ss.ms) 0:00:01.095524\n",
      "Currently retrieving data for california: from 2019-01-01 to 2019-01-31\n",
      "Time elapsed (hh:mm:ss.ms) 0:00:02.355623\n",
      "Currently retrieving data for california: from 2019-02-01 to 2019-02-28\n",
      "Time elapsed (hh:mm:ss.ms) 0:00:03.548479\n",
      "Currently retrieving data for california: from 2019-03-01 to 2019-03-11\n",
      "Time elapsed (hh:mm:ss.ms) 0:00:04.319867\n",
      "\n",
      "\n",
      "export california completed!\n",
      "\n",
      "\n"
     ]
    }
   ],
   "source": [
    "hist_weather_data = retrieve_hist_data(api_key,\n",
    "                                location_list,\n",
    "                                start_date,\n",
    "                                end_date,\n",
    "                                frequency,\n",
    "                                location_label = False,\n",
    "                                export_csv = True,\n",
    "                                store_df = True)"
   ]
  }
 ],
 "metadata": {
  "kernelspec": {
   "display_name": "Python 3",
   "language": "python",
   "name": "python3"
  },
  "language_info": {
   "codemirror_mode": {
    "name": "ipython",
    "version": 3
   },
   "file_extension": ".py",
   "mimetype": "text/x-python",
   "name": "python",
   "nbconvert_exporter": "python",
   "pygments_lexer": "ipython3",
   "version": "3.6.8"
  }
 },
 "nbformat": 4,
 "nbformat_minor": 1
}
